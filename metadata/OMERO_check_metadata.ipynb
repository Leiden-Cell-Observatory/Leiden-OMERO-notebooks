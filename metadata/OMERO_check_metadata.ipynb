{
 "cells": [
  {
   "cell_type": "code",
   "execution_count": null,
   "metadata": {},
   "outputs": [],
   "source": [
    "from omero.gateway import BlitzGateway\n",
    "import ezomero\n",
    "from dotenv import load_dotenv\n"

   ]
  },
  {
   "cell_type": "code",
   "execution_count": null,
   "metadata": {},
   "outputs": [],
   "source": [
    "load_dotenv(override=True)\n",
    "\n",
    "conn = BlitzGateway(\n",
    "    host=os.environ.get(\"HOST\"),\n",
    "    username=os.environ.get(\"USER_NAME\"),\n",
    "    passwd=os.environ.get(\"PASSWORD\"),\n",
    "    port=os.environ.get(\"PORT\"),\n",
    "    secure=True,\n",
    ")\n",
    "print(conn.connect())\n",
    "conn.c.enableKeepAlive(60)"
   ]
  },
  {
   "cell_type": "code",
   "execution_count": null,
   "metadata": {},
   "outputs": [],
   "source": [
    "file_ann_ids = ezomero.get_map_annotation_ids(conn, 'Image', 1601)\n",
    "print(file_ann_ids)\n",
    "for ann_id in file_ann_ids:\n",
    "    print(ezomero.get_map_annotation(conn, ann_id))\n",
    "    break"
   ]
  },
  {
   "cell_type": "code",
   "execution_count": null,
   "metadata": {},
   "outputs": [],
   "source": [
    "ns = 'jax.org/jax/example/namespace'\n",
    "\n",
    "d = {'species': 'human',\n",
    "     'occupation': 'time traveler',\n",
    "     'first name': 'Kyle',\n",
    "     'surname': 'Reese'}\n",
    "\n",
    "ezomero.post_map_annotation(conn, \"Image\", 1601, d, ns)"
   ]
  }
 ],
 "metadata": {
  "kernelspec": {
   "display_name": "omero-guide-cellprofiler",
   "language": "python",
   "name": "python3"
  },
  "language_info": {
   "codemirror_mode": {
    "name": "ipython",
    "version": 3
   },
   "file_extension": ".py",
   "mimetype": "text/x-python",
   "name": "python",
   "nbconvert_exporter": "python",
   "pygments_lexer": "ipython3",
   "version": "3.8.18"
  }
 },
 "nbformat": 4,
 "nbformat_minor": 2
}
