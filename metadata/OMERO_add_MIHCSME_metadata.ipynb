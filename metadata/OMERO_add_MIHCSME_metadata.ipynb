{
 "cells": [
  {
   "cell_type": "markdown",
   "id": "0",
   "metadata": {},
   "source": [
    "# MIHCSME Metadata Upload - Simple Workflow\n",
    "\n",
    "This notebook demonstrates a straightforward approach to uploading MIHCSME metadata to OMERO.\n",
    "\n",
    "## Steps:\n",
    "1. Connect to OMERO\n",
    "2. Load and validate MIHCSME Excel file\n",
    "3. Upload metadata to Screen and Wells\n",
    "4. Verify the upload"
   ]
  },
  {
   "cell_type": "code",
   "execution_count": null,
   "id": "1",
   "metadata": {},
   "outputs": [],
   "source": [
    "# Import required libraries\n",
    "from omero.gateway import BlitzGateway\n",
    "import os\n",
    "from dotenv import load_dotenv\n",
    "import logging\n",
    "\n",
    "# Import our MIHCSME uploader\n",
    "import src.omero_metadata_uploader as omu\n",
    "import importlib\n",
    "importlib.reload(omu)\n",
    "\n",
    "# Set up logging for better feedback\n",
    "logging.basicConfig(level=logging.INFO, format='%(asctime)s - %(levelname)s - %(message)s')\n",
    "\n",
    "print(\"✅ Libraries imported successfully\")"
   ]
  },
  {
   "cell_type": "code",
   "execution_count": null,
   "id": "2",
   "metadata": {},
   "outputs": [],
   "source": [
    "# 1. Connect to OMERO\n",
    "load_dotenv(override=True)\n",
    "\n",
    "conn = BlitzGateway(\n",
    "    host=os.environ.get(\"HOST\"),\n",
    "    username=os.environ.get(\"USER_NAME\"),\n",
    "    passwd=os.environ.get(\"PASSWORD\"),\n",
    "    port=os.environ.get(\"PORT\"),\n",
    "    secure=True,\n",
    ")\n",
    "\n",
    "connected = conn.connect()\n",
    "if connected:\n",
    "    conn.c.enableKeepAlive(60)\n",
    "    print(f\"✅ Connected to OMERO as {conn.getUser().getName()}\")\n",
    "else:\n",
    "    print(\"❌ Failed to connect to OMERO\")"
   ]
  },
  {
   "cell_type": "code",
   "execution_count": null,
   "id": "3",
   "metadata": {},
   "outputs": [],
   "source": [
    "# 2. Configure your upload\n",
    "EXCEL_FILE = \"MIHCSME Template.xlsx\"  # Path to your MIHCSME Excel file\n",
    "SCREEN_ID = 151                        # Your target Screen ID\n",
    "NAMESPACE = \"metadata\"                # Namespace for annotations\n",
    "\n",
    "print(f\"📋 Configuration:\")\n",
    "print(f\"   Excel file: {EXCEL_FILE}\")\n",
    "print(f\"   Target Screen ID: {SCREEN_ID}\")\n",
    "print(f\"   Namespace: {NAMESPACE}\")"
   ]
  },
  {
   "cell_type": "code",
   "execution_count": null,
   "id": "4",
   "metadata": {},
   "outputs": [],
   "source": [
    "# 3. Load and validate the MIHCSME file\n",
    "print(\"📖 Loading MIHCSME Excel file...\")\n",
    "\n",
    "# Basic file validation\n",
    "validation_result = omu.validate_mihcsme_file_structure(EXCEL_FILE)\n",
    "if validation_result['is_valid']:\n",
    "    print(\"✅ MIHCSME file structure is valid\")\n",
    "else:\n",
    "    print(\"❌ MIHCSME file has errors:\")\n",
    "    for error in validation_result['errors']:\n",
    "        print(f\"   - {error}\")\n",
    "\n",
    "# Convert Excel to JSON format\n",
    "metadata_json = omu.convert_excel_to_json(EXCEL_FILE)\n",
    "print(f\"✅ Loaded metadata with {len(metadata_json.get('AssayConditions', []))} well conditions\")"
   ]
  },
  {
   "cell_type": "code",
   "execution_count": null,
   "id": "5",
   "metadata": {},
   "outputs": [],
   "source": [
    "# 4. Upload metadata to OMERO\n",
    "print(\"🚀 Uploading metadata to OMERO...\")\n",
    "\n",
    "result = omu.annotate_omero_object(\n",
    "    conn, \n",
    "    target_object_type=\"Screen\", \n",
    "    target_object_id=SCREEN_ID, \n",
    "    metadata_json=metadata_json, \n",
    "    base_namespace=NAMESPACE,\n",
    "    replace=True\n",
    ")\n",
    "\n",
    "print(f\"\\n📊 Upload Results:\")\n",
    "print(f\"   Status: {result['status']}\")\n",
    "print(f\"   Message: {result['message']}\")\n",
    "print(f\"   Wells processed: {result['wells_processed']}\")\n",
    "print(f\"   Wells succeeded: {result['wells_succeeded']}\")\n",
    "print(f\"   Wells failed: {result['wells_failed']}\")\n",
    "\n",
    "if result['status'] == 'success':\n",
    "    print(\"✅ Metadata upload completed successfully!\")\n",
    "else:\n",
    "    print(\"⚠️ Upload completed with some issues. Check the logs above.\")"
   ]
  },
  {
   "cell_type": "code",
   "execution_count": null,
   "id": "6",
   "metadata": {},
   "outputs": [],
   "source": [
    "# 6. Check well-level metadata\n",
    "print(\"🧪 Checking well-level metadata...\")\n",
    "\n",
    "# Get the first plate in the screen\n",
    "plates = list(screen.listChildren())\n",
    "if plates:\n",
    "    plate = plates[0]\n",
    "    print(f\"Checking plate: {plate.getName()}\")\n",
    "    \n",
    "    # Get first few wells\n",
    "    wells = list(plate.listChildren())[:5]\n",
    "    wells_with_metadata = 0\n",
    "    \n",
    "    for well in wells:\n",
    "        well_annotations = [ann for ann in well.listAnnotations() \n",
    "                          if hasattr(ann, 'getNs') and ann.getNs() and ann.getNs().startswith(NAMESPACE)]\n",
    "        \n",
    "        if well_annotations:\n",
    "            wells_with_metadata += 1\n",
    "            row, col = well.row, well.column\n",
    "            well_name = f\"{chr(ord('A') + row)}{col + 1:02d}\"\n",
    "            print(f\"   Well {well_name}: {len(well_annotations)} metadata annotations\")\n",
    "    \n",
    "    print(f\"\\n✅ {wells_with_metadata} out of {len(wells)} wells checked have metadata\")\n",
    "else:\n",
    "    print(\"❌ No plates found in the screen\")"
   ]
  },
  {
   "cell_type": "markdown",
   "id": "7",
   "metadata": {},
   "source": [
    "## Close connection\n"
   ]
  },
  {
   "cell_type": "code",
   "execution_count": null,
   "id": "8",
   "metadata": {},
   "outputs": [],
   "source": [
    "# Close OMERO connection\n",
    "conn.close()\n",
    "print(\"👋 OMERO connection closed\")"
   ]
  }
 ],
 "metadata": {
  "kernelspec": {
   "display_name": "omero-guide-cellprofiler",
   "language": "python",
   "name": "python3"
  },
  "language_info": {
   "codemirror_mode": {
    "name": "ipython",
    "version": 3
   },
   "file_extension": ".py",
   "mimetype": "text/x-python",
   "name": "python",
   "nbconvert_exporter": "python",
   "pygments_lexer": "ipython3",
   "version": "3.8.18"
  }
 },
 "nbformat": 4,
 "nbformat_minor": 5
}
