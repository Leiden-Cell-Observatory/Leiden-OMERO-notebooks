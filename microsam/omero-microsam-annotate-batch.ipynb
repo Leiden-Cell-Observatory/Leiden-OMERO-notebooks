{
 "cells": [
  {
   "cell_type": "markdown",
   "id": "0",
   "metadata": {},
   "source": [
    "### Fine tuning SAM with OMERO data using a batch approach - Enhanced Version"
   ]
  },
  {
   "cell_type": "markdown",
   "id": "1",
   "metadata": {},
   "source": [
    "### Features\n",
    "- Supports multiple OMERO data types (single images, datasets, projects, plates, and screens)\n",
    "- Batch processing with micro-SAM for segmentation\n",
    "- Stores all annotations in OMERO as ROIs and attachments\n",
    "- Uses dask for lazy loading of images for better memory management\n",
    "- Supports 3D volumetric segmentation for z-stacks\n",
    "- **NEW**: Support for multiple z-slices in 2D mode\n",
    "- **NEW**: Support for time series analysis\n",
    "- **NEW**: Support for patch-based extraction and annotation\n",
    "- **NEW**: Improved resumption of annotation sessions\n",
    "\n",
    "### TODOs\n",
    "- Store all annotations into OMERO, see: https://github.com/computational-cell-analytics/micro-sam/issues/445; in series annotator possible to add commit path with prompts, but they get overwritten\n",
    "- Clean up the errors and warnings output from napari\n",
    "- Improve ROI creation for 3D volumes to better represent volumetric masks in OMERO\n",
    "- Work with Dask arrays directly in micro-sam\n",
    "- Add recovery mode to handle cases when users abort in the middle of a batch annotation session (currently annotations made before closing are preserved, but could be improved with a dedicated recovery workflow)"
   ]
  },
  {
   "cell_type": "markdown",
   "id": "2",
   "metadata": {},
   "source": [
    "Instructions:\n",
    "  - To make it easier to run with OMERO and to not expose login and passwords, password is stored in .env file (see example .env_example). Still it is not recommended to save credentials unencrypted hence a better solution will be worked on.\n",
    "  - This notebook supports processing images from various OMERO container types: images, datasets, projects, plates, and screens.\n",
    "  - Specify the container type in the `datatype` variable and the container ID in the `data_id` variable.\n",
    "  - You can choose to segment all images in the container or select a random subset for training and validation.\n",
    "  - **NEW**: You can now specify multiple z-slices and timepoints to analyze.\n",
    "  - **NEW**: You can extract and analyze patches from large images."
   ]
  },
  {
   "cell_type": "code",
   "execution_count": null,
   "id": "3",
   "metadata": {},
   "outputs": [],
   "source": [
    "# OMERO-related imports\n",
    "import omero\n",
    "from omero.gateway import BlitzGateway\n",
    "import ezomero\n",
    "\n",
    "# Scientific computing and image processing\n",
    "import numpy as np\n",
    "import pandas as pd\n",
    "\n",
    "# File and system operations\n",
    "import os\n",
    "import shutil\n",
    "import tempfile\n",
    "import warnings\n",
    "from dotenv import load_dotenv\n",
    "\n",
    "# Import our custom modules\n",
    "from src.omero_functions import (\n",
    "    print_object_details, \n",
    "    get_images_from_container, \n",
    "    get_dask_image, \n",
    "    upload_rois_and_labels\n",
    ")\n",
    "from src.file_io_functions import (\n",
    "    zip_directory, \n",
    "    store_annotations_in_zarr, \n",
    "    zarr_to_tiff,\n",
    "    cleanup_local_embeddings,\n",
    "    organize_local_outputs,\n",
    "    save_annotations_schema\n",
    ")\n",
    "from src.image_functions import (\n",
    "    label_to_rois,\n",
    "    generate_patch_coordinates,\n",
    "    extract_patch\n",
    ")\n",
    "from src.utils import NumpyEncoder, interleave_arrays\n",
    "from src.processing_pipeline import process_omero_batch_with_dask"
   ]
  },
  {
   "cell_type": "markdown",
   "id": "4",
   "metadata": {},
   "source": [
    "### Setup connection with OMERO"
   ]
  },
  {
   "cell_type": "code",
   "execution_count": null,
   "id": "5",
   "metadata": {},
   "outputs": [],
   "source": [
    "load_dotenv(override=True)\n",
    "conn = BlitzGateway(host=os.environ.get(\"HOST\"), username=os.environ.get(\"USER_NAME\"), passwd=os.environ.get(\"PASSWORD\"), group=os.environ.get(\"GROUP\"), secure=True)\n",
    "connection_status = conn.connect()\n",
    "if connection_status:\n",
    "    print(\"Connected to OMERO Server\")\n",
    "else:\n",
    "    print(\"Connection to OMERO Server Failed\")\n",
    "conn.c.enableKeepAlive(60)"
   ]
  },
  {
   "cell_type": "markdown",
   "id": "6",
   "metadata": {},
   "source": [
    "### Get info from the dataset"
   ]
  },
  {
   "cell_type": "code",
   "execution_count": null,
   "id": "7",
   "metadata": {},
   "outputs": [],
   "source": [
    "datatype = \"dataset\" # \"screen\", \"plate\", \"project\", \"dataset\", \"image\"\n",
    "data_id = 1112\n",
    "\n",
    "# Validate that data_id matches datatype and print details\n",
    "if datatype == \"project\":\n",
    "    project = conn.getObject(\"Project\", data_id)\n",
    "    if project is None:\n",
    "        raise ValueError(f\"Project with ID {data_id} not found\")\n",
    "    print_object_details(conn, project, \"project\")\n",
    "    \n",
    "elif datatype == \"plate\":\n",
    "    plate = conn.getObject(\"Plate\", data_id)\n",
    "    if plate is None:\n",
    "        raise ValueError(f\"Plate with ID {data_id} not found\")\n",
    "    print_object_details(conn, plate, \"plate\")\n",
    "    \n",
    "elif datatype == \"dataset\":\n",
    "    dataset = conn.getObject(\"Dataset\", data_id)\n",
    "    if dataset is None:\n",
    "        raise ValueError(f\"Dataset with ID {data_id} not found\")\n",
    "    print_object_details(conn, dataset, \"dataset\")\n",
    "    \n",
    "elif datatype == \"image\":\n",
    "    image = conn.getObject(\"Image\", data_id)\n",
    "    if image is None:\n",
    "        raise ValueError(f\"Image with ID {data_id} not found\")\n",
    "    print_object_details(conn, image, \"image\")\n",
    "\n",
    "else:\n",
    "    raise ValueError(\"Invalid datatype specified\")"
   ]
  },
  {
   "cell_type": "markdown",
   "id": "8",
   "metadata": {},
   "source": [
    "### Create temporary folder to store training data, this will be uploaded to OMERO later"
   ]
  },
  {
   "cell_type": "code",
   "execution_count": null,
   "id": "9",
   "metadata": {},
   "outputs": [],
   "source": [
    "output_directory = os.path.normcase(tempfile.mkdtemp())\n",
    "print('Output Directory: ', output_directory)"
   ]
  },
  {
   "cell_type": "markdown",
   "id": "10",
   "metadata": {},
   "source": [
    "### Start batch annotation"
   ]
  },
  {
   "cell_type": "code",
   "execution_count": null,
   "id": "11",
   "metadata": {},
   "outputs": [],
   "source": [
    "# Get all images from the specified container\n",
    "images, source_desc = get_images_from_container(conn, datatype, data_id)\n",
    "\n",
    "# If we need to filter by image size\n",
    "# images = [img for img in images if img.getSizeX() > 1000 and img.getSizeY() > 1000]\n",
    "# print(f\"Filtered to {len(images)} images with size > 1000x1000\")\n",
    "\n",
    "# Configuration for batch processing\n",
    "segment_all = True  # Process all images in the dataset?\n",
    "train_n = 2  # Number of training images (if not segment_all)\n",
    "validate_n = 1  # Number of validation images (if not segment_all)\n",
    "model_type = 'vit_l'  # SAM model to use\n",
    "batch_size = 2  # Number of images to process at once\n",
    "channel = 3  # Channel to segment (usually the nuclear/main stain channel)\n",
    "three_d = False  # Use 3D mode?\n",
    "z_slices = [0]  # Which z-slices to process (if not three_d)\n",
    "z_slice_mode = \"specific\"  # \"all\", \"random\", or \"specific\"\n",
    "timepoints = [0]  # Which timepoints to process\n",
    "timepoint_mode = \"specific\"  # \"all\", \"random\", or \"specific\"\n",
    "resume_from_table = False  # Resume from an existing tracking table?\n",
    "\n",
    "# Patch extraction settings\n",
    "use_patches = False  # Extract and process patches instead of full images?\n",
    "patch_size = (512, 512)  # Size of patches to extract\n",
    "patches_per_image = 1  # Number of patches to extract per image\n",
    "random_patches = True  # Extract random patches or centered patches?\n",
    "\n",
    "# Optional read-only mode (for OMERO servers where you don't have write permissions)\n",
    "read_only_mode = False  # Save annotations locally instead of uploading to OMERO\n",
    "local_output_dir = \"./omero_annotations\"  # Directory to save local annotations\n",
    "\n",
    "if read_only_mode:\n",
    "    os.makedirs(local_output_dir, exist_ok=True)\n",
    "    \n",
    "# Process the images\n",
    "table_id, combined_images = process_omero_batch_with_dask(\n",
    "    conn,\n",
    "    images,\n",
    "    output_directory,\n",
    "    datatype,\n",
    "    data_id,\n",
    "    source_desc,\n",
    "    model_type=model_type,\n",
    "    batch_size=batch_size,\n",
    "    channel=channel,\n",
    "    timepoints=timepoints,\n",
    "    timepoint_mode=timepoint_mode,\n",
    "    z_slices=z_slices,\n",
    "    z_slice_mode=z_slice_mode,\n",
    "    segment_all=segment_all,\n",
    "    train_n=train_n,\n",
    "    validate_n=validate_n,\n",
    "    three_d=three_d,\n",
    "    use_patches=use_patches,\n",
    "    patch_size=patch_size,\n",
    "    patches_per_image=patches_per_image,\n",
    "    random_patches=random_patches,\n",
    "    resume_from_table=resume_from_table,\n",
    "    read_only_mode=read_only_mode,\n",
    "    local_output_dir=local_output_dir\n",
    ")\n",
    "\n",
    "print(f\"Annotation complete! Table ID: {table_id}\")\n",
    "print(f\"Processed {len(combined_images)} images\")"
   ]
  },
  {
   "cell_type": "markdown",
   "id": "12",
   "metadata": {},
   "source": [
    "### View annotations tracking table"
   ]
  },
  {
   "cell_type": "code",
   "execution_count": null,
   "id": "13",
   "metadata": {},
   "outputs": [],
   "source": [
    "# Retrieve and display the tracking table\n",
    "if table_id is not None:\n",
    "    tracking_df = ezomero.get_table(conn, table_id)\n",
    "    print(f\"Tracking table contains {len(tracking_df)} rows\")\n",
    "    display(tracking_df)\n",
    "else:\n",
    "    print(\"No tracking table was created\")"
   ]
  },
  {
   "cell_type": "markdown",
   "id": "14",
   "metadata": {},
   "source": [
    "### Clean up and close connection"
   ]
  },
  {
   "cell_type": "code",
   "execution_count": null,
   "id": "15",
   "metadata": {},
   "outputs": [],
   "source": [
    "# Clean up temporary directory\n",
    "try:\n",
    "    shutil.rmtree(output_directory)\n",
    "    print(f\"Removed temporary directory: {output_directory}\")\n",
    "except Exception as e:\n",
    "    print(f\"Error removing temporary directory: {e}\")\n",
    "\n",
    "# Close OMERO connection\n",
    "conn.close()\n",
    "print(\"OMERO connection closed\")"
   ]
  }
 ],
 "metadata": {
  "kernelspec": {
   "display_name": "micro-sam",
   "language": "python",
   "name": "python3"
  },
  "language_info": {
   "codemirror_mode": {
    "name": "ipython",
    "version": 3
   },
   "file_extension": ".py",
   "mimetype": "text/x-python",
   "name": "python",
   "nbconvert_exporter": "python",
   "pygments_lexer": "ipython3",
   "version": "3.10.15"
  }
 },
 "nbformat": 4,
 "nbformat_minor": 5
}
