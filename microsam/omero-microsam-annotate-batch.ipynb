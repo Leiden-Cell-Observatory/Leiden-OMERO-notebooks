{
 "cells": [
  {
   "cell_type": "markdown",
   "id": "0",
   "metadata": {
    "editable": true,
    "slideshow": {
     "slide_type": ""
    },
    "tags": []
   },
   "source": [
    "## Annotation of OMERO data using napari-micro-sam"
   ]
  },
  {
   "cell_type": "markdown",
   "id": "1",
   "metadata": {},
   "source": [
    "### Instructions:\n",
    "  - To run with OMERO and to not expose login in the notebook, the username is stored in .env file (see example .env_example). The password needs to be typed everytime.\n",
    "    Still it is not recommended to save credentials unencrypted, hence a better solution will be worked on.\n",
    "  - This notebook supports processing images from various OMERO object types: images, datasets, projects, plates, and screens.\n",
    "  - Specify the container type in the `datatype` variable and the object ID in the `data_id` variable.\n",
    "  - You can choose to segment all images in the container or select a random subset for training and validation.\n",
    "    - You can now specify multiple z-slices and timepoints to analyze.\n",
    "    - You can extract and analyze patches from large images, to reduce the number of object to annotated and still annotate more images."
   ]
  },
  {
   "cell_type": "markdown",
   "id": "2",
   "metadata": {},
   "source": [
    "### TODOs\n",
    "See [TODO.md](./TODO.md) for the complete list of planned improvements and features."
   ]
  },
  {
   "cell_type": "markdown",
   "id": "3",
   "metadata": {},
   "source": [
    "## Load all required packages and dependencies"
   ]
  },
  {
   "cell_type": "code",
   "execution_count": 54,
   "id": "4",
   "metadata": {
    "editable": true,
    "slideshow": {
     "slide_type": ""
    },
    "tags": []
   },
   "outputs": [
    {
     "name": "stdout",
     "output_type": "stream",
     "text": [
      "Created temporary work directory:  c:\\users\\maarten\\appdata\\local\\temp\\tmp6r90im4s\n"
     ]
    }
   ],
   "source": [
    "# OMERO-related imports\n",
    "import omero\n",
    "from omero.gateway import BlitzGateway\n",
    "import ezomero\n",
    "from napari.settings import get_settings\n",
    "\n",
    "# Scientific computing and image processing\n",
    "import numpy as np\n",
    "import pandas as pd\n",
    "\n",
    "# File and system operations\n",
    "import os\n",
    "import shutil\n",
    "import tempfile\n",
    "import warnings\n",
    "from dotenv import load_dotenv\n",
    "\n",
    "import importlib\n",
    "# Reload specific modules\n",
    "import src.omero_functions\n",
    "import src.file_io_functions\n",
    "import src.image_functions\n",
    "import src.utils\n",
    "import src.processing_pipeline\n",
    "\n",
    "importlib.reload(src.omero_functions)\n",
    "importlib.reload(src.file_io_functions)\n",
    "importlib.reload(src.image_functions)\n",
    "importlib.reload(src.utils)\n",
    "importlib.reload(src.processing_pipeline)\n",
    "\n",
    "# Re-import after reloading\n",
    "from src.omero_functions import print_object_details, get_images_from_container, get_dask_image, upload_rois_and_labels, initialize_tracking_table, update_tracking_table_rows, get_dask_image_multiple, get_dask_dimensions\n",
    "from src.file_io_functions import zip_directory, store_annotations_in_zarr, zarr_to_tiff, cleanup_local_embeddings, organize_local_outputs, save_annotations_schema\n",
    "from src.image_functions import label_to_rois, generate_patch_coordinates, extract_patch\n",
    "from src.utils import NumpyEncoder, interleave_arrays\n",
    "from src.processing_pipeline import process_omero_batch\n",
    "import sys\n",
    "\n",
    "# Add auto-reload capability for src module\n",
    "import importlib.util\n",
    "\n",
    "# Force reload of main src package if it's already loaded\n",
    "if \"src\" in sys.modules:\n",
    "    importlib.reload(sys.modules[\"src\"])\n",
    "\n",
    "# Define a helper function to reload modules more concisely\n",
    "def reload_module(module_name):\n",
    "    if module_name in sys.modules:\n",
    "        importlib.reload(sys.modules[module_name])\n",
    "    return __import__(module_name)\n",
    "\n",
    "# Reload all src submodules\n",
    "src_modules = [\n",
    "    \"src.omero_functions\",\n",
    "    \"src.file_io_functions\",\n",
    "    \"src.image_functions\", \n",
    "    \"src.utils\",\n",
    "    \"src.processing_pipeline\"\n",
    "]\n",
    "\n",
    "for module in src_modules:\n",
    "    reload_module(module)\n",
    "\n",
    "# Re-import after reloading to ensure we have the latest versions\n",
    "\n",
    "get_settings().application.ipy_interactive = False\n",
    "\n",
    "\n",
    "output_directory = os.path.normcase(tempfile.mkdtemp())\n",
    "print('Created temporary work directory: ', output_directory)"
   ]
  },
  {
   "cell_type": "markdown",
   "id": "5",
   "metadata": {
    "editable": true,
    "slideshow": {
     "slide_type": ""
    },
    "tags": []
   },
   "source": [
    "### Setup connection with OMERO"
   ]
  },
  {
   "cell_type": "code",
   "execution_count": 55,
   "id": "6",
   "metadata": {
    "editable": true,
    "slideshow": {
     "slide_type": ""
    },
    "tags": []
   },
   "outputs": [
    {
     "name": "stderr",
     "output_type": "stream",
     "text": [
      "INFO:omero.gateway:created connection (uuid=c306629a-70ab-4ffe-ac6d-02a734e22f4e)\n",
      "INFO:omero.util.Resources:Starting\n"
     ]
    },
    {
     "name": "stdout",
     "output_type": "stream",
     "text": [
      "Connected to OMERO Server\n"
     ]
    }
   ],
   "source": [
    "load_dotenv(override=True)\n",
    "# Ask for password if not set\n",
    "if not os.environ.get(\"PASSWORD\"):\n",
    "    from getpass import getpass\n",
    "    os.environ[\"PASSWORD\"] = getpass(\"Enter OMERO server password: \")\n",
    "\n",
    "conn = BlitzGateway(host=os.environ.get(\"HOST\"), username=os.environ.get(\"USER_NAME\"), passwd=os.environ.get(\"PASSWORD\"), group=os.environ.get(\"GROUP\"), secure=True)\n",
    "\n",
    "connection_status = conn.connect()\n",
    "if connection_status:\n",
    "    print(\"Connected to OMERO Server\")\n",
    "else:\n",
    "    print(\"Connection to OMERO Server Failed\")\n",
    "conn.c.enableKeepAlive(60)"
   ]
  },
  {
   "cell_type": "markdown",
   "id": "7",
   "metadata": {
    "editable": true,
    "slideshow": {
     "slide_type": ""
    },
    "tags": []
   },
   "source": [
    "### Select your dataset and check its content"
   ]
  },
  {
   "cell_type": "code",
   "execution_count": 56,
   "id": "8",
   "metadata": {
    "editable": true,
    "slideshow": {
     "slide_type": ""
    },
    "tags": []
   },
   "outputs": [
    {
     "name": "stdout",
     "output_type": "stream",
     "text": [
      "\n",
      "Project Details:\n",
      "- Name: Senescence\n",
      "- ID: 101\n",
      "- Owner: root root\n",
      "- Group: system\n",
      "- Number of datasets: 3\n",
      "- Total images: 6\n"
     ]
    }
   ],
   "source": [
    "datatype = \"project\" # \"screen\", \"plate\", \"project\", \"dataset\", \"image\"\n",
    "data_id = 101\n",
    "\n",
    "# Validate that data_id matches datatype and print details\n",
    "if datatype == \"project\":\n",
    "    project = conn.getObject(\"Project\", data_id)\n",
    "    if project is None:\n",
    "        raise ValueError(f\"Project with ID {data_id} not found\")\n",
    "    print_object_details(conn, project, \"project\")\n",
    "    \n",
    "elif datatype == \"plate\":\n",
    "    plate = conn.getObject(\"Plate\", data_id)\n",
    "    if plate is None:\n",
    "        raise ValueError(f\"Plate with ID {data_id} not found\")\n",
    "    print_object_details(conn, plate, \"plate\")\n",
    "    \n",
    "elif datatype == \"dataset\":\n",
    "    dataset = conn.getObject(\"Dataset\", data_id)\n",
    "    if dataset is None:\n",
    "        raise ValueError(f\"Dataset with ID {data_id} not found\")\n",
    "    print_object_details(conn, dataset, \"dataset\")\n",
    "    \n",
    "elif datatype == \"image\":\n",
    "    image = conn.getObject(\"Image\", data_id)\n",
    "    if image is None:\n",
    "        raise ValueError(f\"Image with ID {data_id} not found\")\n",
    "    print_object_details(conn, image, \"image\")\n",
    "\n",
    "else:\n",
    "    raise ValueError(\"Invalid datatype specified\")\n",
    "\n",
    "# Check for any training tables already present in the dataset"
   ]
  },
  {
   "cell_type": "markdown",
   "id": "9",
   "metadata": {},
   "source": [
    "### Choose a training data set name\n",
    "Use a specific name if you want to resume from an existing table  \n",
    "Or use the datetime format for a new training set"
   ]
  },
  {
   "cell_type": "code",
   "execution_count": 57,
   "id": "10",
   "metadata": {},
   "outputs": [
    {
     "name": "stdout",
     "output_type": "stream",
     "text": [
      "Training Set Name:  training_data_20240602f\n"
     ]
    }
   ],
   "source": [
    "# Set a name for the training set\n",
    "# Use a specific name if you want to resume from an existing table\n",
    "# Or use the datetime format for a new training set\n",
    "trainingset_name = \"training_data_20240602f\"  # Use a fixed name if resuming from an existing table\n",
    "# trainingset_name = \"training_data_\" + pd.Timestamp.now().strftime(\"%Y%m%d_%H%M\")\n",
    "print('Training Set Name: ', trainingset_name)"
   ]
  },
  {
   "cell_type": "markdown",
   "id": "11",
   "metadata": {
    "editable": true,
    "slideshow": {
     "slide_type": ""
    },
    "tags": []
   },
   "source": [
    "### Start batch annotation with optimized table management"
   ]
  },
  {
   "cell_type": "code",
   "execution_count": 58,
   "id": "12",
   "metadata": {
    "editable": true,
    "slideshow": {
     "slide_type": ""
    },
    "tags": []
   },
   "outputs": [
    {
     "name": "stdout",
     "output_type": "stream",
     "text": [
      "Found 6 images from Project: Senescence (ID: 101)\n",
      "Configuration Summary:\n",
      "  - Segment All Images: False\n",
      "  - Training Images: 3\n",
      "  - Validation Images: 3\n",
      "  - Model Type: vit_b_lm\n",
      "  - Batch Size: 6\n",
      "  - Channel: 1\n",
      "  - 3D Mode: False\n",
      "  - Z-Slices: [0] (Mode: random)\n",
      "  - Timepoints: [0, 1, 2, 3, 4, 5, 6, 7, 8, 9, 10, 11, 12, 13] (Mode: random)\n",
      "  - Group Z/T by Image: True\n",
      "  - Use Patches: True\n",
      "  - Patch Size: (256, 256)\n",
      "  - Patches per Image: 2\n",
      "  - Random Patches: True\n",
      "  - Read-Only Mode: False\n"
     ]
    }
   ],
   "source": [
    "# Get all images from the specified container\n",
    "images, source_desc = get_images_from_container(conn, datatype, data_id)\n",
    "\n",
    "# Configuration for batch processing\n",
    "segment_all = False  # Process all images in the dataset?\n",
    "train_n = 3  # Number of training images (if not segment_all)\n",
    "validate_n = 3  # Number of validation images (if not segment_all)\n",
    "model_type = 'vit_b_lm'  # SAM model to use\n",
    "batch_size = 6  # Number of images to process at once\n",
    "channel = 1  # Channel to segment (usually the nuclear/main stain channel), starting from 0\n",
    "three_d = False  # Use 3D mode?\n",
    "z_slices = [0]  # Which z-slices to process (if not three_d) list(range(11))\n",
    "z_slice_mode = \"random\"  # \"all\", \"random\", or \"specific\"\n",
    "timepoints = list(range(14))   # Which timepoints to process\n",
    "timepoint_mode = \"random\"  # \"all\", \"random\", or \"specific\"\n",
    "group_by_image = True  # Keep all z-slices and timepoints from the same image together\n",
    "resume_from_table = True  # Set to True to resume from an existing tracking table\n",
    "\n",
    "# Patch extraction settings\n",
    "use_patches = True  # Extract and process patches instead of full images?\n",
    "patch_size = (256, 256)  # Size of patches to extract\n",
    "patches_per_image = 2  # Number of patches to extract per image\n",
    "random_patches = True  # Extract random patches or centered patches?\n",
    "\n",
    "# Optional read-only mode (for OMERO servers where you don't have write permissions)\n",
    "read_only_mode = False  # Save annotations locally instead of uploading to OMERO\n",
    "local_output_dir = \"./omero_annotations\"  # Directory to save local annotations\n",
    "\n",
    "if read_only_mode:\n",
    "    # Use trainingset_name in local output directory if provided\n",
    "    if trainingset_name:\n",
    "        local_output_dir = f\"./omero_annotations_{trainingset_name}\"\n",
    "    os.makedirs(local_output_dir, exist_ok=True)\n",
    "    \n",
    "# Summarize the configuration for the user\n",
    "print(f\"Configuration Summary:\")\n",
    "print(f\"  - Segment All Images: {segment_all}\")\n",
    "print(f\"  - Training Images: {train_n}\")\n",
    "print(f\"  - Validation Images: {validate_n}\")\n",
    "print(f\"  - Model Type: {model_type}\")\n",
    "print(f\"  - Batch Size: {batch_size}\")\n",
    "print(f\"  - Channel: {channel}\")\n",
    "print(f\"  - 3D Mode: {three_d}\")\n",
    "print(f\"  - Z-Slices: {z_slices} (Mode: {z_slice_mode})\")\n",
    "print(f\"  - Timepoints: {timepoints} (Mode: {timepoint_mode})\")\n",
    "print(f\"  - Group Z/T by Image: {group_by_image}\")\n",
    "print(f\"  - Use Patches: {use_patches}\")\n",
    "if(use_patches):\n",
    "    print(f\"  - Patch Size: {patch_size}\")\n",
    "    print(f\"  - Patches per Image: {patches_per_image}\")\n",
    "    print(f\"  - Random Patches: {random_patches}\")\n",
    "print(f\"  - Read-Only Mode: {read_only_mode}\")\n"
   ]
  },
  {
   "cell_type": "code",
   "execution_count": 59,
   "id": "c3182a1c",
   "metadata": {},
   "outputs": [
    {
     "name": "stdout",
     "output_type": "stream",
     "text": [
      "Found 6 images from Project: Senescence (ID: 101)\n"
     ]
    },
    {
     "data": {
      "application/vnd.jupyter.widget-view+json": {
       "model_id": "e3f958acfdc34270a11289c3cd447e34",
       "version_major": 2,
       "version_minor": 0
      },
      "text/plain": [
       "VBox(children=(Tab(children=(VBox(children=(HTML(value='<h3>Basic Processing Settings</h3>'), Checkbox(value=F…"
      ]
     },
     "metadata": {},
     "output_type": "display_data"
    }
   ],
   "source": [
    "import ipywidgets as widgets\n",
    "from IPython.display import display\n",
    "\n",
    "# Get all images from the specified container\n",
    "images, source_desc = get_images_from_container(conn, datatype, data_id)\n",
    "\n",
    "\n",
    "# Create interactive widgets for configuration\n",
    "def create_config_widget():\n",
    "    # Basic processing settings\n",
    "    segment_all_widget = widgets.Checkbox(value=False, description=\"Segment All Images\")\n",
    "    train_n_widget = widgets.IntSlider(\n",
    "        value=3, min=1, max=20, description=\"Training Images\"\n",
    "    )\n",
    "    validate_n_widget = widgets.IntSlider(\n",
    "        value=3, min=1, max=20, description=\"Validation Images\"\n",
    "    )\n",
    "\n",
    "    # Model and processing settings\n",
    "    model_type_widget = widgets.Dropdown(\n",
    "        options=[\"vit_b_lm\", \"vit_l_lm\", \"vit_h_lm\"],\n",
    "        value=\"vit_b_lm\",\n",
    "        description=\"Model Type\",\n",
    "    )\n",
    "    batch_size_widget = widgets.IntSlider(\n",
    "        value=6, min=1, max=20, description=\"Batch Size\"\n",
    "    )\n",
    "    channel_widget = widgets.IntSlider(value=1, min=0, max=5, description=\"Channel\")\n",
    "    three_d_widget = widgets.Checkbox(value=False, description=\"3D Mode\")\n",
    "\n",
    "    # Z-slice settings\n",
    "    z_slices_widget = widgets.Text(\n",
    "        value=\"[0]\", description=\"Z-Slices\", placeholder=\"e.g., [0] or [0,1,2]\"\n",
    "    )\n",
    "    z_slice_mode_widget = widgets.Dropdown(\n",
    "        options=[\"all\", \"random\", \"specific\"],\n",
    "        value=\"random\",\n",
    "        description=\"Z-Slice Mode\",\n",
    "    )\n",
    "\n",
    "    # Timepoint settings\n",
    "    timepoints_widget = widgets.Text(\n",
    "        value=\"list(range(14))\",\n",
    "        description=\"Timepoints\",\n",
    "        placeholder=\"e.g., [0,1,2] or list(range(14))\",\n",
    "    )\n",
    "    timepoint_mode_widget = widgets.Dropdown(\n",
    "        options=[\"all\", \"random\", \"specific\"],\n",
    "        value=\"random\",\n",
    "        description=\"Timepoint Mode\",\n",
    "    )\n",
    "\n",
    "    resume_from_table_widget = widgets.Checkbox(\n",
    "        value=True, description=\"Resume from Table\"\n",
    "    )\n",
    "    \n",
    "    # Group related slices setting\n",
    "    group_by_image_widget = widgets.Checkbox(\n",
    "        value=True, description=\"Group Z/T by Image\",\n",
    "        tooltip=\"Keep all slices and timepoints from the same image together in either training or validation sets\"\n",
    "    )\n",
    "\n",
    "    # Patch extraction settings\n",
    "    use_patches_widget = widgets.Checkbox(value=True, description=\"Use Patches\")\n",
    "    patch_width_widget = widgets.IntSlider(\n",
    "        value=256, min=64, max=1024, step=64, description=\"Patch Width\"\n",
    "    )\n",
    "    patch_height_widget = widgets.IntSlider(\n",
    "        value=256, min=64, max=1024, step=64, description=\"Patch Height\"\n",
    "    )\n",
    "    patches_per_image_widget = widgets.IntSlider(\n",
    "        value=2, min=1, max=10, description=\"Patches per Image\"\n",
    "    )\n",
    "    random_patches_widget = widgets.Checkbox(value=True, description=\"Random Patches\")\n",
    "\n",
    "    # Read-only mode settings\n",
    "    read_only_mode_widget = widgets.Checkbox(value=False, description=\"Read-Only Mode\")\n",
    "    local_output_dir_widget = widgets.Text(\n",
    "        value=\"./omero_annotations\", description=\"Local Output Dir\"\n",
    "    )\n",
    "\n",
    "    # Output area for configuration summary\n",
    "    output = widgets.Output()\n",
    "\n",
    "    def update_summary(*args):\n",
    "        with output:\n",
    "            output.clear_output()\n",
    "\n",
    "            # Parse complex inputs\n",
    "            try:\n",
    "                z_slices = eval(z_slices_widget.value) if z_slices_widget.value else [0]\n",
    "            except:\n",
    "                z_slices = [0]\n",
    "\n",
    "            try:\n",
    "                timepoints = (\n",
    "                    eval(timepoints_widget.value) if timepoints_widget.value else [0]\n",
    "                )\n",
    "            except:\n",
    "                timepoints = [0]\n",
    "\n",
    "            patch_size = (patch_width_widget.value, patch_height_widget.value)\n",
    "\n",
    "            print(\"Configuration Summary:\")\n",
    "            print(f\"  - Segment All Images: {segment_all_widget.value}\")\n",
    "            print(f\"  - Training Images: {train_n_widget.value}\")\n",
    "            print(f\"  - Validation Images: {validate_n_widget.value}\")\n",
    "            print(f\"  - Model Type: {model_type_widget.value}\")\n",
    "            print(f\"  - Batch Size: {batch_size_widget.value}\")\n",
    "            print(f\"  - Channel: {channel_widget.value}\")\n",
    "            print(f\"  - 3D Mode: {three_d_widget.value}\")\n",
    "            print(f\"  - Z-Slices: {z_slices} (Mode: {z_slice_mode_widget.value})\")\n",
    "            print(f\"  - Timepoints: {timepoints} (Mode: {timepoint_mode_widget.value})\")\n",
    "            print(f\"  - Group Z/T by Image: {group_by_image_widget.value}\")\n",
    "            print(f\"  - Use Patches: {use_patches_widget.value}\")\n",
    "            if use_patches_widget.value:\n",
    "                print(f\"  - Patch Size: {patch_size}\")\n",
    "                print(f\"  - Patches per Image: {patches_per_image_widget.value}\")\n",
    "                print(f\"  - Random Patches: {random_patches_widget.value}\")\n",
    "            print(f\"  - Read-Only Mode: {read_only_mode_widget.value}\")\n",
    "            if read_only_mode_widget.value:\n",
    "                print(f\"  - Local Output Directory: {local_output_dir_widget.value}\")\n",
    "\n",
    "    # Observe changes in widgets\n",
    "    widgets_to_observe = [\n",
    "        segment_all_widget,\n",
    "        train_n_widget,\n",
    "        validate_n_widget,\n",
    "        model_type_widget,\n",
    "        batch_size_widget,\n",
    "        channel_widget,\n",
    "        three_d_widget,\n",
    "        z_slices_widget,\n",
    "        z_slice_mode_widget,\n",
    "        timepoints_widget,\n",
    "        timepoint_mode_widget,\n",
    "        resume_from_table_widget,\n",
    "        group_by_image_widget,\n",
    "        use_patches_widget,\n",
    "        patch_width_widget,\n",
    "        patch_height_widget,\n",
    "        patches_per_image_widget,\n",
    "        random_patches_widget,\n",
    "        read_only_mode_widget,\n",
    "        local_output_dir_widget,\n",
    "    ]\n",
    "\n",
    "    for widget in widgets_to_observe:\n",
    "        widget.observe(update_summary, names=\"value\")\n",
    "\n",
    "    # Initial summary\n",
    "    update_summary()\n",
    "\n",
    "    # Function to get current configuration\n",
    "    def get_config():\n",
    "        try:\n",
    "            z_slices = eval(z_slices_widget.value) if z_slices_widget.value else [0]\n",
    "        except:\n",
    "            z_slices = [0]\n",
    "\n",
    "        try:\n",
    "            timepoints = (\n",
    "                eval(timepoints_widget.value) if timepoints_widget.value else [0]\n",
    "            )\n",
    "        except:\n",
    "            timepoints = [0]\n",
    "\n",
    "        config = {\n",
    "            \"segment_all\": segment_all_widget.value,\n",
    "            \"train_n\": train_n_widget.value,\n",
    "            \"validate_n\": validate_n_widget.value,\n",
    "            \"model_type\": model_type_widget.value,\n",
    "            \"batch_size\": batch_size_widget.value,\n",
    "            \"channel\": channel_widget.value,\n",
    "            \"three_d\": three_d_widget.value,\n",
    "            \"z_slices\": z_slices,\n",
    "            \"z_slice_mode\": z_slice_mode_widget.value,\n",
    "            \"timepoints\": timepoints,\n",
    "            \"timepoint_mode\": timepoint_mode_widget.value,\n",
    "            \"resume_from_table\": resume_from_table_widget.value,\n",
    "            \"group_by_image\": group_by_image_widget.value,\n",
    "            \"use_patches\": use_patches_widget.value,\n",
    "            \"patch_size\": (patch_width_widget.value, patch_height_widget.value),\n",
    "            \"patches_per_image\": patches_per_image_widget.value,\n",
    "            \"random_patches\": random_patches_widget.value,\n",
    "            \"read_only_mode\": read_only_mode_widget.value,\n",
    "            \"local_output_dir\": local_output_dir_widget.value,\n",
    "        }\n",
    "        return config\n",
    "\n",
    "    # Layout the widgets\n",
    "    basic_settings = widgets.VBox(\n",
    "        [\n",
    "            widgets.HTML(\"<h3>Basic Processing Settings</h3>\"),\n",
    "            segment_all_widget,\n",
    "            train_n_widget,\n",
    "            validate_n_widget,\n",
    "            model_type_widget,\n",
    "            batch_size_widget,\n",
    "            channel_widget,\n",
    "            three_d_widget,\n",
    "        ]\n",
    "    )\n",
    "\n",
    "    slice_settings = widgets.VBox(\n",
    "        [\n",
    "            widgets.HTML(\"<h3>Slice & Timepoint Settings</h3>\"),\n",
    "            z_slices_widget,\n",
    "            z_slice_mode_widget,\n",
    "            timepoints_widget,\n",
    "            timepoint_mode_widget,\n",
    "            group_by_image_widget,\n",
    "            resume_from_table_widget,\n",
    "        ]\n",
    "    )\n",
    "\n",
    "    patch_settings = widgets.VBox(\n",
    "        [\n",
    "            widgets.HTML(\"<h3>Patch Extraction Settings</h3>\"),\n",
    "            use_patches_widget,\n",
    "            patch_width_widget,\n",
    "            patch_height_widget,\n",
    "            patches_per_image_widget,\n",
    "            random_patches_widget,\n",
    "        ]\n",
    "    )\n",
    "\n",
    "    output_settings = widgets.VBox(\n",
    "        [\n",
    "            widgets.HTML(\"<h3>Output Settings</h3>\"),\n",
    "            read_only_mode_widget,\n",
    "            local_output_dir_widget,\n",
    "        ]\n",
    "    )\n",
    "\n",
    "    # Create tabs for better organization\n",
    "    tab = widgets.Tab()\n",
    "    tab.children = [basic_settings, slice_settings, patch_settings, output_settings]\n",
    "    tab.titles = [\"Basic\", \"Slices/Time\", \"Patches\", \"Output\"]\n",
    "\n",
    "    main_widget = widgets.VBox(\n",
    "        [tab, widgets.HTML(\"<h3>Configuration Summary</h3>\"), output]\n",
    "    )\n",
    "\n",
    "    return main_widget, get_config\n",
    "\n",
    "\n",
    "# Create and display the widget\n",
    "config_widget, get_config = create_config_widget()\n",
    "display(config_widget)\n"
   ]
  },
  {
   "cell_type": "code",
   "execution_count": 60,
   "id": "90fea8b0",
   "metadata": {},
   "outputs": [
    {
     "name": "stdout",
     "output_type": "stream",
     "text": [
      "Configuration loaded from widget!\n"
     ]
    }
   ],
   "source": [
    "# Get configuration from widget\n",
    "config = get_config()\n",
    "\n",
    "# Extract values for use in processing\n",
    "segment_all = config[\"segment_all\"]\n",
    "train_n = config[\"train_n\"]\n",
    "validate_n = config[\"validate_n\"]\n",
    "model_type = config[\"model_type\"]\n",
    "batch_size = config[\"batch_size\"]\n",
    "channel = config[\"channel\"]\n",
    "three_d = config[\"three_d\"]\n",
    "z_slices = config[\"z_slices\"]\n",
    "z_slice_mode = config[\"z_slice_mode\"]\n",
    "timepoints = config[\"timepoints\"]\n",
    "timepoint_mode = config[\"timepoint_mode\"]\n",
    "group_by_image = config[\"group_by_image\"]\n",
    "resume_from_table = config[\"resume_from_table\"]\n",
    "use_patches = config[\"use_patches\"]\n",
    "patch_size = config[\"patch_size\"]\n",
    "patches_per_image = config[\"patches_per_image\"]\n",
    "random_patches = config[\"random_patches\"]\n",
    "read_only_mode = config[\"read_only_mode\"]\n",
    "local_output_dir = config[\"local_output_dir\"]\n",
    "\n",
    "# Handle read-only mode directory setup\n",
    "if read_only_mode:\n",
    "    if trainingset_name:\n",
    "        local_output_dir = f\"./omero_annotations_{trainingset_name}\"\n",
    "    os.makedirs(local_output_dir, exist_ok=True)\n",
    "\n",
    "print(\"Configuration loaded from widget!\")\n"
   ]
  },
  {
   "cell_type": "markdown",
   "id": "13",
   "metadata": {},
   "source": [
    "### Run the annotation routine"
   ]
  },
  {
   "cell_type": "code",
   "execution_count": null,
   "id": "14",
   "metadata": {},
   "outputs": [
    {
     "name": "stdout",
     "output_type": "stream",
     "text": [
      "Found 1 file annotations on Project 101\n",
      "No table found with title 'micro_sam_training_data_20240602f'\n",
      "Table 'micro_sam_training_data_20240602f' not found, creating a new one\n",
      "Interleaving training and validation images: 3 training images, 3 validation images\n",
      "Creating complete tracking table with all planned images/patches...\n",
      "Using table title: micro_sam_training_data_20240602f\n"
     ]
    },
    {
     "name": "stderr",
     "output_type": "stream",
     "text": [
      "c:\\Users\\Maarten\\Documents\\Github\\omero_ipynb\\microsam\\src\\omero_functions.py:685: FutureWarning: Downcasting object dtype arrays on .fillna, .ffill, .bfill is deprecated and will change in a future version. Call result.infer_objects(copy=False) instead. To opt-in to the future behavior, set `pd.set_option('future.no_silent_downcasting', True)`\n",
      "  df_for_omero[col] = df_for_omero[col].fillna(False).astype(bool)\n",
      "c:\\Users\\Maarten\\Documents\\Github\\omero_ipynb\\microsam\\src\\omero_functions.py:685: FutureWarning: Downcasting object dtype arrays on .fillna, .ffill, .bfill is deprecated and will change in a future version. Call result.infer_objects(copy=False) instead. To opt-in to the future behavior, set `pd.set_option('future.no_silent_downcasting', True)`\n",
      "  df_for_omero[col] = df_for_omero[col].fillna(False).astype(bool)\n",
      "c:\\Users\\Maarten\\Documents\\Github\\omero_ipynb\\microsam\\src\\omero_functions.py:685: FutureWarning: Downcasting object dtype arrays on .fillna, .ffill, .bfill is deprecated and will change in a future version. Call result.infer_objects(copy=False) instead. To opt-in to the future behavior, set `pd.set_option('future.no_silent_downcasting', True)`\n",
      "  df_for_omero[col] = df_for_omero[col].fillna(False).astype(bool)\n",
      "c:\\Users\\Maarten\\Documents\\Github\\omero_ipynb\\microsam\\src\\omero_functions.py:685: FutureWarning: Downcasting object dtype arrays on .fillna, .ffill, .bfill is deprecated and will change in a future version. Call result.infer_objects(copy=False) instead. To opt-in to the future behavior, set `pd.set_option('future.no_silent_downcasting', True)`\n",
      "  df_for_omero[col] = df_for_omero[col].fillna(False).astype(bool)\n",
      "c:\\Users\\Maarten\\Documents\\Github\\omero_ipynb\\microsam\\src\\omero_functions.py:685: FutureWarning: Downcasting object dtype arrays on .fillna, .ffill, .bfill is deprecated and will change in a future version. Call result.infer_objects(copy=False) instead. To opt-in to the future behavior, set `pd.set_option('future.no_silent_downcasting', True)`\n",
      "  df_for_omero[col] = df_for_omero[col].fillna(False).astype(bool)\n",
      "c:\\Users\\Maarten\\Documents\\Github\\omero_ipynb\\microsam\\src\\omero_functions.py:692: FutureWarning: Downcasting object dtype arrays on .fillna, .ffill, .bfill is deprecated and will change in a future version. Call result.infer_objects(copy=False) instead. To opt-in to the future behavior, set `pd.set_option('future.no_silent_downcasting', True)`\n",
      "  df_for_omero[col] = df_for_omero[col].fillna('None').astype(str)\n",
      "c:\\Users\\Maarten\\Documents\\Github\\omero_ipynb\\microsam\\src\\omero_functions.py:692: FutureWarning: Downcasting object dtype arrays on .fillna, .ffill, .bfill is deprecated and will change in a future version. Call result.infer_objects(copy=False) instead. To opt-in to the future behavior, set `pd.set_option('future.no_silent_downcasting', True)`\n",
      "  df_for_omero[col] = df_for_omero[col].fillna('None').astype(str)\n",
      "c:\\Users\\Maarten\\Documents\\Github\\omero_ipynb\\microsam\\src\\omero_functions.py:692: FutureWarning: Downcasting object dtype arrays on .fillna, .ffill, .bfill is deprecated and will change in a future version. Call result.infer_objects(copy=False) instead. To opt-in to the future behavior, set `pd.set_option('future.no_silent_downcasting', True)`\n",
      "  df_for_omero[col] = df_for_omero[col].fillna('None').astype(str)\n",
      "c:\\Users\\Maarten\\Documents\\Github\\omero_ipynb\\microsam\\src\\omero_functions.py:692: FutureWarning: Downcasting object dtype arrays on .fillna, .ffill, .bfill is deprecated and will change in a future version. Call result.infer_objects(copy=False) instead. To opt-in to the future behavior, set `pd.set_option('future.no_silent_downcasting', True)`\n",
      "  df_for_omero[col] = df_for_omero[col].fillna('None').astype(str)\n"
     ]
    },
    {
     "name": "stdout",
     "output_type": "stream",
     "text": [
      "Created tracking table with 12 rows, ID: 355\n",
      "object group 0\n",
      "Stored annotation configuration in OMERO with ID: 356\n"
     ]
    },
    {
     "name": "stderr",
     "output_type": "stream",
     "text": [
      "INFO:omero.gateway:Registered c306629a-70ab-4ffe-ac6d-02a734e22f4e/d669a121-cea2-409b-b117-2fbd2be36c0eomero.api.RawPixelsStore -t -e 1.1:tcp -h 172.19.0.8 -p 41349 -t 60000\n"
     ]
    },
    {
     "name": "stdout",
     "output_type": "stream",
     "text": [
      "Processing 12 patches in 2 batches\n",
      "3D mode: False\n",
      "\n",
      "Processing batch 1/2\n"
     ]
    },
    {
     "name": "stderr",
     "output_type": "stream",
     "text": [
      "INFO:omero.gateway:Unregistered c306629a-70ab-4ffe-ac6d-02a734e22f4e/d669a121-cea2-409b-b117-2fbd2be36c0eomero.api.RawPixelsStore -t -e 1.1:tcp -h 172.19.0.8 -p 41349 -t 60000\n",
      "INFO:omero.gateway:Registered c306629a-70ab-4ffe-ac6d-02a734e22f4e/cb85196c-1dbd-474e-b346-2b772316735aomero.api.RawPixelsStore -t -e 1.1:tcp -h 172.19.0.8 -p 41349 -t 60000\n"
     ]
    },
    {
     "name": "stdout",
     "output_type": "stream",
     "text": [
      "Loaded 2D image/patch for image 256 at timepoint 10, z-slice 0 with shape (256, 256)\n"
     ]
    },
    {
     "name": "stderr",
     "output_type": "stream",
     "text": [
      "INFO:omero.gateway:Unregistered c306629a-70ab-4ffe-ac6d-02a734e22f4e/cb85196c-1dbd-474e-b346-2b772316735aomero.api.RawPixelsStore -t -e 1.1:tcp -h 172.19.0.8 -p 41349 -t 60000\n",
      "INFO:omero.gateway:Registered c306629a-70ab-4ffe-ac6d-02a734e22f4e/f05446a6-8e08-4b55-ac75-82d0dea1e9fdomero.api.RawPixelsStore -t -e 1.1:tcp -h 172.19.0.8 -p 41349 -t 60000\n"
     ]
    },
    {
     "name": "stdout",
     "output_type": "stream",
     "text": [
      "Loaded 2D image/patch for image 256 at timepoint 13, z-slice 0 with shape (256, 256)\n"
     ]
    },
    {
     "name": "stderr",
     "output_type": "stream",
     "text": [
      "INFO:omero.gateway:Unregistered c306629a-70ab-4ffe-ac6d-02a734e22f4e/f05446a6-8e08-4b55-ac75-82d0dea1e9fdomero.api.RawPixelsStore -t -e 1.1:tcp -h 172.19.0.8 -p 41349 -t 60000\n",
      "INFO:omero.gateway:Registered c306629a-70ab-4ffe-ac6d-02a734e22f4e/c9069192-1754-4a3a-a65d-587cd67aed4bomero.api.RawPixelsStore -t -e 1.1:tcp -h 172.19.0.8 -p 41349 -t 60000\n"
     ]
    },
    {
     "name": "stdout",
     "output_type": "stream",
     "text": [
      "Loaded 2D image/patch for image 251 at timepoint 8, z-slice 0 with shape (256, 256)\n"
     ]
    },
    {
     "name": "stderr",
     "output_type": "stream",
     "text": [
      "INFO:omero.gateway:Unregistered c306629a-70ab-4ffe-ac6d-02a734e22f4e/c9069192-1754-4a3a-a65d-587cd67aed4bomero.api.RawPixelsStore -t -e 1.1:tcp -h 172.19.0.8 -p 41349 -t 60000\n",
      "INFO:omero.gateway:Registered c306629a-70ab-4ffe-ac6d-02a734e22f4e/eb874b39-fc13-405a-983a-ac6793fade5comero.api.RawPixelsStore -t -e 1.1:tcp -h 172.19.0.8 -p 41349 -t 60000\n"
     ]
    },
    {
     "name": "stdout",
     "output_type": "stream",
     "text": [
      "Loaded 2D image/patch for image 251 at timepoint 7, z-slice 0 with shape (256, 256)\n"
     ]
    },
    {
     "name": "stderr",
     "output_type": "stream",
     "text": [
      "INFO:omero.gateway:Unregistered c306629a-70ab-4ffe-ac6d-02a734e22f4e/eb874b39-fc13-405a-983a-ac6793fade5comero.api.RawPixelsStore -t -e 1.1:tcp -h 172.19.0.8 -p 41349 -t 60000\n",
      "INFO:omero.gateway:Registered c306629a-70ab-4ffe-ac6d-02a734e22f4e/b2ce615b-e0da-43ed-b783-e831f671ece4omero.api.RawPixelsStore -t -e 1.1:tcp -h 172.19.0.8 -p 41349 -t 60000\n"
     ]
    },
    {
     "name": "stdout",
     "output_type": "stream",
     "text": [
      "Loaded 2D image/patch for image 255 at timepoint 11, z-slice 0 with shape (256, 256)\n"
     ]
    },
    {
     "name": "stderr",
     "output_type": "stream",
     "text": [
      "INFO:omero.gateway:Unregistered c306629a-70ab-4ffe-ac6d-02a734e22f4e/b2ce615b-e0da-43ed-b783-e831f671ece4omero.api.RawPixelsStore -t -e 1.1:tcp -h 172.19.0.8 -p 41349 -t 60000\n"
     ]
    },
    {
     "name": "stdout",
     "output_type": "stream",
     "text": [
      "Loaded 2D image/patch for image 255 at timepoint 12, z-slice 0 with shape (256, 256)\n",
      "Starting napari viewer with SAM annotator. Close the viewer window when done.\n"
     ]
    }
   ],
   "source": [
    "table_id, combined_images = process_omero_batch(\n",
    "    conn,\n",
    "    images,\n",
    "    output_directory,\n",
    "    datatype,\n",
    "    data_id,\n",
    "    source_desc,\n",
    "    model_type=model_type,\n",
    "    batch_size=batch_size,\n",
    "    channel=channel,\n",
    "    timepoints=timepoints,\n",
    "    timepoint_mode=timepoint_mode,\n",
    "    z_slices=z_slices,\n",
    "    z_slice_mode=z_slice_mode,\n",
    "    segment_all=segment_all,\n",
    "    train_n=train_n,\n",
    "    validate_n=validate_n,\n",
    "    three_d=three_d,\n",
    "    use_patches=use_patches,\n",
    "    patch_size=patch_size,\n",
    "    patches_per_image=patches_per_image,\n",
    "    random_patches=random_patches,\n",
    "    resume_from_table=resume_from_table,\n",
    "    read_only_mode=read_only_mode,\n",
    "    local_output_dir=local_output_dir,\n",
    "    trainingset_name=trainingset_name,\n",
    "    group_by_image=group_by_image\n",
    ")\n",
    "\n",
    "print(f\"Annotation complete! Table ID: {table_id}\")\n",
    "print(f\"Processed {len(combined_images)} images\")"
   ]
  },
  {
   "cell_type": "markdown",
   "id": "cdb35269",
   "metadata": {},
   "source": [
    "## Export training dataset"
   ]
  },
  {
   "cell_type": "code",
   "execution_count": null,
   "id": "c1eb5c36",
   "metadata": {},
   "outputs": [],
   "source": []
  },
  {
   "cell_type": "markdown",
   "id": "54275447",
   "metadata": {},
   "source": []
  },
  {
   "cell_type": "code",
   "execution_count": null,
   "id": "625e1148",
   "metadata": {},
   "outputs": [],
   "source": []
  },
  {
   "cell_type": "markdown",
   "id": "15",
   "metadata": {
    "editable": true,
    "slideshow": {
     "slide_type": ""
    },
    "tags": []
   },
   "source": [
    "### Display annotations tracking table"
   ]
  },
  {
   "cell_type": "code",
   "execution_count": null,
   "id": "16",
   "metadata": {},
   "outputs": [],
   "source": [
    "# Retrieve and display the tracking table\n",
    "if table_id is not None:\n",
    "    tracking_df = ezomero.get_table(conn, table_id)\n",
    "    print(f\"Tracking table contains {len(tracking_df)} rows\")\n",
    "    display(tracking_df)\n",
    "else:\n",
    "    print(\"No tracking table was created\")"
   ]
  },
  {
   "cell_type": "markdown",
   "id": "17",
   "metadata": {},
   "source": [
    "### Clean up and close connection"
   ]
  },
  {
   "cell_type": "code",
   "execution_count": null,
   "id": "18",
   "metadata": {},
   "outputs": [],
   "source": [
    "# Clean up temporary directory\n",
    "try:\n",
    "    shutil.rmtree(output_directory)\n",
    "    print(f\"Removed temporary directory: {output_directory}\")\n",
    "except Exception as e:\n",
    "    print(f\"Error removing temporary directory: {e}\")\n",
    "\n",
    "# Close OMERO connection\n",
    "conn.close()\n",
    "print(\"OMERO connection closed\")"
   ]
  }
 ],
 "metadata": {
  "kernelspec": {
   "display_name": "micro-sam",
   "language": "python",
   "name": "python3"
  },
  "language_info": {
   "codemirror_mode": {
    "name": "ipython",
    "version": 3
   },
   "file_extension": ".py",
   "mimetype": "text/x-python",
   "name": "python",
   "nbconvert_exporter": "python",
   "pygments_lexer": "ipython3",
   "version": "3.11.11"
  }
 },
 "nbformat": 4,
 "nbformat_minor": 5
}
