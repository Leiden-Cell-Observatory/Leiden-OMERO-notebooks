{
 "cells": [
  {
   "cell_type": "markdown",
   "id": "0",
   "metadata": {
    "editable": true,
    "slideshow": {
     "slide_type": ""
    },
    "tags": []
   },
   "source": [
    "## Annotation of OMERO data using napari-micro-sam"
   ]
  },
  {
   "cell_type": "markdown",
   "id": "1",
   "metadata": {},
   "source": [
    "### Instructions:\n",
    "  - Login: To run with OMERO and to not expose login in the notebook, the username is stored in .env file (see example .env_example). The password needs to be typed everytime.\n",
    "  - This notebook supports processing images from various OMERO object types: images, datasets, projects, plates, and screens.\n",
    "  - Specify the container type in the `datatype` variable and the object ID in the `data_id` variable.\n"
   ]
  },
  {
   "cell_type": "markdown",
   "id": "2",
   "metadata": {},
   "source": [
    "### TODOs\n",
    "See [TODO.md](./TODO.md) for the complete list of planned improvements and features."
   ]
  },
  {
   "cell_type": "markdown",
   "id": "3",
   "metadata": {},
   "source": [
    "## Load all required packages and dependencies"
   ]
  },
  {
   "cell_type": "code",
   "execution_count": 9,
   "id": "4",
   "metadata": {
    "editable": true,
    "slideshow": {
     "slide_type": ""
    },
    "tags": []
   },
   "outputs": [
    {
     "name": "stdout",
     "output_type": "stream",
     "text": [
      "Created temporary work directory:  c:\\users\\maarten\\appdata\\local\\temp\\tmph76vsna2\n"
     ]
    }
   ],
   "source": [
    "# OMERO-related imports\n",
    "import omero\n",
    "from omero.gateway import BlitzGateway\n",
    "import ezomero\n",
    "from napari.settings import get_settings\n",
    "\n",
    "# Scientific computing and image processing\n",
    "import numpy as np\n",
    "import pandas as pd\n",
    "\n",
    "# File and system operations\n",
    "import os\n",
    "import shutil\n",
    "import tempfile\n",
    "import warnings\n",
    "from dotenv import load_dotenv\n",
    "\n",
    "import importlib\n",
    "import sys\n",
    "\n",
    "# Reload all src submodules\n",
    "src_modules = [\n",
    "    \"src.omero_functions\",\n",
    "    \"src.file_io_functions\",\n",
    "    \"src.image_functions\", \n",
    "    \"src.utils\",\n",
    "    \"src.processing_pipeline\"\n",
    "]\n",
    "\n",
    "def reload_module(module_name):\n",
    "    if module_name in sys.modules:\n",
    "        importlib.reload(sys.modules[module_name])\n",
    "    return __import__(module_name)\n",
    "\n",
    "for module in src_modules:\n",
    "    reload_module(module)\n",
    "\n",
    "# Re-import after reloading to ensure we have the latest versions\n",
    "from src.omero_functions import print_object_details, get_images_from_container, get_dask_image, upload_rois_and_labels, initialize_tracking_table, update_tracking_table_rows, get_dask_image_multiple, get_dask_dimensions\n",
    "from src.file_io_functions import zip_directory, store_annotations_in_zarr, zarr_to_tiff, cleanup_local_embeddings, organize_local_outputs, save_annotations_schema\n",
    "from src.image_functions import label_to_rois, generate_patch_coordinates, extract_patch\n",
    "from src.utils import NumpyEncoder, interleave_arrays\n",
    "from src.processing_pipeline import process_omero_batch\n",
    "\n",
    "from napari.settings import get_settings\n",
    "get_settings().application.ipy_interactive = False\n",
    "\n",
    "output_directory = os.path.normcase(tempfile.mkdtemp())\n",
    "print('Created temporary work directory: ', output_directory)\n"
   ]
  },
  {
   "cell_type": "markdown",
   "id": "5",
   "metadata": {
    "editable": true,
    "slideshow": {
     "slide_type": ""
    },
    "tags": []
   },
   "source": [
    "### Setup connection with OMERO"
   ]
  },
  {
   "cell_type": "code",
   "execution_count": 10,
   "id": "6",
   "metadata": {
    "editable": true,
    "slideshow": {
     "slide_type": ""
    },
    "tags": []
   },
   "outputs": [
    {
     "name": "stderr",
     "output_type": "stream",
     "text": [
      "INFO:omero.gateway:created connection (uuid=f77536b2-723c-4ef4-a8ce-30d3de1b01a7)\n"
     ]
    },
    {
     "name": "stdout",
     "output_type": "stream",
     "text": [
      "Connected to OMERO Server\n"
     ]
    },
    {
     "name": "stderr",
     "output_type": "stream",
     "text": [
      "INFO:omero.util.Resources:Starting\n"
     ]
    }
   ],
   "source": [
    "load_dotenv(override=True)\n",
    "# Ask for password if not set\n",
    "if not os.environ.get(\"PASSWORD\"):\n",
    "    from getpass import getpass\n",
    "    os.environ[\"PASSWORD\"] = getpass(\"Enter OMERO server password: \")\n",
    "\n",
    "conn = BlitzGateway(host=os.environ.get(\"HOST\"), username=os.environ.get(\"USER_NAME\"), passwd=os.environ.get(\"PASSWORD\"), group=os.environ.get(\"GROUP\"), secure=True)\n",
    "\n",
    "connection_status = conn.connect()\n",
    "if connection_status:\n",
    "    print(\"Connected to OMERO Server\")\n",
    "else:\n",
    "    print(\"Connection to OMERO Server Failed\")\n",
    "conn.c.enableKeepAlive(60)"
   ]
  },
  {
   "cell_type": "markdown",
   "id": "7",
   "metadata": {
    "editable": true,
    "slideshow": {
     "slide_type": ""
    },
    "tags": []
   },
   "source": [
    "### Select your dataset and check its content"
   ]
  },
  {
   "cell_type": "code",
   "execution_count": 11,
   "id": "8",
   "metadata": {
    "editable": true,
    "slideshow": {
     "slide_type": ""
    },
    "tags": []
   },
   "outputs": [
    {
     "name": "stdout",
     "output_type": "stream",
     "text": [
      "\n",
      "Project Details:\n",
      "- Name: Senescence\n",
      "- ID: 101\n",
      "- Owner: root root\n",
      "- Group: system\n",
      "- Number of datasets: 3\n",
      "- Total images: 6\n"
     ]
    }
   ],
   "source": [
    "datatype = \"project\" # \"screen\", \"plate\", \"project\", \"dataset\", \"image\"\n",
    "data_id = 101\n",
    "\n",
    "# Validate that data_id matches datatype and print details\n",
    "if datatype == \"project\":\n",
    "    project = conn.getObject(\"Project\", data_id)\n",
    "    if project is None:\n",
    "        raise ValueError(f\"Project with ID {data_id} not found\")\n",
    "    print_object_details(conn, project, \"project\")\n",
    "    \n",
    "elif datatype == \"plate\":\n",
    "    plate = conn.getObject(\"Plate\", data_id)\n",
    "    if plate is None:\n",
    "        raise ValueError(f\"Plate with ID {data_id} not found\")\n",
    "    print_object_details(conn, plate, \"plate\")\n",
    "    \n",
    "elif datatype == \"dataset\":\n",
    "    dataset = conn.getObject(\"Dataset\", data_id)\n",
    "    if dataset is None:\n",
    "        raise ValueError(f\"Dataset with ID {data_id} not found\")\n",
    "    print_object_details(conn, dataset, \"dataset\")\n",
    "    \n",
    "elif datatype == \"image\":\n",
    "    image = conn.getObject(\"Image\", data_id)\n",
    "    if image is None:\n",
    "        raise ValueError(f\"Image with ID {data_id} not found\")\n",
    "    print_object_details(conn, image, \"image\")\n",
    "\n",
    "else:\n",
    "    raise ValueError(\"Invalid datatype specified\")\n",
    "\n",
    "# Check for any training tables already present in the dataset"
   ]
  },
  {
   "cell_type": "markdown",
   "id": "9",
   "metadata": {},
   "source": [
    "### Choose a training data set name\n",
    "Use a specific name if you want to resume from an existing table  \n",
    "Or use the datetime format for a new training set"
   ]
  },
  {
   "cell_type": "code",
   "execution_count": 12,
   "id": "10",
   "metadata": {},
   "outputs": [
    {
     "name": "stdout",
     "output_type": "stream",
     "text": [
      "Training Set Name:  training_data_20240603\n"
     ]
    }
   ],
   "source": [
    "# Set a name for the training set\n",
    "# Use a specific name if you want to resume from an existing table\n",
    "# Or use the datetime format for a new training set\n",
    "trainingset_name = \"training_data_20240603\"  # Use a fixed name if resuming from an existing table\n",
    "# trainingset_name = \"training_data_\" + pd.Timestamp.now().strftime(\"%Y%m%d_%H%M\")\n",
    "print('Training Set Name: ', trainingset_name)"
   ]
  },
  {
   "cell_type": "markdown",
   "id": "11",
   "metadata": {
    "editable": true,
    "slideshow": {
     "slide_type": ""
    },
    "tags": []
   },
   "source": [
    "### Setup parameters for training data preparation"
   ]
  },
  {
   "cell_type": "code",
   "execution_count": 14,
   "id": "c3182a1c",
   "metadata": {},
   "outputs": [
    {
     "name": "stdout",
     "output_type": "stream",
     "text": [
      "Found 6 images from Project: Senescence (ID: 101)\n"
     ]
    },
    {
     "data": {
      "application/vnd.jupyter.widget-view+json": {
       "model_id": "bac34c7fe09c415ca9d7aa94075cbe3e",
       "version_major": 2,
       "version_minor": 0
      },
      "text/plain": [
       "VBox(children=(Tab(children=(VBox(children=(HTML(value='<h3>Basic Processing Settings</h3>'), Checkbox(value=F…"
      ]
     },
     "metadata": {},
     "output_type": "display_data"
    }
   ],
   "source": [
    "import ipywidgets as widgets\n",
    "from IPython.display import display\n",
    "\n",
    "# Get all images from the specified container\n",
    "images, source_desc = get_images_from_container(conn, datatype, data_id)\n",
    "\n",
    "\n",
    "# Create interactive widgets for configuration\n",
    "def create_config_widget():\n",
    "    # Basic processing settings\n",
    "    segment_all_widget = widgets.Checkbox(value=False, description=\"Segment All Images\")\n",
    "    train_n_widget = widgets.IntSlider(\n",
    "        value=3, min=1, max=20, description=\"Training Images\"\n",
    "    )\n",
    "    validate_n_widget = widgets.IntSlider(\n",
    "        value=3, min=1, max=20, description=\"Validation Images\"\n",
    "    )\n",
    "\n",
    "    # Model and processing settings\n",
    "    model_type_widget = widgets.Dropdown(\n",
    "        options=[\"vit_b_lm\", \"vit_l_lm\", \"vit_h_lm\"],\n",
    "        value=\"vit_b_lm\",\n",
    "        description=\"Model Type\",\n",
    "    )\n",
    "    batch_size_widget = widgets.IntSlider(\n",
    "        value=6, min=1, max=20, description=\"Batch Size\"\n",
    "    )\n",
    "    channel_widget = widgets.IntSlider(value=1, min=0, max=5, description=\"Channel\")\n",
    "    three_d_widget = widgets.Checkbox(value=False, description=\"3D Mode\")\n",
    "\n",
    "    # Z-slice settings\n",
    "    z_slices_widget = widgets.Text(\n",
    "        value=\"[0]\", description=\"Z-Slices\", placeholder=\"e.g., [0] or [0,1,2]\"\n",
    "    )\n",
    "    z_slice_mode_widget = widgets.Dropdown(\n",
    "        options=[\"all\", \"random\", \"specific\"],\n",
    "        value=\"random\",\n",
    "        description=\"Z-Slice Mode\",\n",
    "    )\n",
    "\n",
    "    # Timepoint settings\n",
    "    timepoints_widget = widgets.Text(\n",
    "        value=\"list(range(14))\",\n",
    "        description=\"Timepoints\",\n",
    "        placeholder=\"e.g., [0,1,2] or list(range(14))\",\n",
    "    )\n",
    "    timepoint_mode_widget = widgets.Dropdown(\n",
    "        options=[\"all\", \"random\", \"specific\"],\n",
    "        value=\"random\",\n",
    "        description=\"Timepoint Mode\",\n",
    "    )\n",
    "\n",
    "    resume_from_table_widget = widgets.Checkbox(\n",
    "        value=True, description=\"Resume from Table\"\n",
    "    )\n",
    "    \n",
    "    # Group related slices setting\n",
    "    group_by_image_widget = widgets.Checkbox(\n",
    "        value=True, description=\"Group Z/T by Image\",\n",
    "        tooltip=\"Keep all slices and timepoints from the same image together in either training or validation sets\"\n",
    "    )\n",
    "\n",
    "    # Patch extraction settings\n",
    "    use_patches_widget = widgets.Checkbox(value=True, description=\"Use Patches\")\n",
    "    patch_width_widget = widgets.IntSlider(\n",
    "        value=256, min=64, max=1024, step=64, description=\"Patch Width\"\n",
    "    )\n",
    "    patch_height_widget = widgets.IntSlider(\n",
    "        value=256, min=64, max=1024, step=64, description=\"Patch Height\"\n",
    "    )\n",
    "    patches_per_image_widget = widgets.IntSlider(\n",
    "        value=2, min=1, max=10, description=\"Patches per Image\"\n",
    "    )\n",
    "    random_patches_widget = widgets.Checkbox(value=True, description=\"Random Patches\")\n",
    "\n",
    "    # Read-only mode settings\n",
    "    read_only_mode_widget = widgets.Checkbox(value=False, description=\"Read-Only Mode\")\n",
    "    local_output_dir_widget = widgets.Text(\n",
    "        value=\"./omero_annotations\", description=\"Local Output Dir\"\n",
    "    )\n",
    "\n",
    "    # Output area for configuration summary\n",
    "    output = widgets.Output()\n",
    "\n",
    "    def update_summary(*args):\n",
    "        with output:\n",
    "            output.clear_output()\n",
    "\n",
    "            # Parse complex inputs\n",
    "            try:\n",
    "                z_slices = eval(z_slices_widget.value) if z_slices_widget.value else [0]\n",
    "            except:\n",
    "                z_slices = [0]\n",
    "\n",
    "            try:\n",
    "                timepoints = (\n",
    "                    eval(timepoints_widget.value) if timepoints_widget.value else [0]\n",
    "                )\n",
    "            except:\n",
    "                timepoints = [0]\n",
    "\n",
    "            patch_size = (patch_width_widget.value, patch_height_widget.value)\n",
    "\n",
    "            print(\"Configuration Summary:\")\n",
    "            print(f\"  - Segment All Images: {segment_all_widget.value}\")\n",
    "            print(f\"  - Training Images: {train_n_widget.value}\")\n",
    "            print(f\"  - Validation Images: {validate_n_widget.value}\")\n",
    "            print(f\"  - Model Type: {model_type_widget.value}\")\n",
    "            print(f\"  - Batch Size: {batch_size_widget.value}\")\n",
    "            print(f\"  - Channel: {channel_widget.value}\")\n",
    "            print(f\"  - 3D Mode: {three_d_widget.value}\")\n",
    "            print(f\"  - Z-Slices: {z_slices} (Mode: {z_slice_mode_widget.value})\")\n",
    "            print(f\"  - Timepoints: {timepoints} (Mode: {timepoint_mode_widget.value})\")\n",
    "            print(f\"  - Use Patches: {use_patches_widget.value}\")\n",
    "            if use_patches_widget.value:\n",
    "                print(f\"  - Patch Size: {patch_size}\")\n",
    "                print(f\"  - Patches per Image: {patches_per_image_widget.value}\")\n",
    "                print(f\"  - Random Patches: {random_patches_widget.value}\")\n",
    "            print(f\"  - Read-Only Mode: {read_only_mode_widget.value}\")\n",
    "            if read_only_mode_widget.value:\n",
    "                print(f\"  - Local Output Directory: {local_output_dir_widget.value}\")\n",
    "\n",
    "    # Observe changes in widgets\n",
    "    widgets_to_observe = [\n",
    "        segment_all_widget,\n",
    "        train_n_widget,\n",
    "        validate_n_widget,\n",
    "        model_type_widget,\n",
    "        batch_size_widget,\n",
    "        channel_widget,\n",
    "        three_d_widget,\n",
    "        z_slices_widget,\n",
    "        z_slice_mode_widget,\n",
    "        timepoints_widget,\n",
    "        timepoint_mode_widget,\n",
    "        resume_from_table_widget,\n",
    "        group_by_image_widget,\n",
    "        use_patches_widget,\n",
    "        patch_width_widget,\n",
    "        patch_height_widget,\n",
    "        patches_per_image_widget,\n",
    "        random_patches_widget,\n",
    "        read_only_mode_widget,\n",
    "        local_output_dir_widget,\n",
    "    ]\n",
    "\n",
    "    for widget in widgets_to_observe:\n",
    "        widget.observe(update_summary, names=\"value\")\n",
    "\n",
    "    # Initial summary\n",
    "    update_summary()\n",
    "\n",
    "    # Function to get current configuration\n",
    "    def get_config():\n",
    "        try:\n",
    "            z_slices = eval(z_slices_widget.value) if z_slices_widget.value else [0]\n",
    "        except:\n",
    "            z_slices = [0]\n",
    "\n",
    "        try:\n",
    "            timepoints = (\n",
    "                eval(timepoints_widget.value) if timepoints_widget.value else [0]\n",
    "            )\n",
    "        except:\n",
    "            timepoints = [0]\n",
    "\n",
    "        config = {\n",
    "            \"segment_all\": segment_all_widget.value,\n",
    "            \"train_n\": train_n_widget.value,\n",
    "            \"validate_n\": validate_n_widget.value,\n",
    "            \"model_type\": model_type_widget.value,\n",
    "            \"batch_size\": batch_size_widget.value,\n",
    "            \"channel\": channel_widget.value,\n",
    "            \"three_d\": three_d_widget.value,\n",
    "            \"z_slices\": z_slices,\n",
    "            \"z_slice_mode\": z_slice_mode_widget.value,\n",
    "            \"timepoints\": timepoints,\n",
    "            \"timepoint_mode\": timepoint_mode_widget.value,\n",
    "            \"resume_from_table\": resume_from_table_widget.value,\n",
    "            \"use_patches\": use_patches_widget.value,\n",
    "            \"patch_size\": (patch_width_widget.value, patch_height_widget.value),\n",
    "            \"patches_per_image\": patches_per_image_widget.value,\n",
    "            \"random_patches\": random_patches_widget.value,\n",
    "            \"read_only_mode\": read_only_mode_widget.value,\n",
    "            \"local_output_dir\": local_output_dir_widget.value,\n",
    "        }\n",
    "        return config\n",
    "\n",
    "    # Layout the widgets\n",
    "    basic_settings = widgets.VBox(\n",
    "        [\n",
    "            widgets.HTML(\"<h3>Basic Processing Settings</h3>\"),\n",
    "            segment_all_widget,\n",
    "            train_n_widget,\n",
    "            validate_n_widget,\n",
    "            model_type_widget,\n",
    "            batch_size_widget,\n",
    "            channel_widget,\n",
    "            three_d_widget,\n",
    "        ]\n",
    "    )\n",
    "\n",
    "    slice_settings = widgets.VBox(\n",
    "        [\n",
    "            widgets.HTML(\"<h3>Slice & Timepoint Settings</h3>\"),\n",
    "            z_slices_widget,\n",
    "            z_slice_mode_widget,\n",
    "            timepoints_widget,\n",
    "            timepoint_mode_widget,\n",
    "            group_by_image_widget,\n",
    "            resume_from_table_widget,\n",
    "        ]\n",
    "    )\n",
    "\n",
    "    patch_settings = widgets.VBox(\n",
    "        [\n",
    "            widgets.HTML(\"<h3>Patch Extraction Settings</h3>\"),\n",
    "            use_patches_widget,\n",
    "            patch_width_widget,\n",
    "            patch_height_widget,\n",
    "            patches_per_image_widget,\n",
    "            random_patches_widget,\n",
    "        ]\n",
    "    )\n",
    "\n",
    "    output_settings = widgets.VBox(\n",
    "        [\n",
    "            widgets.HTML(\"<h3>Output Settings</h3>\"),\n",
    "            read_only_mode_widget,\n",
    "            local_output_dir_widget,\n",
    "        ]\n",
    "    )\n",
    "\n",
    "    # Create tabs for better organization\n",
    "    tab = widgets.Tab()\n",
    "    tab.children = [basic_settings, slice_settings, patch_settings, output_settings]\n",
    "    tab.titles = [\"Basic\", \"Slices/Time\", \"Patches\", \"Output\"]\n",
    "\n",
    "    main_widget = widgets.VBox(\n",
    "        [tab, widgets.HTML(\"<h3>Configuration Summary</h3>\"), output]\n",
    "    )\n",
    "\n",
    "    return main_widget, get_config\n",
    "\n",
    "\n",
    "# Create and display the widget\n",
    "config_widget, get_config = create_config_widget()\n",
    "display(config_widget)\n"
   ]
  },
  {
   "cell_type": "code",
   "execution_count": 13,
   "id": "90fea8b0",
   "metadata": {},
   "outputs": [
    {
     "name": "stdout",
     "output_type": "stream",
     "text": [
      "Configuration loaded from widget!\n"
     ]
    }
   ],
   "source": [
    "# Get configuration from widget\n",
    "config = get_config()\n",
    "\n",
    "# Extract values for use in processing\n",
    "segment_all = config[\"segment_all\"]\n",
    "train_n = config[\"train_n\"]\n",
    "validate_n = config[\"validate_n\"]\n",
    "model_type = config[\"model_type\"]\n",
    "batch_size = config[\"batch_size\"]\n",
    "channel = config[\"channel\"]\n",
    "three_d = config[\"three_d\"]\n",
    "z_slices = config[\"z_slices\"]\n",
    "z_slice_mode = config[\"z_slice_mode\"]\n",
    "timepoints = config[\"timepoints\"]\n",
    "timepoint_mode = config[\"timepoint_mode\"]\n",
    "resume_from_table = config[\"resume_from_table\"]\n",
    "use_patches = config[\"use_patches\"]\n",
    "patch_size = config[\"patch_size\"]\n",
    "patches_per_image = config[\"patches_per_image\"]\n",
    "random_patches = config[\"random_patches\"]\n",
    "read_only_mode = config[\"read_only_mode\"]\n",
    "local_output_dir = config[\"local_output_dir\"]\n",
    "\n",
    "# Handle read-only mode directory setup\n",
    "if read_only_mode:\n",
    "    if trainingset_name:\n",
    "        local_output_dir = f\"./omero_annotations_{trainingset_name}\"\n",
    "    os.makedirs(local_output_dir, exist_ok=True)\n",
    "\n",
    "print(\"Configuration loaded from widget!\")\n"
   ]
  },
  {
   "cell_type": "markdown",
   "id": "13",
   "metadata": {},
   "source": [
    "### Run the annotation routine"
   ]
  },
  {
   "cell_type": "code",
   "execution_count": null,
   "id": "14",
   "metadata": {},
   "outputs": [
    {
     "name": "stdout",
     "output_type": "stream",
     "text": [
      "Found 1 file annotations on Project 101\n",
      "No table found with title 'micro_sam_training_data_20240602f'\n",
      "Table 'micro_sam_training_data_20240602f' not found, creating a new one\n",
      "Interleaving training and validation images: 3 training images, 3 validation images\n",
      "Creating complete tracking table with all planned images/patches...\n",
      "Using table title: micro_sam_training_data_20240602f\n"
     ]
    },
    {
     "name": "stderr",
     "output_type": "stream",
     "text": [
      "c:\\Users\\Maarten\\Documents\\Github\\omero_ipynb\\microsam\\src\\omero_functions.py:685: FutureWarning: Downcasting object dtype arrays on .fillna, .ffill, .bfill is deprecated and will change in a future version. Call result.infer_objects(copy=False) instead. To opt-in to the future behavior, set `pd.set_option('future.no_silent_downcasting', True)`\n",
      "  df_for_omero[col] = df_for_omero[col].fillna(False).astype(bool)\n",
      "c:\\Users\\Maarten\\Documents\\Github\\omero_ipynb\\microsam\\src\\omero_functions.py:685: FutureWarning: Downcasting object dtype arrays on .fillna, .ffill, .bfill is deprecated and will change in a future version. Call result.infer_objects(copy=False) instead. To opt-in to the future behavior, set `pd.set_option('future.no_silent_downcasting', True)`\n",
      "  df_for_omero[col] = df_for_omero[col].fillna(False).astype(bool)\n",
      "c:\\Users\\Maarten\\Documents\\Github\\omero_ipynb\\microsam\\src\\omero_functions.py:685: FutureWarning: Downcasting object dtype arrays on .fillna, .ffill, .bfill is deprecated and will change in a future version. Call result.infer_objects(copy=False) instead. To opt-in to the future behavior, set `pd.set_option('future.no_silent_downcasting', True)`\n",
      "  df_for_omero[col] = df_for_omero[col].fillna(False).astype(bool)\n",
      "c:\\Users\\Maarten\\Documents\\Github\\omero_ipynb\\microsam\\src\\omero_functions.py:685: FutureWarning: Downcasting object dtype arrays on .fillna, .ffill, .bfill is deprecated and will change in a future version. Call result.infer_objects(copy=False) instead. To opt-in to the future behavior, set `pd.set_option('future.no_silent_downcasting', True)`\n",
      "  df_for_omero[col] = df_for_omero[col].fillna(False).astype(bool)\n",
      "c:\\Users\\Maarten\\Documents\\Github\\omero_ipynb\\microsam\\src\\omero_functions.py:685: FutureWarning: Downcasting object dtype arrays on .fillna, .ffill, .bfill is deprecated and will change in a future version. Call result.infer_objects(copy=False) instead. To opt-in to the future behavior, set `pd.set_option('future.no_silent_downcasting', True)`\n",
      "  df_for_omero[col] = df_for_omero[col].fillna(False).astype(bool)\n",
      "c:\\Users\\Maarten\\Documents\\Github\\omero_ipynb\\microsam\\src\\omero_functions.py:692: FutureWarning: Downcasting object dtype arrays on .fillna, .ffill, .bfill is deprecated and will change in a future version. Call result.infer_objects(copy=False) instead. To opt-in to the future behavior, set `pd.set_option('future.no_silent_downcasting', True)`\n",
      "  df_for_omero[col] = df_for_omero[col].fillna('None').astype(str)\n",
      "c:\\Users\\Maarten\\Documents\\Github\\omero_ipynb\\microsam\\src\\omero_functions.py:692: FutureWarning: Downcasting object dtype arrays on .fillna, .ffill, .bfill is deprecated and will change in a future version. Call result.infer_objects(copy=False) instead. To opt-in to the future behavior, set `pd.set_option('future.no_silent_downcasting', True)`\n",
      "  df_for_omero[col] = df_for_omero[col].fillna('None').astype(str)\n",
      "c:\\Users\\Maarten\\Documents\\Github\\omero_ipynb\\microsam\\src\\omero_functions.py:692: FutureWarning: Downcasting object dtype arrays on .fillna, .ffill, .bfill is deprecated and will change in a future version. Call result.infer_objects(copy=False) instead. To opt-in to the future behavior, set `pd.set_option('future.no_silent_downcasting', True)`\n",
      "  df_for_omero[col] = df_for_omero[col].fillna('None').astype(str)\n",
      "c:\\Users\\Maarten\\Documents\\Github\\omero_ipynb\\microsam\\src\\omero_functions.py:692: FutureWarning: Downcasting object dtype arrays on .fillna, .ffill, .bfill is deprecated and will change in a future version. Call result.infer_objects(copy=False) instead. To opt-in to the future behavior, set `pd.set_option('future.no_silent_downcasting', True)`\n",
      "  df_for_omero[col] = df_for_omero[col].fillna('None').astype(str)\n"
     ]
    },
    {
     "name": "stdout",
     "output_type": "stream",
     "text": [
      "Created tracking table with 12 rows, ID: 355\n",
      "object group 0\n",
      "Stored annotation configuration in OMERO with ID: 356\n"
     ]
    },
    {
     "name": "stderr",
     "output_type": "stream",
     "text": [
      "INFO:omero.gateway:Registered c306629a-70ab-4ffe-ac6d-02a734e22f4e/d669a121-cea2-409b-b117-2fbd2be36c0eomero.api.RawPixelsStore -t -e 1.1:tcp -h 172.19.0.8 -p 41349 -t 60000\n"
     ]
    },
    {
     "name": "stdout",
     "output_type": "stream",
     "text": [
      "Processing 12 patches in 2 batches\n",
      "3D mode: False\n",
      "\n",
      "Processing batch 1/2\n"
     ]
    },
    {
     "name": "stderr",
     "output_type": "stream",
     "text": [
      "INFO:omero.gateway:Unregistered c306629a-70ab-4ffe-ac6d-02a734e22f4e/d669a121-cea2-409b-b117-2fbd2be36c0eomero.api.RawPixelsStore -t -e 1.1:tcp -h 172.19.0.8 -p 41349 -t 60000\n",
      "INFO:omero.gateway:Registered c306629a-70ab-4ffe-ac6d-02a734e22f4e/cb85196c-1dbd-474e-b346-2b772316735aomero.api.RawPixelsStore -t -e 1.1:tcp -h 172.19.0.8 -p 41349 -t 60000\n"
     ]
    },
    {
     "name": "stdout",
     "output_type": "stream",
     "text": [
      "Loaded 2D image/patch for image 256 at timepoint 10, z-slice 0 with shape (256, 256)\n"
     ]
    },
    {
     "name": "stderr",
     "output_type": "stream",
     "text": [
      "INFO:omero.gateway:Unregistered c306629a-70ab-4ffe-ac6d-02a734e22f4e/cb85196c-1dbd-474e-b346-2b772316735aomero.api.RawPixelsStore -t -e 1.1:tcp -h 172.19.0.8 -p 41349 -t 60000\n",
      "INFO:omero.gateway:Registered c306629a-70ab-4ffe-ac6d-02a734e22f4e/f05446a6-8e08-4b55-ac75-82d0dea1e9fdomero.api.RawPixelsStore -t -e 1.1:tcp -h 172.19.0.8 -p 41349 -t 60000\n"
     ]
    },
    {
     "name": "stdout",
     "output_type": "stream",
     "text": [
      "Loaded 2D image/patch for image 256 at timepoint 13, z-slice 0 with shape (256, 256)\n"
     ]
    },
    {
     "name": "stderr",
     "output_type": "stream",
     "text": [
      "INFO:omero.gateway:Unregistered c306629a-70ab-4ffe-ac6d-02a734e22f4e/f05446a6-8e08-4b55-ac75-82d0dea1e9fdomero.api.RawPixelsStore -t -e 1.1:tcp -h 172.19.0.8 -p 41349 -t 60000\n",
      "INFO:omero.gateway:Registered c306629a-70ab-4ffe-ac6d-02a734e22f4e/c9069192-1754-4a3a-a65d-587cd67aed4bomero.api.RawPixelsStore -t -e 1.1:tcp -h 172.19.0.8 -p 41349 -t 60000\n"
     ]
    },
    {
     "name": "stdout",
     "output_type": "stream",
     "text": [
      "Loaded 2D image/patch for image 251 at timepoint 8, z-slice 0 with shape (256, 256)\n"
     ]
    },
    {
     "name": "stderr",
     "output_type": "stream",
     "text": [
      "INFO:omero.gateway:Unregistered c306629a-70ab-4ffe-ac6d-02a734e22f4e/c9069192-1754-4a3a-a65d-587cd67aed4bomero.api.RawPixelsStore -t -e 1.1:tcp -h 172.19.0.8 -p 41349 -t 60000\n",
      "INFO:omero.gateway:Registered c306629a-70ab-4ffe-ac6d-02a734e22f4e/eb874b39-fc13-405a-983a-ac6793fade5comero.api.RawPixelsStore -t -e 1.1:tcp -h 172.19.0.8 -p 41349 -t 60000\n"
     ]
    },
    {
     "name": "stdout",
     "output_type": "stream",
     "text": [
      "Loaded 2D image/patch for image 251 at timepoint 7, z-slice 0 with shape (256, 256)\n"
     ]
    },
    {
     "name": "stderr",
     "output_type": "stream",
     "text": [
      "INFO:omero.gateway:Unregistered c306629a-70ab-4ffe-ac6d-02a734e22f4e/eb874b39-fc13-405a-983a-ac6793fade5comero.api.RawPixelsStore -t -e 1.1:tcp -h 172.19.0.8 -p 41349 -t 60000\n",
      "INFO:omero.gateway:Registered c306629a-70ab-4ffe-ac6d-02a734e22f4e/b2ce615b-e0da-43ed-b783-e831f671ece4omero.api.RawPixelsStore -t -e 1.1:tcp -h 172.19.0.8 -p 41349 -t 60000\n"
     ]
    },
    {
     "name": "stdout",
     "output_type": "stream",
     "text": [
      "Loaded 2D image/patch for image 255 at timepoint 11, z-slice 0 with shape (256, 256)\n"
     ]
    },
    {
     "name": "stderr",
     "output_type": "stream",
     "text": [
      "INFO:omero.gateway:Unregistered c306629a-70ab-4ffe-ac6d-02a734e22f4e/b2ce615b-e0da-43ed-b783-e831f671ece4omero.api.RawPixelsStore -t -e 1.1:tcp -h 172.19.0.8 -p 41349 -t 60000\n"
     ]
    },
    {
     "name": "stdout",
     "output_type": "stream",
     "text": [
      "Loaded 2D image/patch for image 255 at timepoint 12, z-slice 0 with shape (256, 256)\n",
      "Starting napari viewer with SAM annotator. Close the viewer window when done.\n",
      "Precomputation took 59.59020709991455 seconds (= 00:60 minutes)\n",
      "The first image to annotate is image number 0\n"
     ]
    },
    {
     "name": "stderr",
     "output_type": "stream",
     "text": [
      "WARNING:omero.gateway:ObjectNotExistException on <class 'omero.gateway.OmeroGatewaySafeCallWrapper'> to <969e0b34-8286-41fb-8538-8f3b93025dc9omero.api.IQuery> findByQuery(('select obj from Image obj join fetch obj.details.owner as owner join fetch obj.details.creationEvent where obj.id in (:ids)', object #0 (::omero::sys::Parameters)\n",
      "{\n",
      "    map = \n",
      "    {\n",
      "        key = ids\n",
      "        value = object #1 (::omero::RList)\n",
      "        {\n",
      "            _val = \n",
      "            {\n",
      "                [0] = object #2 (::omero::RLong)\n",
      "                {\n",
      "                    _val = 256\n",
      "                }\n",
      "            }\n",
      "        }\n",
      "    }\n",
      "    theFilter = <nil>\n",
      "    theOptions = <nil>\n",
      "}, <ServiceOptsDict: {'omero.client.uuid': '969e0b34-8286-41fb-8538-8f3b93025dc9', 'omero.event': 'Internal', 'omero.session.uuid': 'c306629a-70ab-4ffe-ac6d-02a734e22f4e', 'omero.group': '0'}>), {})\n",
      "Traceback (most recent call last):\n",
      "  File \"c:\\Users\\Maarten\\miniforge3\\envs\\micro-sam\\Lib\\site-packages\\omero\\gateway\\__init__.py\", line 4852, in __call__\n",
      "    return self.f(*args, **kwargs)\n",
      "           ^^^^^^^^^^^^^^^^^^^^^^^\n",
      "  File \"c:\\Users\\Maarten\\miniforge3\\envs\\micro-sam\\Lib\\site-packages\\omero_api_IQuery_ice.py\", line 651, in findByQuery\n",
      "    return _M_omero.api.IQuery._op_findByQuery.invoke(self, ((query, params), _ctx))\n",
      "           ^^^^^^^^^^^^^^^^^^^^^^^^^^^^^^^^^^^^^^^^^^^^^^^^^^^^^^^^^^^^^^^^^^^^^^^^^\n",
      "Ice.ObjectNotExistException: exception ::Ice::ObjectNotExistException\n",
      "{\n",
      "    id = \n",
      "    {\n",
      "        name = 969e0b34-8286-41fb-8538-8f3b93025dc9omero.api.IQuery\n",
      "        category = c306629a-70ab-4ffe-ac6d-02a734e22f4e\n",
      "    }\n",
      "    facet = \n",
      "    operation = findByQuery\n",
      "}\n"
     ]
    },
    {
     "name": "stdout",
     "output_type": "stream",
     "text": [
      "Error in napari: This viewer has already been closed and deleted. Please create a new one.\n",
      "Processing results from batch...\n",
      "Done annotating batch, storing results in zarr and uploading to OMERO\n"
     ]
    },
    {
     "ename": "ObjectNotExistException",
     "evalue": "exception ::Ice::ObjectNotExistException\n{\n    id = \n    {\n        name = 969e0b34-8286-41fb-8538-8f3b93025dc9omero.api.IQuery\n        category = c306629a-70ab-4ffe-ac6d-02a734e22f4e\n    }\n    facet = \n    operation = findByQuery\n}",
     "output_type": "error",
     "traceback": [
      "\u001b[1;31m---------------------------------------------------------------------------\u001b[0m",
      "\u001b[1;31mObjectNotExistException\u001b[0m                   Traceback (most recent call last)",
      "Cell \u001b[1;32mIn[61], line 1\u001b[0m\n\u001b[1;32m----> 1\u001b[0m table_id, combined_images \u001b[38;5;241m=\u001b[39m \u001b[43mprocess_omero_batch\u001b[49m\u001b[43m(\u001b[49m\n\u001b[0;32m      2\u001b[0m \u001b[43m    \u001b[49m\u001b[43mconn\u001b[49m\u001b[43m,\u001b[49m\n\u001b[0;32m      3\u001b[0m \u001b[43m    \u001b[49m\u001b[43mimages\u001b[49m\u001b[43m,\u001b[49m\n\u001b[0;32m      4\u001b[0m \u001b[43m    \u001b[49m\u001b[43moutput_directory\u001b[49m\u001b[43m,\u001b[49m\n\u001b[0;32m      5\u001b[0m \u001b[43m    \u001b[49m\u001b[43mdatatype\u001b[49m\u001b[43m,\u001b[49m\n\u001b[0;32m      6\u001b[0m \u001b[43m    \u001b[49m\u001b[43mdata_id\u001b[49m\u001b[43m,\u001b[49m\n\u001b[0;32m      7\u001b[0m \u001b[43m    \u001b[49m\u001b[43msource_desc\u001b[49m\u001b[43m,\u001b[49m\n\u001b[0;32m      8\u001b[0m \u001b[43m    \u001b[49m\u001b[43mmodel_type\u001b[49m\u001b[38;5;241;43m=\u001b[39;49m\u001b[43mmodel_type\u001b[49m\u001b[43m,\u001b[49m\n\u001b[0;32m      9\u001b[0m \u001b[43m    \u001b[49m\u001b[43mbatch_size\u001b[49m\u001b[38;5;241;43m=\u001b[39;49m\u001b[43mbatch_size\u001b[49m\u001b[43m,\u001b[49m\n\u001b[0;32m     10\u001b[0m \u001b[43m    \u001b[49m\u001b[43mchannel\u001b[49m\u001b[38;5;241;43m=\u001b[39;49m\u001b[43mchannel\u001b[49m\u001b[43m,\u001b[49m\n\u001b[0;32m     11\u001b[0m \u001b[43m    \u001b[49m\u001b[43mtimepoints\u001b[49m\u001b[38;5;241;43m=\u001b[39;49m\u001b[43mtimepoints\u001b[49m\u001b[43m,\u001b[49m\n\u001b[0;32m     12\u001b[0m \u001b[43m    \u001b[49m\u001b[43mtimepoint_mode\u001b[49m\u001b[38;5;241;43m=\u001b[39;49m\u001b[43mtimepoint_mode\u001b[49m\u001b[43m,\u001b[49m\n\u001b[0;32m     13\u001b[0m \u001b[43m    \u001b[49m\u001b[43mz_slices\u001b[49m\u001b[38;5;241;43m=\u001b[39;49m\u001b[43mz_slices\u001b[49m\u001b[43m,\u001b[49m\n\u001b[0;32m     14\u001b[0m \u001b[43m    \u001b[49m\u001b[43mz_slice_mode\u001b[49m\u001b[38;5;241;43m=\u001b[39;49m\u001b[43mz_slice_mode\u001b[49m\u001b[43m,\u001b[49m\n\u001b[0;32m     15\u001b[0m \u001b[43m    \u001b[49m\u001b[43msegment_all\u001b[49m\u001b[38;5;241;43m=\u001b[39;49m\u001b[43msegment_all\u001b[49m\u001b[43m,\u001b[49m\n\u001b[0;32m     16\u001b[0m \u001b[43m    \u001b[49m\u001b[43mtrain_n\u001b[49m\u001b[38;5;241;43m=\u001b[39;49m\u001b[43mtrain_n\u001b[49m\u001b[43m,\u001b[49m\n\u001b[0;32m     17\u001b[0m \u001b[43m    \u001b[49m\u001b[43mvalidate_n\u001b[49m\u001b[38;5;241;43m=\u001b[39;49m\u001b[43mvalidate_n\u001b[49m\u001b[43m,\u001b[49m\n\u001b[0;32m     18\u001b[0m \u001b[43m    \u001b[49m\u001b[43mthree_d\u001b[49m\u001b[38;5;241;43m=\u001b[39;49m\u001b[43mthree_d\u001b[49m\u001b[43m,\u001b[49m\n\u001b[0;32m     19\u001b[0m \u001b[43m    \u001b[49m\u001b[43muse_patches\u001b[49m\u001b[38;5;241;43m=\u001b[39;49m\u001b[43muse_patches\u001b[49m\u001b[43m,\u001b[49m\n\u001b[0;32m     20\u001b[0m \u001b[43m    \u001b[49m\u001b[43mpatch_size\u001b[49m\u001b[38;5;241;43m=\u001b[39;49m\u001b[43mpatch_size\u001b[49m\u001b[43m,\u001b[49m\n\u001b[0;32m     21\u001b[0m \u001b[43m    \u001b[49m\u001b[43mpatches_per_image\u001b[49m\u001b[38;5;241;43m=\u001b[39;49m\u001b[43mpatches_per_image\u001b[49m\u001b[43m,\u001b[49m\n\u001b[0;32m     22\u001b[0m \u001b[43m    \u001b[49m\u001b[43mrandom_patches\u001b[49m\u001b[38;5;241;43m=\u001b[39;49m\u001b[43mrandom_patches\u001b[49m\u001b[43m,\u001b[49m\n\u001b[0;32m     23\u001b[0m \u001b[43m    \u001b[49m\u001b[43mresume_from_table\u001b[49m\u001b[38;5;241;43m=\u001b[39;49m\u001b[43mresume_from_table\u001b[49m\u001b[43m,\u001b[49m\n\u001b[0;32m     24\u001b[0m \u001b[43m    \u001b[49m\u001b[43mread_only_mode\u001b[49m\u001b[38;5;241;43m=\u001b[39;49m\u001b[43mread_only_mode\u001b[49m\u001b[43m,\u001b[49m\n\u001b[0;32m     25\u001b[0m \u001b[43m    \u001b[49m\u001b[43mlocal_output_dir\u001b[49m\u001b[38;5;241;43m=\u001b[39;49m\u001b[43mlocal_output_dir\u001b[49m\u001b[43m,\u001b[49m\n\u001b[0;32m     26\u001b[0m \u001b[43m    \u001b[49m\u001b[43mtrainingset_name\u001b[49m\u001b[38;5;241;43m=\u001b[39;49m\u001b[43mtrainingset_name\u001b[49m\u001b[43m,\u001b[49m\n\u001b[0;32m     27\u001b[0m \u001b[43m    \u001b[49m\u001b[43mgroup_by_image\u001b[49m\u001b[38;5;241;43m=\u001b[39;49m\u001b[43mgroup_by_image\u001b[49m\n\u001b[0;32m     28\u001b[0m \u001b[43m)\u001b[49m\n\u001b[0;32m     30\u001b[0m \u001b[38;5;28mprint\u001b[39m(\u001b[38;5;124mf\u001b[39m\u001b[38;5;124m\"\u001b[39m\u001b[38;5;124mAnnotation complete! Table ID: \u001b[39m\u001b[38;5;132;01m{\u001b[39;00mtable_id\u001b[38;5;132;01m}\u001b[39;00m\u001b[38;5;124m\"\u001b[39m)\n\u001b[0;32m     31\u001b[0m \u001b[38;5;28mprint\u001b[39m(\u001b[38;5;124mf\u001b[39m\u001b[38;5;124m\"\u001b[39m\u001b[38;5;124mProcessed \u001b[39m\u001b[38;5;132;01m{\u001b[39;00m\u001b[38;5;28mlen\u001b[39m(combined_images)\u001b[38;5;132;01m}\u001b[39;00m\u001b[38;5;124m images\u001b[39m\u001b[38;5;124m\"\u001b[39m)\n",
      "File \u001b[1;32mc:\\Users\\Maarten\\Documents\\Github\\omero_ipynb\\microsam\\src\\processing_pipeline.py:443\u001b[0m, in \u001b[0;36mprocess_omero_batch\u001b[1;34m(conn, images_list, output_folder, container_type, container_id, source_desc, model_type, batch_size, channel, timepoints, timepoint_mode, z_slices, z_slice_mode, segment_all, train_n, validate_n, three_d, use_patches, patch_size, patches_per_image, random_patches, resume_from_table, read_only_mode, local_output_dir, trainingset_name, group_by_image)\u001b[0m\n\u001b[0;32m    440\u001b[0m global_n \u001b[38;5;241m=\u001b[39m start_idx \u001b[38;5;241m+\u001b[39m n  \u001b[38;5;66;03m# Global index across all batches\u001b[39;00m\n\u001b[0;32m    442\u001b[0m \u001b[38;5;66;03m# Get the image object\u001b[39;00m\n\u001b[1;32m--> 443\u001b[0m image \u001b[38;5;241m=\u001b[39m \u001b[43mconn\u001b[49m\u001b[38;5;241;43m.\u001b[39;49m\u001b[43mgetObject\u001b[49m\u001b[43m(\u001b[49m\u001b[38;5;124;43m\"\u001b[39;49m\u001b[38;5;124;43mImage\u001b[39;49m\u001b[38;5;124;43m\"\u001b[39;49m\u001b[43m,\u001b[49m\u001b[43m \u001b[49m\u001b[43munit_data\u001b[49m\u001b[43m[\u001b[49m\u001b[38;5;124;43m'\u001b[39;49m\u001b[38;5;124;43mimage_id\u001b[39;49m\u001b[38;5;124;43m'\u001b[39;49m\u001b[43m]\u001b[49m\u001b[43m)\u001b[49m\n\u001b[0;32m    444\u001b[0m is_patch \u001b[38;5;241m=\u001b[39m unit_data[\u001b[38;5;124m'\u001b[39m\u001b[38;5;124mis_patch\u001b[39m\u001b[38;5;124m'\u001b[39m]\n\u001b[0;32m    445\u001b[0m patch_info \u001b[38;5;241m=\u001b[39m \u001b[38;5;28;01mNone\u001b[39;00m\n",
      "File \u001b[1;32mc:\\Users\\Maarten\\miniforge3\\envs\\micro-sam\\Lib\\site-packages\\omero\\gateway\\__init__.py:3267\u001b[0m, in \u001b[0;36m_BlitzGateway.getObject\u001b[1;34m(self, obj_type, oid, params, attributes, opts)\u001b[0m\n\u001b[0;32m   3264\u001b[0m oids \u001b[38;5;241m=\u001b[39m (oid \u001b[38;5;129;01mis\u001b[39;00m \u001b[38;5;129;01mnot\u001b[39;00m \u001b[38;5;28;01mNone\u001b[39;00m) \u001b[38;5;129;01mand\u001b[39;00m [oid] \u001b[38;5;129;01mor\u001b[39;00m \u001b[38;5;28;01mNone\u001b[39;00m\n\u001b[0;32m   3265\u001b[0m query, params, wrapper \u001b[38;5;241m=\u001b[39m \u001b[38;5;28mself\u001b[39m\u001b[38;5;241m.\u001b[39mbuildQuery(\n\u001b[0;32m   3266\u001b[0m     obj_type, oids, params, attributes, opts)\n\u001b[1;32m-> 3267\u001b[0m result \u001b[38;5;241m=\u001b[39m \u001b[38;5;28;43mself\u001b[39;49m\u001b[38;5;241;43m.\u001b[39;49m\u001b[43mgetQueryService\u001b[49m\u001b[43m(\u001b[49m\u001b[43m)\u001b[49m\u001b[38;5;241;43m.\u001b[39;49m\u001b[43mfindByQuery\u001b[49m\u001b[43m(\u001b[49m\n\u001b[0;32m   3268\u001b[0m \u001b[43m    \u001b[49m\u001b[43mquery\u001b[49m\u001b[43m,\u001b[49m\u001b[43m \u001b[49m\u001b[43mparams\u001b[49m\u001b[43m,\u001b[49m\u001b[43m \u001b[49m\u001b[38;5;28;43mself\u001b[39;49m\u001b[38;5;241;43m.\u001b[39;49m\u001b[43mSERVICE_OPTS\u001b[49m\u001b[43m)\u001b[49m\n\u001b[0;32m   3269\u001b[0m \u001b[38;5;28;01mif\u001b[39;00m result \u001b[38;5;129;01mis\u001b[39;00m \u001b[38;5;129;01mnot\u001b[39;00m \u001b[38;5;28;01mNone\u001b[39;00m:\n\u001b[0;32m   3270\u001b[0m     \u001b[38;5;28;01mreturn\u001b[39;00m wrapper(\u001b[38;5;28mself\u001b[39m, result)\n",
      "File \u001b[1;32mc:\\Users\\Maarten\\miniforge3\\envs\\micro-sam\\Lib\\site-packages\\omero\\gateway\\__init__.py:4855\u001b[0m, in \u001b[0;36mOmeroGatewaySafeCallWrapper.__call__\u001b[1;34m(self, *args, **kwargs)\u001b[0m\n\u001b[0;32m   4853\u001b[0m \u001b[38;5;28;01mexcept\u001b[39;00m \u001b[38;5;167;01mException\u001b[39;00m \u001b[38;5;28;01mas\u001b[39;00m e:\n\u001b[0;32m   4854\u001b[0m     \u001b[38;5;28mself\u001b[39m\u001b[38;5;241m.\u001b[39mdebug(e\u001b[38;5;241m.\u001b[39m\u001b[38;5;18m__class__\u001b[39m\u001b[38;5;241m.\u001b[39m\u001b[38;5;18m__name__\u001b[39m, args, kwargs)\n\u001b[1;32m-> 4855\u001b[0m     \u001b[38;5;28;01mreturn\u001b[39;00m \u001b[38;5;28;43mself\u001b[39;49m\u001b[38;5;241;43m.\u001b[39;49m\u001b[43mhandle_exception\u001b[49m\u001b[43m(\u001b[49m\u001b[43me\u001b[49m\u001b[43m,\u001b[49m\u001b[43m \u001b[49m\u001b[38;5;241;43m*\u001b[39;49m\u001b[43margs\u001b[49m\u001b[43m,\u001b[49m\u001b[43m \u001b[49m\u001b[38;5;241;43m*\u001b[39;49m\u001b[38;5;241;43m*\u001b[39;49m\u001b[43mkwargs\u001b[49m\u001b[43m)\u001b[49m\n",
      "File \u001b[1;32mc:\\Users\\Maarten\\miniforge3\\envs\\micro-sam\\Lib\\site-packages\\omero\\gateway\\__init__.py:4852\u001b[0m, in \u001b[0;36mOmeroGatewaySafeCallWrapper.__call__\u001b[1;34m(self, *args, **kwargs)\u001b[0m\n\u001b[0;32m   4850\u001b[0m \u001b[38;5;28;01mdef\u001b[39;00m \u001b[38;5;21m__call__\u001b[39m(\u001b[38;5;28mself\u001b[39m, \u001b[38;5;241m*\u001b[39margs, \u001b[38;5;241m*\u001b[39m\u001b[38;5;241m*\u001b[39mkwargs):\n\u001b[0;32m   4851\u001b[0m     \u001b[38;5;28;01mtry\u001b[39;00m:\n\u001b[1;32m-> 4852\u001b[0m         \u001b[38;5;28;01mreturn\u001b[39;00m \u001b[38;5;28;43mself\u001b[39;49m\u001b[38;5;241;43m.\u001b[39;49m\u001b[43mf\u001b[49m\u001b[43m(\u001b[49m\u001b[38;5;241;43m*\u001b[39;49m\u001b[43margs\u001b[49m\u001b[43m,\u001b[49m\u001b[43m \u001b[49m\u001b[38;5;241;43m*\u001b[39;49m\u001b[38;5;241;43m*\u001b[39;49m\u001b[43mkwargs\u001b[49m\u001b[43m)\u001b[49m\n\u001b[0;32m   4853\u001b[0m     \u001b[38;5;28;01mexcept\u001b[39;00m \u001b[38;5;167;01mException\u001b[39;00m \u001b[38;5;28;01mas\u001b[39;00m e:\n\u001b[0;32m   4854\u001b[0m         \u001b[38;5;28mself\u001b[39m\u001b[38;5;241m.\u001b[39mdebug(e\u001b[38;5;241m.\u001b[39m\u001b[38;5;18m__class__\u001b[39m\u001b[38;5;241m.\u001b[39m\u001b[38;5;18m__name__\u001b[39m, args, kwargs)\n",
      "File \u001b[1;32mc:\\Users\\Maarten\\miniforge3\\envs\\micro-sam\\Lib\\site-packages\\omero_api_IQuery_ice.py:651\u001b[0m, in \u001b[0;36mIQueryPrx.findByQuery\u001b[1;34m(self, query, params, _ctx)\u001b[0m\n\u001b[0;32m    650\u001b[0m \u001b[38;5;28;01mdef\u001b[39;00m \u001b[38;5;21mfindByQuery\u001b[39m(\u001b[38;5;28mself\u001b[39m, query, params, _ctx\u001b[38;5;241m=\u001b[39m\u001b[38;5;28;01mNone\u001b[39;00m):\n\u001b[1;32m--> 651\u001b[0m     \u001b[38;5;28;01mreturn\u001b[39;00m \u001b[43m_M_omero\u001b[49m\u001b[38;5;241;43m.\u001b[39;49m\u001b[43mapi\u001b[49m\u001b[38;5;241;43m.\u001b[39;49m\u001b[43mIQuery\u001b[49m\u001b[38;5;241;43m.\u001b[39;49m\u001b[43m_op_findByQuery\u001b[49m\u001b[38;5;241;43m.\u001b[39;49m\u001b[43minvoke\u001b[49m\u001b[43m(\u001b[49m\u001b[38;5;28;43mself\u001b[39;49m\u001b[43m,\u001b[49m\u001b[43m \u001b[49m\u001b[43m(\u001b[49m\u001b[43m(\u001b[49m\u001b[43mquery\u001b[49m\u001b[43m,\u001b[49m\u001b[43m \u001b[49m\u001b[43mparams\u001b[49m\u001b[43m)\u001b[49m\u001b[43m,\u001b[49m\u001b[43m \u001b[49m\u001b[43m_ctx\u001b[49m\u001b[43m)\u001b[49m\u001b[43m)\u001b[49m\n",
      "\u001b[1;31mObjectNotExistException\u001b[0m: exception ::Ice::ObjectNotExistException\n{\n    id = \n    {\n        name = 969e0b34-8286-41fb-8538-8f3b93025dc9omero.api.IQuery\n        category = c306629a-70ab-4ffe-ac6d-02a734e22f4e\n    }\n    facet = \n    operation = findByQuery\n}"
     ]
    }
   ],
   "source": [
    "table_id, combined_images = process_omero_batch(\n",
    "    conn,\n",
    "    images,\n",
    "    output_directory,\n",
    "    datatype,\n",
    "    data_id,\n",
    "    source_desc,\n",
    "    model_type=model_type,\n",
    "    batch_size=batch_size,\n",
    "    channel=channel,\n",
    "    timepoints=timepoints,\n",
    "    timepoint_mode=timepoint_mode,\n",
    "    z_slices=z_slices,\n",
    "    z_slice_mode=z_slice_mode,\n",
    "    segment_all=segment_all,\n",
    "    train_n=train_n,\n",
    "    validate_n=validate_n,\n",
    "    three_d=three_d,\n",
    "    use_patches=use_patches,\n",
    "    patch_size=patch_size,\n",
    "    patches_per_image=patches_per_image,\n",
    "    random_patches=random_patches,\n",
    "    resume_from_table=resume_from_table,\n",
    "    read_only_mode=read_only_mode,\n",
    "    local_output_dir=local_output_dir,\n",
    "    trainingset_name=trainingset_name,\n",
    "    group_by_image=False\n",
    ")\n",
    "\n",
    "print(f\"Annotation complete! Table ID: {table_id}\")\n",
    "print(f\"Processed {len(combined_images)} images\")"
   ]
  },
  {
   "cell_type": "markdown",
   "id": "cdb35269",
   "metadata": {},
   "source": [
    "## Export training dataset"
   ]
  },
  {
   "cell_type": "code",
   "execution_count": null,
   "id": "c1eb5c36",
   "metadata": {},
   "outputs": [],
   "source": []
  },
  {
   "cell_type": "markdown",
   "id": "54275447",
   "metadata": {},
   "source": []
  },
  {
   "cell_type": "markdown",
   "id": "15",
   "metadata": {
    "editable": true,
    "slideshow": {
     "slide_type": ""
    },
    "tags": []
   },
   "source": [
    "### Display annotations tracking table"
   ]
  },
  {
   "cell_type": "code",
   "execution_count": 15,
   "id": "16",
   "metadata": {},
   "outputs": [
    {
     "ename": "NameError",
     "evalue": "name 'table_id' is not defined",
     "output_type": "error",
     "traceback": [
      "\u001b[1;31m---------------------------------------------------------------------------\u001b[0m",
      "\u001b[1;31mNameError\u001b[0m                                 Traceback (most recent call last)",
      "Cell \u001b[1;32mIn[15], line 2\u001b[0m\n\u001b[0;32m      1\u001b[0m \u001b[38;5;66;03m# Retrieve and display the tracking table\u001b[39;00m\n\u001b[1;32m----> 2\u001b[0m \u001b[38;5;28;01mif\u001b[39;00m \u001b[43mtable_id\u001b[49m \u001b[38;5;129;01mis\u001b[39;00m \u001b[38;5;129;01mnot\u001b[39;00m \u001b[38;5;28;01mNone\u001b[39;00m:\n\u001b[0;32m      3\u001b[0m     tracking_df \u001b[38;5;241m=\u001b[39m ezomero\u001b[38;5;241m.\u001b[39mget_table(conn, table_id)\n\u001b[0;32m      4\u001b[0m     \u001b[38;5;28mprint\u001b[39m(\u001b[38;5;124mf\u001b[39m\u001b[38;5;124m\"\u001b[39m\u001b[38;5;124mTracking table contains \u001b[39m\u001b[38;5;132;01m{\u001b[39;00m\u001b[38;5;28mlen\u001b[39m(tracking_df)\u001b[38;5;132;01m}\u001b[39;00m\u001b[38;5;124m rows\u001b[39m\u001b[38;5;124m\"\u001b[39m)\n",
      "\u001b[1;31mNameError\u001b[0m: name 'table_id' is not defined"
     ]
    }
   ],
   "source": [
    "# Retrieve and display the tracking table\n",
    "if table_id is not None:\n",
    "    tracking_df = ezomero.get_table(conn, table_id)\n",
    "    print(f\"Tracking table contains {len(tracking_df)} rows\")\n",
    "    display(tracking_df)\n",
    "else:\n",
    "    print(\"No tracking table was created\")"
   ]
  },
  {
   "cell_type": "markdown",
   "id": "17",
   "metadata": {},
   "source": [
    "### Clean up and close connection"
   ]
  },
  {
   "cell_type": "code",
   "execution_count": null,
   "id": "18",
   "metadata": {},
   "outputs": [],
   "source": [
    "# Clean up temporary directory\n",
    "try:\n",
    "    shutil.rmtree(output_directory)\n",
    "    print(f\"Removed temporary directory: {output_directory}\")\n",
    "except Exception as e:\n",
    "    print(f\"Error removing temporary directory: {e}\")\n",
    "\n",
    "# Close OMERO connection\n",
    "conn.close()\n",
    "print(\"OMERO connection closed\")"
   ]
  }
 ],
 "metadata": {
  "kernelspec": {
   "display_name": "micro-sam",
   "language": "python",
   "name": "python3"
  },
  "language_info": {
   "codemirror_mode": {
    "name": "ipython",
    "version": 3
   },
   "file_extension": ".py",
   "mimetype": "text/x-python",
   "name": "python",
   "nbconvert_exporter": "python",
   "pygments_lexer": "ipython3",
   "version": "3.11.11"
  }
 },
 "nbformat": 4,
 "nbformat_minor": 5
}
