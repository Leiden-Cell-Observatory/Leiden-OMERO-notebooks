{
 "cells": [
  {
   "cell_type": "code",
   "execution_count": null,
   "id": "72fc0593",
   "metadata": {},
   "outputs": [],
   "source": [
    "# Micro-SAM Run Inference on OMERO Data\n",
    "\n",
    "Example notebook to try the finetuned micro_sam model on OMERO data\n",
    "## 1. Setup \n",
    "Run these cells to import all required packages and functions\n",
    "# Import the omero login widget\n",
    "from omero_annotate_ai import (\n",
    "    create_omero_connection_widget,\n",
    ")\n",
    "\n",
    "# Additional imports\n",
    "import datetime\n",
    "from pathlib import Path\n",
    "import torch\n",
    "import ezomero\n",
    "import stackview\n",
    "import numpy as np\n",
    "\n",
    "from micro_sam.automatic_segmentation import get_predictor_and_segmenter, automatic_instance_segmentation\n",
    "\n",
    "print(f\"Device available: {'CUDA' if torch.cuda.is_available() else 'CPU'}\")\n"
   ]
  },
  {
   "cell_type": "markdown",
   "id": "a2a5f36e",
   "metadata": {},
   "source": [
    "## 2. OMERO Connection"
   ]
  },
  {
   "cell_type": "code",
   "execution_count": null,
   "id": "fa08637b",
   "metadata": {},
   "outputs": [],
   "source": [
    "# Create and display OMERO connection widget\n",
    "conn_widget = create_omero_connection_widget()\n",
    "conn_widget.display()\n",
    "# After setting up the setting we need to setup the OMERO connection\n",
    "conn = conn_widget.get_connection()\n",
    "\n",
    "if conn is None:\n",
    "    raise ConnectionError(\"No OMERO connection established.\")\n",
    "\n",
    "print(f\"Connected to OMERO as: {conn.getUser().getName()}\")"
   ]
  },
  {
   "cell_type": "markdown",
   "id": "4f5c7e73",
   "metadata": {},
   "source": [
    "## 3. Data Selection"
   ]
  },
  {
   "cell_type": "code",
   "execution_count": null,
   "id": "e0353f03",
   "metadata": {},
   "outputs": [],
   "source": [
    "# Select image and a channel, timepoint z-slice (currently only 2D)\n",
    "image_id = 277\n",
    "channel = 0\n",
    "time_point = 66\n",
    "z_slice = 0\n",
    "#optional path to custom trained model\n",
    "#checkpoint_path = r'micro_sam_training_20250829_135659_final.pt'"
   ]
  },
  {
   "cell_type": "code",
   "execution_count": null,
   "id": "d5266b22",
   "metadata": {},
   "outputs": [],
   "source": [
    "#get image from OMERO\n",
    "image = conn.getObject(\"Image\", image_id)\n",
    "__,pixels = ezomero.get_image(conn, image_id, start_coords=[0,0,z_slice,channel,time_point], axis_lengths=[image.getSizeX(),image.getSizeY(),1,1,1])\n",
    "#Run prediction\n",
    "labels = run_automatic_instance_segmentation(np.squeeze(pixels), checkpoint_path, model_type=\"vit_b_lm\", device=None)"
   ]
  },
  {
   "cell_type": "code",
   "execution_count": null,
   "id": "0c44700a",
   "metadata": {},
   "outputs": [],
   "source": [
    "#Here you can see your image with labels overlayed\n",
    "stackview.curtain(np.squeeze(pixels), labels, alpha=0.5, continuous_update=True,zoom_factor=0.5)"
   ]
  },
  {
   "cell_type": "markdown",
   "id": "26e55b83",
   "metadata": {},
   "source": [
    "An example how you can run the prediction on a stack, a time series in this example\n"
   ]
  },
  {
   "cell_type": "code",
   "execution_count": null,
   "id": "12835584",
   "metadata": {},
   "outputs": [],
   "source": [
    "# Select image\n",
    "image_id = 277\n",
    "channel = 0\n",
    "time_point = 0\n",
    "time_point_length = 30\n",
    "z_slice = 0\n",
    "\n",
    "#get image from OMERO\n",
    "image = conn.getObject(\"Image\", image_id)\n",
    "__,pixels = ezomero.get_image(conn, image_id, start_coords=[0,0,z_slice,channel,time_point], axis_lengths=[image.getSizeX(),image.getSizeY(),1,1,time_point_length])\n",
    "#Run prediction\n",
    "labels = []\n",
    "for i in range(np.shape(pixels)[0]):\n",
    "    labels.append(run_automatic_instance_segmentation(np.squeeze(pixels[i]), checkpoint_path, model_type=\"vit_b_lm\", device=None))\n",
    "#Now you can also slice through the images\n",
    "stackview.curtain(np.squeeze(pixels), labels, alpha=0.5, continuous_update=True,zoom_factor=0.5)"
   ]
  }
 ],
 "metadata": {
  "language_info": {
   "name": "python"
  }
 },
 "nbformat": 4,
 "nbformat_minor": 5
}
