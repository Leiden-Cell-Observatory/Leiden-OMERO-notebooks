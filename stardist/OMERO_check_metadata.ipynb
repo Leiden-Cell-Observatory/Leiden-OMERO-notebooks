{
 "cells": [
  {
   "cell_type": "code",
   "execution_count": null,
   "metadata": {},
   "outputs": [
    {
     "data": {
      "text/plain": [
       "101"
      ]
     },
     "execution_count": 2,
     "metadata": {},
     "output_type": "execute_result"
    }
   ],
   "source": [
    "from omero.gateway import BlitzGateway\n",
    "import ezomero\n",
    "\n",
    "101"
   ]
  },
  {
   "cell_type": "code",
   "execution_count": 5,
   "metadata": {},
   "outputs": [
    {
     "name": "stdout",
     "output_type": "stream",
     "text": [
      "True\n"
     ]
    }
   ],
   "source": [
    "#conn = BlitzGateway(host='ws://idr.openmicroscopy.org/omero-ws', username='public', passwd='public', secure=True)\n",
    "conn = BlitzGateway(host='localhost', username='root', passwd='omero', secure=True)\n",
    "print(conn.connect())\n",
    "conn.c.enableKeepAlive(60)"
   ]
  },
  {
   "cell_type": "code",
   "execution_count": 10,
   "metadata": {},
   "outputs": [
    {
     "name": "stdout",
     "output_type": "stream",
     "text": [
      "[964, 965, 966, 967, 968, 969, 970, 971, 972, 973]\n",
      "{'Workflow_ID': 'badcd958-f6ec-4351-b668-ac8b56a1cd4e', 'Name': 'Slurm Workflow', 'Version': '2.0.0', 'Created_On': '2025-01-09T09:45:47.746348+00:00', 'Modified_On': '2025-01-09T09:57:56.501261+00:00', 'Task_IDs': 'dfda7680-6539-4ab0-b31c-9a1063ed2510, 435a081d-2dd7-4b03-a255-de0f61e74634, beb4b087-d826-4321-93a1-6ef43cfa9921, aad47229-8ef1-41bc-b0fe-68e61b2b7cdf, d6f29152-75fd-440b-b12c-664bc3e74be7, bcf00f5e-7182-4463-9f5c-272b539de5b4'}\n"
     ]
    }
   ],
   "source": [
    "file_ann_ids = ezomero.get_map_annotation_ids(conn, 'Image', 1601)\n",
    "print(file_ann_ids)\n",
    "for ann_id in file_ann_ids:\n",
    "    print(ezomero.get_map_annotation(conn, ann_id))\n",
    "    break"
   ]
  },
  {
   "cell_type": "code",
   "execution_count": 11,
   "metadata": {},
   "outputs": [
    {
     "name": "stdout",
     "output_type": "stream",
     "text": [
      "object group 0\n"
     ]
    },
    {
     "data": {
      "text/plain": [
       "1604"
      ]
     },
     "execution_count": 11,
     "metadata": {},
     "output_type": "execute_result"
    }
   ],
   "source": [
    "ns = 'jax.org/jax/example/namespace'\n",
    "\n",
    "d = {'species': 'human',\n",
    "     'occupation': 'time traveler',\n",
    "     'first name': 'Kyle',\n",
    "     'surname': 'Reese'}\n",
    "\n",
    "ezomero.post_map_annotation(conn, \"Image\", 1601, d, ns)"
   ]
  }
 ],
 "metadata": {
  "kernelspec": {
   "display_name": "omero-guide-cellprofiler",
   "language": "python",
   "name": "python3"
  },
  "language_info": {
   "codemirror_mode": {
    "name": "ipython",
    "version": 3
   },
   "file_extension": ".py",
   "mimetype": "text/x-python",
   "name": "python",
   "nbconvert_exporter": "python",
   "pygments_lexer": "ipython3",
   "version": "3.8.18"
  }
 },
 "nbformat": 4,
 "nbformat_minor": 2
}
