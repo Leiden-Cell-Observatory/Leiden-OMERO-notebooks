{
 "cells": [
  {
   "cell_type": "code",
   "execution_count": null,
   "metadata": {},
   "outputs": [],
   "source": [
    "#https://github.com/haesleinhuepf/napari-skimage-regionprops/blob/master/demo/tables.ipynb\n",
    "\n",
    "#plotting the image and the labels in napari\n",
    "import numpy as np\n",
    "import napari\n",
    "import pandas\n",
    "from napari_skimage_regionprops import regionprops_table, add_table, get_table\n",
    "import tifffile\n",
    "import stackview\n",
    "from napari.settings import get_settings\n",
    "from skimage import data\n",
    "\n",
    "settings = get_settings()\n",
    "settings.application.ipy_interactive = True\n",
    "\n",
    "\n",
    "image = tifffile.imread('image.tif')\n",
    "print(image.shape)\n",
    "labels = tifffile.imread('labels.tif')\n",
    "print(labels.shape)\n",
    "viewer = napari.Viewer()\n",
    "viewer.add_image(image[:,:,:,:])\n",
    "\n",
    "labels = np.array(labels, dtype=int)[:,:,:]\n",
    "labels = np.expand_dims(labels,1)\n",
    "print(labels.shape)\n",
    "viewer.add_labels(labels)\n",
    "# napari.run()\n"
   ]
  },
  {
   "cell_type": "code",
   "execution_count": null,
   "metadata": {},
   "outputs": [],
   "source": [
    "viewer = napari.Viewer()\n",
    "viewer.add_image(np.asarray([[1,2],[2,2]]))\n",
    "viewer.add_labels(np.asarray([[1,2],[3,3]]))\n",
    "regionprops_table(\n",
    "    viewer.layers[0].data,\n",
    "    viewer.layers[1].data,\n",
    "    size=True,\n",
    "    intensity=True,\n",
    "    napari_viewer=viewer,\n",
    ")\n",
    "\n"
   ]
  },
  {
   "cell_type": "code",
   "execution_count": null,
   "metadata": {},
   "outputs": [],
   "source": [
    "labels = viewer.layers[1]\n",
    "\n",
    "table = get_table(labels, viewer)\n",
    "print(table)\n",
    "content = pandas.DataFrame(table.get_content())\n",
    "print(content)\n",
    "new_values = {'A': [1, 2, 3],\n",
    "             'B': [4, 5, 6]\n",
    "             }\n",
    "\n",
    "content = pandas.DataFrame(table.get_content())\n",
    "print(content)\n",
    "#napari.utils.nbscreenshot(viewer)"
   ]
  },
  {
   "cell_type": "code",
   "execution_count": null,
   "metadata": {},
   "outputs": [],
   "source": [
    "import stackview\n",
    "\n",
    "print(np.shape(image[3,0,:,:]) + np.shape(labels[3,:,:]))\n",
    "stackview.imshow(image[3,0,:,:])\n"
   ]
  }
 ],
 "metadata": {
  "kernelspec": {
   "display_name": "micro-sam",
   "language": "python",
   "name": "python3"
  },
  "language_info": {
   "codemirror_mode": {
    "name": "ipython",
    "version": 3
   },
   "file_extension": ".py",
   "mimetype": "text/x-python",
   "name": "python",
   "nbconvert_exporter": "python",
   "pygments_lexer": "ipython3",
   "version": "3.10.15"
  }
 },
 "nbformat": 4,
 "nbformat_minor": 2
}
