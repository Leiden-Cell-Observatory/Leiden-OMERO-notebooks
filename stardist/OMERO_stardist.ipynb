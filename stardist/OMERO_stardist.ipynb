{
 "cells": [
  {
   "cell_type": "markdown",
   "metadata": {},
   "source": [
    "# 2D Stardist segmentation on 2D/3D/timelapse OMERO images"
   ]
  },
  {
   "cell_type": "markdown",
   "metadata": {},
   "source": [
    "This notebook is used for Stardist segmentation. Some inspiration from the https://github.com/ome/omero-guide-cellprofiler/idr0002.ipynb\n",
    "\n",
    "## TO DO\n",
    "- Make a generic function for 2D segmentation for all slices independent of the shape of the image z,c,t\n",
    "- Include a ID to all files uploaded to OMERO to make it more tracable\n",
    "- Extend to handle multiple channels AND timepoints\n",
    "- Check if we can overwrite label images if nesseary or ROIs\n"
   ]
  },
  {
   "cell_type": "markdown",
   "metadata": {},
   "source": [
    "### Import Packages"
   ]
  },
  {
   "cell_type": "code",
   "execution_count": 1,
   "metadata": {},
   "outputs": [
    {
     "name": "stdout",
     "output_type": "stream",
     "text": [
      "Found model '2D_versatile_fluo' for 'StarDist2D'.\n",
      "Loading network weights from 'weights_best.h5'.\n",
      "Loading thresholds from 'thresholds.json'.\n",
      "Using default values: prob_thresh=0.479071, nms_thresh=0.3.\n"
     ]
    }
   ],
   "source": [
    "# Import OMERO Python BlitzGateway\n",
    "import omero\n",
    "from omero.gateway import BlitzGateway\n",
    "import ezomero\n",
    "# Import Numpy\n",
    "import numpy as np\n",
    "\n",
    "# Import Python System Packages\n",
    "import os\n",
    "import tempfile\n",
    "import pandas\n",
    "import warnings\n",
    "\n",
    "#stardist related\n",
    "from stardist.models import StarDist2D\n",
    "from csbdeep.utils import normalize\n",
    "from stardist.plot import render_label\n",
    "import matplotlib.pyplot as plt\n",
    "from tifffile import imsave\n",
    "\n",
    "#load stardist model\n",
    "model = StarDist2D.from_pretrained('2D_versatile_fluo')"
   ]
  },
  {
   "cell_type": "markdown",
   "metadata": {},
   "source": [
    "### Set Temp Output Directory"
   ]
  },
  {
   "cell_type": "code",
   "execution_count": 2,
   "metadata": {},
   "outputs": [
    {
     "name": "stdout",
     "output_type": "stream",
     "text": [
      "c:\\users\\mwpaul\\appdata\\local\\temp\\tmpoq98sgaw\n",
      "20250110165135\n"
     ]
    }
   ],
   "source": [
    "import datetime\n",
    "\n",
    "new_output_directory = os.path.normcase(tempfile.mkdtemp())\n",
    "print(new_output_directory)\n",
    "#create unique job id for reference based on date and time\n",
    "job_id = str(datetime.datetime.now().strftime(\"%Y%m%d%H%M%S\"))\n",
    "print(job_id)"
   ]
  },
  {
   "cell_type": "markdown",
   "metadata": {},
   "source": [
    "### Setup connection with OMERO"
   ]
  },
  {
   "cell_type": "code",
   "execution_count": 3,
   "metadata": {},
   "outputs": [
    {
     "ename": "NameError",
     "evalue": "name 'BlitzGateway' is not defined",
     "output_type": "error",
     "traceback": [
      "\u001b[1;31m---------------------------------------------------------------------------\u001b[0m",
      "\u001b[1;31mNameError\u001b[0m                                 Traceback (most recent call last)",
      "Cell \u001b[1;32mIn[3], line 1\u001b[0m\n\u001b[1;32m----> 1\u001b[0m conn \u001b[38;5;241m=\u001b[39m \u001b[43mBlitzGateway\u001b[49m(host\u001b[38;5;241m=\u001b[39m\u001b[38;5;124m'\u001b[39m\u001b[38;5;124mlocalhost\u001b[39m\u001b[38;5;124m'\u001b[39m, username\u001b[38;5;241m=\u001b[39m\u001b[38;5;124m'\u001b[39m\u001b[38;5;124mroot\u001b[39m\u001b[38;5;124m'\u001b[39m, passwd\u001b[38;5;241m=\u001b[39m\u001b[38;5;124m'\u001b[39m\u001b[38;5;124momero\u001b[39m\u001b[38;5;124m'\u001b[39m, secure\u001b[38;5;241m=\u001b[39m\u001b[38;5;28;01mTrue\u001b[39;00m)\n\u001b[0;32m      2\u001b[0m \u001b[38;5;28mprint\u001b[39m(conn\u001b[38;5;241m.\u001b[39mconnect())\n\u001b[0;32m      3\u001b[0m conn\u001b[38;5;241m.\u001b[39mc\u001b[38;5;241m.\u001b[39menableKeepAlive(\u001b[38;5;241m60\u001b[39m)\n",
      "\u001b[1;31mNameError\u001b[0m: name 'BlitzGateway' is not defined"
     ]
    }
   ],
   "source": [
    "conn = BlitzGateway(host='localhost', username='root', passwd='omero', secure=True)\n",
    "print(conn.connect())\n",
    "conn.c.enableKeepAlive(60)"
   ]
  },
  {
   "cell_type": "markdown",
   "metadata": {},
   "source": [
    "### Get info from the dataset"
   ]
  },
  {
   "cell_type": "code",
   "execution_count": 4,
   "metadata": {},
   "outputs": [
    {
     "name": "stdout",
     "output_type": "stream",
     "text": [
      "Dataset Name:  day7\n"
     ]
    }
   ],
   "source": [
    "datatype = \"dataset\" # \"plate\", \"dataset\", \"image\"\n",
    "data_id = \t502\n",
    "nucl_channel = 0\n",
    "\n",
    "#validate that data_id matches datatype\n",
    "if datatype == \"plate\":\n",
    "    plate = conn.getObject(\"Plate\", data_id)\n",
    "    print('Plate Name: ', plate.getName())\n",
    "elif datatype == \"dataset\":\n",
    "    dataset = conn.getObject(\"Dataset\", data_id)\n",
    "    print('Dataset Name: ', dataset.getName())\n",
    "elif datatype == \"image\":\n",
    "    image = conn.getObject(\"Image\", data_id)\n",
    "    print('Image Name: ', image.getName())"
   ]
  },
  {
   "cell_type": "markdown",
   "metadata": {},
   "source": [
    "### Run Stardist on the dataset"
   ]
  },
  {
   "cell_type": "markdown",
   "metadata": {},
   "source": [
    "#### Function definitions"
   ]
  },
  {
   "cell_type": "code",
   "execution_count": 6,
   "metadata": {},
   "outputs": [],
   "source": []
  },
  {
   "cell_type": "code",
   "execution_count": 5,
   "metadata": {},
   "outputs": [
    {
     "name": "stderr",
     "output_type": "stream",
     "text": [
      "persistent_dict.py (63): Unable to import recommended hash 'siphash24.siphash13', falling back to 'hashlib.sha256'. Run 'python3 -m pip install siphash24' to install the recommended hash.\n"
     ]
    }
   ],
   "source": [
    "\n"
   ]
  },
  {
   "cell_type": "markdown",
   "metadata": {},
   "source": [
    "#### code to run the analysis"
   ]
  },
  {
   "cell_type": "code",
   "execution_count": 6,
   "metadata": {},
   "outputs": [
    {
     "name": "stdout",
     "output_type": "stream",
     "text": [
      "File annotation ID: 1347\n",
      "Created ROI with ID: 449\n"
     ]
    },
    {
     "name": "stderr",
     "output_type": "stream",
     "text": [
      "cast.py (1134): invalid value encountered in cast\n",
      "cast.py (1153): invalid value encountered in cast\n"
     ]
    },
    {
     "name": "stdout",
     "output_type": "stream",
     "text": [
      "Created table ID: 1348\n",
      "File annotation ID: 1349\n",
      "Created ROI with ID: 450\n"
     ]
    },
    {
     "name": "stderr",
     "output_type": "stream",
     "text": [
      "cast.py (1134): invalid value encountered in cast\n",
      "cast.py (1153): invalid value encountered in cast\n"
     ]
    },
    {
     "name": "stdout",
     "output_type": "stream",
     "text": [
      "Created table ID: 1350\n",
      "File annotation ID: 1351\n",
      "Created ROI with ID: 451\n"
     ]
    },
    {
     "name": "stderr",
     "output_type": "stream",
     "text": [
      "cast.py (1134): invalid value encountered in cast\n",
      "cast.py (1153): invalid value encountered in cast\n"
     ]
    },
    {
     "name": "stdout",
     "output_type": "stream",
     "text": [
      "Created table ID: 1352\n",
      "File annotation ID: 1353\n",
      "Created ROI with ID: 452\n"
     ]
    },
    {
     "name": "stderr",
     "output_type": "stream",
     "text": [
      "cast.py (1134): invalid value encountered in cast\n",
      "cast.py (1153): invalid value encountered in cast\n"
     ]
    },
    {
     "name": "stdout",
     "output_type": "stream",
     "text": [
      "Created table ID: 1354\n",
      "File annotation ID: 1355\n",
      "Created ROI with ID: 453\n"
     ]
    },
    {
     "name": "stderr",
     "output_type": "stream",
     "text": [
      "cast.py (1134): invalid value encountered in cast\n",
      "cast.py (1153): invalid value encountered in cast\n"
     ]
    },
    {
     "name": "stdout",
     "output_type": "stream",
     "text": [
      "Created table ID: 1356\n",
      "File annotation ID: 1357\n",
      "Created ROI with ID: 454\n"
     ]
    },
    {
     "name": "stderr",
     "output_type": "stream",
     "text": [
      "cast.py (1134): invalid value encountered in cast\n",
      "cast.py (1153): invalid value encountered in cast\n"
     ]
    },
    {
     "name": "stdout",
     "output_type": "stream",
     "text": [
      "Created table ID: 1358\n",
      "File annotation ID: 1359\n",
      "Created ROI with ID: 455\n"
     ]
    },
    {
     "name": "stderr",
     "output_type": "stream",
     "text": [
      "cast.py (1134): invalid value encountered in cast\n",
      "cast.py (1153): invalid value encountered in cast\n"
     ]
    },
    {
     "name": "stdout",
     "output_type": "stream",
     "text": [
      "Created table ID: 1360\n",
      "File annotation ID: 1361\n",
      "Created ROI with ID: 456\n"
     ]
    },
    {
     "name": "stderr",
     "output_type": "stream",
     "text": [
      "cast.py (1134): invalid value encountered in cast\n",
      "cast.py (1153): invalid value encountered in cast\n"
     ]
    },
    {
     "name": "stdout",
     "output_type": "stream",
     "text": [
      "Created table ID: 1362\n",
      "File annotation ID: 1363\n",
      "Created ROI with ID: 457\n"
     ]
    },
    {
     "name": "stderr",
     "output_type": "stream",
     "text": [
      "cast.py (1134): invalid value encountered in cast\n",
      "cast.py (1153): invalid value encountered in cast\n"
     ]
    },
    {
     "name": "stdout",
     "output_type": "stream",
     "text": [
      "Created table ID: 1364\n",
      "File annotation ID: 1365\n",
      "Created ROI with ID: 458\n"
     ]
    },
    {
     "name": "stderr",
     "output_type": "stream",
     "text": [
      "cast.py (1134): invalid value encountered in cast\n",
      "cast.py (1153): invalid value encountered in cast\n"
     ]
    },
    {
     "name": "stdout",
     "output_type": "stream",
     "text": [
      "Created table ID: 1366\n",
      "File annotation ID: 1367\n",
      "Created ROI with ID: 459\n"
     ]
    },
    {
     "name": "stderr",
     "output_type": "stream",
     "text": [
      "cast.py (1134): invalid value encountered in cast\n",
      "cast.py (1153): invalid value encountered in cast\n"
     ]
    },
    {
     "name": "stdout",
     "output_type": "stream",
     "text": [
      "Created table ID: 1368\n",
      "File annotation ID: 1369\n",
      "Created ROI with ID: 460\n"
     ]
    },
    {
     "name": "stderr",
     "output_type": "stream",
     "text": [
      "cast.py (1134): invalid value encountered in cast\n",
      "cast.py (1153): invalid value encountered in cast\n"
     ]
    },
    {
     "name": "stdout",
     "output_type": "stream",
     "text": [
      "Created table ID: 1370\n",
      "File annotation ID: 1371\n",
      "Created ROI with ID: 461\n"
     ]
    },
    {
     "name": "stderr",
     "output_type": "stream",
     "text": [
      "cast.py (1134): invalid value encountered in cast\n",
      "cast.py (1153): invalid value encountered in cast\n"
     ]
    },
    {
     "name": "stdout",
     "output_type": "stream",
     "text": [
      "Created table ID: 1372\n",
      "File annotation ID: 1373\n",
      "Created ROI with ID: 462\n"
     ]
    },
    {
     "name": "stderr",
     "output_type": "stream",
     "text": [
      "cast.py (1134): invalid value encountered in cast\n",
      "cast.py (1153): invalid value encountered in cast\n"
     ]
    },
    {
     "name": "stdout",
     "output_type": "stream",
     "text": [
      "Created table ID: 1374\n",
      "File annotation ID: 1375\n",
      "Created ROI with ID: 463\n"
     ]
    },
    {
     "name": "stderr",
     "output_type": "stream",
     "text": [
      "cast.py (1134): invalid value encountered in cast\n",
      "cast.py (1153): invalid value encountered in cast\n"
     ]
    },
    {
     "name": "stdout",
     "output_type": "stream",
     "text": [
      "Created table ID: 1376\n",
      "File annotation ID: 1377\n",
      "Created ROI with ID: 464\n",
      "Created table ID: 1378\n",
      "File annotation ID: 1379\n",
      "Created ROI with ID: 465\n"
     ]
    },
    {
     "name": "stderr",
     "output_type": "stream",
     "text": [
      "cast.py (1134): invalid value encountered in cast\n",
      "cast.py (1153): invalid value encountered in cast\n"
     ]
    },
    {
     "name": "stdout",
     "output_type": "stream",
     "text": [
      "Created table ID: 1380\n",
      "File annotation ID: 1381\n",
      "Created ROI with ID: 466\n"
     ]
    },
    {
     "name": "stderr",
     "output_type": "stream",
     "text": [
      "cast.py (1134): invalid value encountered in cast\n",
      "cast.py (1153): invalid value encountered in cast\n"
     ]
    },
    {
     "name": "stdout",
     "output_type": "stream",
     "text": [
      "Created table ID: 1382\n",
      "File annotation ID: 1383\n",
      "Created ROI with ID: 467\n"
     ]
    },
    {
     "name": "stderr",
     "output_type": "stream",
     "text": [
      "cast.py (1134): invalid value encountered in cast\n",
      "cast.py (1153): invalid value encountered in cast\n"
     ]
    },
    {
     "name": "stdout",
     "output_type": "stream",
     "text": [
      "Created table ID: 1384\n",
      "File annotation ID: 1385\n",
      "Created ROI with ID: 468\n",
      "Created table ID: 1386\n",
      "File annotation ID: 1387\n",
      "Created ROI with ID: 469\n"
     ]
    },
    {
     "name": "stderr",
     "output_type": "stream",
     "text": [
      "cast.py (1134): invalid value encountered in cast\n",
      "cast.py (1153): invalid value encountered in cast\n"
     ]
    },
    {
     "name": "stdout",
     "output_type": "stream",
     "text": [
      "Created table ID: 1388\n",
      "File annotation ID: 1389\n",
      "Created ROI with ID: 470\n"
     ]
    },
    {
     "name": "stderr",
     "output_type": "stream",
     "text": [
      "cast.py (1134): invalid value encountered in cast\n",
      "cast.py (1153): invalid value encountered in cast\n"
     ]
    },
    {
     "name": "stdout",
     "output_type": "stream",
     "text": [
      "Created table ID: 1390\n",
      "File annotation ID: 1391\n",
      "Created ROI with ID: 471\n"
     ]
    },
    {
     "name": "stderr",
     "output_type": "stream",
     "text": [
      "cast.py (1134): invalid value encountered in cast\n",
      "cast.py (1153): invalid value encountered in cast\n"
     ]
    },
    {
     "name": "stdout",
     "output_type": "stream",
     "text": [
      "Created table ID: 1392\n",
      "File annotation ID: 1393\n",
      "Created ROI with ID: 472\n"
     ]
    },
    {
     "name": "stderr",
     "output_type": "stream",
     "text": [
      "cast.py (1134): invalid value encountered in cast\n",
      "cast.py (1153): invalid value encountered in cast\n"
     ]
    },
    {
     "name": "stdout",
     "output_type": "stream",
     "text": [
      "Created table ID: 1394\n",
      "File annotation ID: 1395\n",
      "Created ROI with ID: 473\n"
     ]
    },
    {
     "name": "stderr",
     "output_type": "stream",
     "text": [
      "cast.py (1134): invalid value encountered in cast\n",
      "cast.py (1153): invalid value encountered in cast\n"
     ]
    },
    {
     "name": "stdout",
     "output_type": "stream",
     "text": [
      "Created table ID: 1396\n",
      "File annotation ID: 1397\n",
      "Created ROI with ID: 474\n"
     ]
    },
    {
     "name": "stderr",
     "output_type": "stream",
     "text": [
      "cast.py (1134): invalid value encountered in cast\n",
      "cast.py (1153): invalid value encountered in cast\n"
     ]
    },
    {
     "name": "stdout",
     "output_type": "stream",
     "text": [
      "Created table ID: 1398\n",
      "File annotation ID: 1399\n",
      "Created ROI with ID: 475\n"
     ]
    },
    {
     "name": "stderr",
     "output_type": "stream",
     "text": [
      "cast.py (1134): invalid value encountered in cast\n",
      "cast.py (1153): invalid value encountered in cast\n"
     ]
    },
    {
     "name": "stdout",
     "output_type": "stream",
     "text": [
      "Created table ID: 1400\n",
      "File annotation ID: 1401\n",
      "Created ROI with ID: 476\n"
     ]
    },
    {
     "name": "stderr",
     "output_type": "stream",
     "text": [
      "cast.py (1134): invalid value encountered in cast\n",
      "cast.py (1153): invalid value encountered in cast\n"
     ]
    },
    {
     "name": "stdout",
     "output_type": "stream",
     "text": [
      "Created table ID: 1402\n",
      "File annotation ID: 1403\n",
      "Created ROI with ID: 477\n"
     ]
    },
    {
     "name": "stderr",
     "output_type": "stream",
     "text": [
      "cast.py (1134): invalid value encountered in cast\n",
      "cast.py (1153): invalid value encountered in cast\n"
     ]
    },
    {
     "name": "stdout",
     "output_type": "stream",
     "text": [
      "Created table ID: 1404\n",
      "File annotation ID: 1405\n",
      "Created ROI with ID: 478\n",
      "Created table ID: 1406\n",
      "File annotation ID: 1407\n",
      "Created ROI with ID: 479\n"
     ]
    },
    {
     "name": "stderr",
     "output_type": "stream",
     "text": [
      "cast.py (1134): invalid value encountered in cast\n",
      "cast.py (1153): invalid value encountered in cast\n"
     ]
    },
    {
     "name": "stdout",
     "output_type": "stream",
     "text": [
      "Created table ID: 1408\n",
      "File annotation ID: 1409\n",
      "Created ROI with ID: 480\n"
     ]
    },
    {
     "name": "stderr",
     "output_type": "stream",
     "text": [
      "cast.py (1134): invalid value encountered in cast\n",
      "cast.py (1153): invalid value encountered in cast\n"
     ]
    },
    {
     "name": "stdout",
     "output_type": "stream",
     "text": [
      "Created table ID: 1410\n",
      "File annotation ID: 1411\n",
      "Created ROI with ID: 481\n"
     ]
    },
    {
     "name": "stderr",
     "output_type": "stream",
     "text": [
      "cast.py (1134): invalid value encountered in cast\n",
      "cast.py (1153): invalid value encountered in cast\n"
     ]
    },
    {
     "name": "stdout",
     "output_type": "stream",
     "text": [
      "Created table ID: 1412\n",
      "File annotation ID: 1413\n",
      "Created ROI with ID: 482\n"
     ]
    },
    {
     "name": "stderr",
     "output_type": "stream",
     "text": [
      "cast.py (1134): invalid value encountered in cast\n",
      "cast.py (1153): invalid value encountered in cast\n"
     ]
    },
    {
     "name": "stdout",
     "output_type": "stream",
     "text": [
      "Created table ID: 1414\n",
      "File annotation ID: 1415\n",
      "Created ROI with ID: 483\n"
     ]
    },
    {
     "name": "stderr",
     "output_type": "stream",
     "text": [
      "cast.py (1134): invalid value encountered in cast\n",
      "cast.py (1153): invalid value encountered in cast\n"
     ]
    },
    {
     "name": "stdout",
     "output_type": "stream",
     "text": [
      "Created table ID: 1416\n",
      "File annotation ID: 1417\n",
      "Created ROI with ID: 484\n"
     ]
    },
    {
     "name": "stderr",
     "output_type": "stream",
     "text": [
      "cast.py (1134): invalid value encountered in cast\n",
      "cast.py (1153): invalid value encountered in cast\n"
     ]
    },
    {
     "name": "stdout",
     "output_type": "stream",
     "text": [
      "Created table ID: 1418\n",
      "File annotation ID: 1419\n",
      "Created ROI with ID: 485\n"
     ]
    },
    {
     "name": "stderr",
     "output_type": "stream",
     "text": [
      "cast.py (1134): invalid value encountered in cast\n",
      "cast.py (1153): invalid value encountered in cast\n"
     ]
    },
    {
     "name": "stdout",
     "output_type": "stream",
     "text": [
      "Created table ID: 1420\n",
      "File annotation ID: 1421\n",
      "Created ROI with ID: 486\n",
      "Created table ID: 1422\n",
      "File annotation ID: 1423\n",
      "Created ROI with ID: 487\n"
     ]
    },
    {
     "name": "stderr",
     "output_type": "stream",
     "text": [
      "cast.py (1134): invalid value encountered in cast\n",
      "cast.py (1153): invalid value encountered in cast\n"
     ]
    },
    {
     "name": "stdout",
     "output_type": "stream",
     "text": [
      "Created table ID: 1424\n",
      "File annotation ID: 1425\n",
      "Created ROI with ID: 488\n"
     ]
    },
    {
     "name": "stderr",
     "output_type": "stream",
     "text": [
      "cast.py (1134): invalid value encountered in cast\n",
      "cast.py (1153): invalid value encountered in cast\n"
     ]
    },
    {
     "name": "stdout",
     "output_type": "stream",
     "text": [
      "Created table ID: 1426\n",
      "File annotation ID: 1427\n",
      "Created ROI with ID: 489\n"
     ]
    },
    {
     "name": "stderr",
     "output_type": "stream",
     "text": [
      "cast.py (1134): invalid value encountered in cast\n",
      "cast.py (1153): invalid value encountered in cast\n"
     ]
    },
    {
     "name": "stdout",
     "output_type": "stream",
     "text": [
      "Created table ID: 1428\n",
      "File annotation ID: 1429\n",
      "Created ROI with ID: 490\n"
     ]
    },
    {
     "name": "stderr",
     "output_type": "stream",
     "text": [
      "cast.py (1134): invalid value encountered in cast\n",
      "cast.py (1153): invalid value encountered in cast\n"
     ]
    },
    {
     "name": "stdout",
     "output_type": "stream",
     "text": [
      "Created table ID: 1430\n",
      "File annotation ID: 1431\n",
      "Created ROI with ID: 491\n"
     ]
    },
    {
     "name": "stderr",
     "output_type": "stream",
     "text": [
      "cast.py (1134): invalid value encountered in cast\n",
      "cast.py (1153): invalid value encountered in cast\n"
     ]
    },
    {
     "name": "stdout",
     "output_type": "stream",
     "text": [
      "Created table ID: 1432\n",
      "File annotation ID: 1433\n",
      "Created ROI with ID: 492\n"
     ]
    },
    {
     "name": "stderr",
     "output_type": "stream",
     "text": [
      "cast.py (1134): invalid value encountered in cast\n",
      "cast.py (1153): invalid value encountered in cast\n"
     ]
    },
    {
     "name": "stdout",
     "output_type": "stream",
     "text": [
      "Created table ID: 1434\n",
      "File annotation ID: 1435\n",
      "Created ROI with ID: 493\n"
     ]
    },
    {
     "name": "stderr",
     "output_type": "stream",
     "text": [
      "cast.py (1134): invalid value encountered in cast\n",
      "cast.py (1153): invalid value encountered in cast\n"
     ]
    },
    {
     "name": "stdout",
     "output_type": "stream",
     "text": [
      "Created table ID: 1436\n",
      "File annotation ID: 1437\n",
      "Created ROI with ID: 494\n"
     ]
    },
    {
     "name": "stderr",
     "output_type": "stream",
     "text": [
      "cast.py (1134): invalid value encountered in cast\n",
      "cast.py (1153): invalid value encountered in cast\n"
     ]
    },
    {
     "name": "stdout",
     "output_type": "stream",
     "text": [
      "Created table ID: 1438\n",
      "File annotation ID: 1439\n",
      "Created ROI with ID: 495\n"
     ]
    },
    {
     "name": "stderr",
     "output_type": "stream",
     "text": [
      "cast.py (1134): invalid value encountered in cast\n",
      "cast.py (1153): invalid value encountered in cast\n"
     ]
    },
    {
     "name": "stdout",
     "output_type": "stream",
     "text": [
      "Created table ID: 1440\n",
      "File annotation ID: 1441\n",
      "Created ROI with ID: 496\n"
     ]
    },
    {
     "name": "stderr",
     "output_type": "stream",
     "text": [
      "cast.py (1134): invalid value encountered in cast\n",
      "cast.py (1153): invalid value encountered in cast\n"
     ]
    },
    {
     "name": "stdout",
     "output_type": "stream",
     "text": [
      "Created table ID: 1442\n",
      "File annotation ID: 1443\n",
      "Created ROI with ID: 497\n"
     ]
    },
    {
     "name": "stderr",
     "output_type": "stream",
     "text": [
      "cast.py (1134): invalid value encountered in cast\n",
      "cast.py (1153): invalid value encountered in cast\n"
     ]
    },
    {
     "name": "stdout",
     "output_type": "stream",
     "text": [
      "Created table ID: 1444\n",
      "File annotation ID: 1445\n",
      "Created ROI with ID: 498\n",
      "Created table ID: 1446\n",
      "File annotation ID: 1447\n",
      "Created ROI with ID: 499\n"
     ]
    },
    {
     "name": "stderr",
     "output_type": "stream",
     "text": [
      "cast.py (1134): invalid value encountered in cast\n",
      "cast.py (1153): invalid value encountered in cast\n"
     ]
    },
    {
     "name": "stdout",
     "output_type": "stream",
     "text": [
      "Created table ID: 1448\n",
      "File annotation ID: 1449\n",
      "Created ROI with ID: 500\n"
     ]
    },
    {
     "name": "stderr",
     "output_type": "stream",
     "text": [
      "cast.py (1134): invalid value encountered in cast\n",
      "cast.py (1153): invalid value encountered in cast\n"
     ]
    },
    {
     "name": "stdout",
     "output_type": "stream",
     "text": [
      "Created table ID: 1450\n",
      "File annotation ID: 1451\n",
      "Created ROI with ID: 501\n"
     ]
    },
    {
     "name": "stderr",
     "output_type": "stream",
     "text": [
      "cast.py (1134): invalid value encountered in cast\n",
      "cast.py (1153): invalid value encountered in cast\n"
     ]
    },
    {
     "name": "stdout",
     "output_type": "stream",
     "text": [
      "Created table ID: 1452\n",
      "File annotation ID: 1453\n",
      "Created ROI with ID: 502\n"
     ]
    },
    {
     "name": "stderr",
     "output_type": "stream",
     "text": [
      "cast.py (1134): invalid value encountered in cast\n",
      "cast.py (1153): invalid value encountered in cast\n"
     ]
    },
    {
     "name": "stdout",
     "output_type": "stream",
     "text": [
      "Created table ID: 1454\n",
      "File annotation ID: 1455\n",
      "Created ROI with ID: 503\n"
     ]
    },
    {
     "name": "stderr",
     "output_type": "stream",
     "text": [
      "cast.py (1134): invalid value encountered in cast\n",
      "cast.py (1153): invalid value encountered in cast\n"
     ]
    },
    {
     "name": "stdout",
     "output_type": "stream",
     "text": [
      "Created table ID: 1456\n",
      "File annotation ID: 1457\n",
      "Created ROI with ID: 504\n"
     ]
    },
    {
     "name": "stderr",
     "output_type": "stream",
     "text": [
      "cast.py (1134): invalid value encountered in cast\n",
      "cast.py (1153): invalid value encountered in cast\n"
     ]
    },
    {
     "name": "stdout",
     "output_type": "stream",
     "text": [
      "Created table ID: 1458\n",
      "File annotation ID: 1459\n",
      "Created ROI with ID: 505\n"
     ]
    },
    {
     "name": "stderr",
     "output_type": "stream",
     "text": [
      "cast.py (1134): invalid value encountered in cast\n",
      "cast.py (1153): invalid value encountered in cast\n"
     ]
    },
    {
     "name": "stdout",
     "output_type": "stream",
     "text": [
      "Created table ID: 1460\n",
      "File annotation ID: 1461\n",
      "Created ROI with ID: 506\n"
     ]
    },
    {
     "name": "stderr",
     "output_type": "stream",
     "text": [
      "cast.py (1134): invalid value encountered in cast\n",
      "cast.py (1153): invalid value encountered in cast\n"
     ]
    },
    {
     "name": "stdout",
     "output_type": "stream",
     "text": [
      "Created table ID: 1462\n",
      "File annotation ID: 1463\n",
      "Created ROI with ID: 507\n"
     ]
    },
    {
     "name": "stderr",
     "output_type": "stream",
     "text": [
      "cast.py (1134): invalid value encountered in cast\n",
      "cast.py (1153): invalid value encountered in cast\n"
     ]
    },
    {
     "name": "stdout",
     "output_type": "stream",
     "text": [
      "Created table ID: 1464\n",
      "File annotation ID: 1465\n",
      "Created ROI with ID: 508\n"
     ]
    },
    {
     "name": "stderr",
     "output_type": "stream",
     "text": [
      "cast.py (1134): invalid value encountered in cast\n",
      "cast.py (1153): invalid value encountered in cast\n"
     ]
    },
    {
     "name": "stdout",
     "output_type": "stream",
     "text": [
      "Created table ID: 1466\n",
      "File annotation ID: 1467\n",
      "Created ROI with ID: 509\n"
     ]
    },
    {
     "name": "stderr",
     "output_type": "stream",
     "text": [
      "cast.py (1134): invalid value encountered in cast\n",
      "cast.py (1153): invalid value encountered in cast\n"
     ]
    },
    {
     "name": "stdout",
     "output_type": "stream",
     "text": [
      "Created table ID: 1468\n",
      "File annotation ID: 1469\n",
      "Created ROI with ID: 510\n"
     ]
    },
    {
     "name": "stderr",
     "output_type": "stream",
     "text": [
      "cast.py (1134): invalid value encountered in cast\n",
      "cast.py (1153): invalid value encountered in cast\n"
     ]
    },
    {
     "name": "stdout",
     "output_type": "stream",
     "text": [
      "Created table ID: 1470\n",
      "File annotation ID: 1471\n",
      "Created ROI with ID: 511\n"
     ]
    },
    {
     "name": "stderr",
     "output_type": "stream",
     "text": [
      "cast.py (1134): invalid value encountered in cast\n",
      "cast.py (1153): invalid value encountered in cast\n"
     ]
    },
    {
     "name": "stdout",
     "output_type": "stream",
     "text": [
      "Created table ID: 1472\n",
      "File annotation ID: 1473\n",
      "Created ROI with ID: 512\n"
     ]
    },
    {
     "name": "stderr",
     "output_type": "stream",
     "text": [
      "cast.py (1134): invalid value encountered in cast\n",
      "cast.py (1153): invalid value encountered in cast\n"
     ]
    },
    {
     "name": "stdout",
     "output_type": "stream",
     "text": [
      "Created table ID: 1474\n",
      "File annotation ID: 1475\n",
      "Created ROI with ID: 513\n"
     ]
    },
    {
     "name": "stderr",
     "output_type": "stream",
     "text": [
      "cast.py (1134): invalid value encountered in cast\n",
      "cast.py (1153): invalid value encountered in cast\n"
     ]
    },
    {
     "name": "stdout",
     "output_type": "stream",
     "text": [
      "Created table ID: 1476\n",
      "File annotation ID: 1477\n",
      "Created ROI with ID: 514\n"
     ]
    },
    {
     "name": "stderr",
     "output_type": "stream",
     "text": [
      "cast.py (1134): invalid value encountered in cast\n",
      "cast.py (1153): invalid value encountered in cast\n"
     ]
    },
    {
     "name": "stdout",
     "output_type": "stream",
     "text": [
      "Created table ID: 1478\n",
      "File annotation ID: 1479\n",
      "Created ROI with ID: 515\n"
     ]
    },
    {
     "name": "stderr",
     "output_type": "stream",
     "text": [
      "cast.py (1134): invalid value encountered in cast\n",
      "cast.py (1153): invalid value encountered in cast\n"
     ]
    },
    {
     "name": "stdout",
     "output_type": "stream",
     "text": [
      "Created table ID: 1480\n",
      "File annotation ID: 1481\n",
      "Created ROI with ID: 516\n"
     ]
    },
    {
     "name": "stderr",
     "output_type": "stream",
     "text": [
      "cast.py (1134): invalid value encountered in cast\n",
      "cast.py (1153): invalid value encountered in cast\n"
     ]
    },
    {
     "name": "stdout",
     "output_type": "stream",
     "text": [
      "Created table ID: 1482\n",
      "File annotation ID: 1483\n",
      "Created ROI with ID: 517\n"
     ]
    },
    {
     "name": "stderr",
     "output_type": "stream",
     "text": [
      "cast.py (1134): invalid value encountered in cast\n",
      "cast.py (1153): invalid value encountered in cast\n"
     ]
    },
    {
     "name": "stdout",
     "output_type": "stream",
     "text": [
      "Created table ID: 1484\n",
      "File annotation ID: 1485\n",
      "Created ROI with ID: 518\n"
     ]
    },
    {
     "name": "stderr",
     "output_type": "stream",
     "text": [
      "cast.py (1134): invalid value encountered in cast\n",
      "cast.py (1153): invalid value encountered in cast\n"
     ]
    },
    {
     "name": "stdout",
     "output_type": "stream",
     "text": [
      "Created table ID: 1486\n",
      "File annotation ID: 1487\n",
      "Created ROI with ID: 519\n"
     ]
    },
    {
     "name": "stderr",
     "output_type": "stream",
     "text": [
      "cast.py (1134): invalid value encountered in cast\n",
      "cast.py (1153): invalid value encountered in cast\n"
     ]
    },
    {
     "name": "stdout",
     "output_type": "stream",
     "text": [
      "Created table ID: 1488\n",
      "File annotation ID: 1489\n",
      "Created ROI with ID: 520\n"
     ]
    },
    {
     "name": "stderr",
     "output_type": "stream",
     "text": [
      "cast.py (1134): invalid value encountered in cast\n",
      "cast.py (1153): invalid value encountered in cast\n"
     ]
    },
    {
     "name": "stdout",
     "output_type": "stream",
     "text": [
      "Created table ID: 1490\n"
     ]
    },
    {
     "name": "stderr",
     "output_type": "stream",
     "text": [
      "cast.py (1134): invalid value encountered in cast\n",
      "cast.py (1153): invalid value encountered in cast\n"
     ]
    }
   ],
   "source": [
    "import importlib\n",
    "import src.ProcessImage as ProcessImage\n",
    "importlib.reload(ProcessImage)\n",
    "import pandas as pd\n",
    "\n",
    "#get list of images to process\n",
    "if datatype == \"plate\":\n",
    "    wells = list(plate.listChildren())\n",
    "    well_count = len(wells)\n",
    "    images = []\n",
    "    for count, well in enumerate(wells):\n",
    "        print('Well: %s/%s' % (count + 1, well_count), 'row:', well.row, 'column:', well.column)\n",
    "        # Load all images for a well if there are multiple\n",
    "        fields = well.countWellSample()\n",
    "        for field in range(fields):\n",
    "            print('Field:', field)\n",
    "            image = well.getImage(field)\n",
    "            images.append(image)\n",
    "elif datatype == \"dataset\":\n",
    "    images = list(dataset.listChildren())\n",
    "elif datatype == \"image\":\n",
    "    images = [image]   \n",
    "\n",
    "#process images\n",
    "plate_statistics = []\n",
    "for count,image in enumerate(images):\n",
    "    print(f'Processing image {count+1}/{len(images)}: {image.getName()}')\n",
    "    \n",
    "    # Initialize processing\n",
    "    img = ProcessImage.ProcessImage(conn, image, job_id, model)\n",
    "    \n",
    "    # Segment nuclei\n",
    "    img.segment_nuclei(nucl_channel)\n",
    "    \n",
    "    # Save results\n",
    "    img.save_segmentation_to_omero_as_attach(new_output_directory, desc)\n",
    "    img.save_segmentation_to_omero_as_roi()\n",
    "    #img.save_segmentation_to_omero_as_new_image(seg_img_name,desc)\n",
    "    \n",
    "    # Measure intensity\n",
    "    img.measure_intensity()\n",
    "    all_statistics_df = img.get_measurements_to_df()\n",
    "    \n",
    "    #save intensity measurements to OMERO\n",
    "    all_statistics_df['imageID'] = image.getId()\n",
    "\n",
    "    plate_statistics.append(all_statistics_df)\n",
    "    image_id = image.getId()\n",
    "    tabelid = ezomero.post_table(conn, object_type=\"Image\", object_id=image.getId(), table = all_statistics_df,title=f\"Nuclei_measurements_{job_id}_{image_id}\")\n",
    "    print('Created table ID:', tabelid)\n",
    "    \n",
    "# Concatenate all statistics into a single DataFrame\n",
    "plate_statistics_df = pd.concat(plate_statistics, ignore_index=True)\n",
    "tabelid = ezomero.post_table(conn, object_type=\"Dataset\", object_id=data_id, table = plate_statistics_df, title=f\"Nuclei_measurements_{job_id}_{data_id}\")\n",
    "\n",
    "     "
   ]
  },
  {
   "cell_type": "markdown",
   "metadata": {},
   "source": [
    "### Delete attachements from project"
   ]
  },
  {
   "cell_type": "code",
   "execution_count": 49,
   "metadata": {},
   "outputs": [
    {
     "name": "stdout",
     "output_type": "stream",
     "text": [
      "Image Name: 14-6-24_FUCCI_PDLO_Day7_plate1-fixed_007.nd2 [14-6-24_FUCCI_PDLO_Day7_plate1-fixed_007.nd2 (series 01)].tif\n",
      "Image Name: 14-6-24_FUCCI_PDLO_Day7_plate1-fixed_007.nd2 [14-6-24_FUCCI_PDLO_Day7_plate1-fixed_007.nd2 (series 02)].tif\n",
      "Image Name: 14-6-24_FUCCI_PDLO_Day7_plate1-fixed_007.nd2 [14-6-24_FUCCI_PDLO_Day7_plate1-fixed_007.nd2 (series 03)].tif\n",
      "Image Name: 14-6-24_FUCCI_PDLO_Day7_plate1-fixed_007.nd2 [14-6-24_FUCCI_PDLO_Day7_plate1-fixed_007.nd2 (series 04)].tif\n",
      "Image Name: 14-6-24_FUCCI_PDLO_Day7_plate1-fixed_007.nd2 [14-6-24_FUCCI_PDLO_Day7_plate1-fixed_007.nd2 (series 05)].tif\n",
      "Image Name: 14-6-24_FUCCI_PDLO_Day7_plate1-fixed_007.nd2 [14-6-24_FUCCI_PDLO_Day7_plate1-fixed_007.nd2 (series 06)].tif\n",
      "Image Name: 14-6-24_FUCCI_PDLO_Day7_plate1-fixed_007.nd2 [14-6-24_FUCCI_PDLO_Day7_plate1-fixed_007.nd2 (series 07)].tif\n",
      "Image Name: 14-6-24_FUCCI_PDLO_Day7_plate1-fixed_007.nd2 [14-6-24_FUCCI_PDLO_Day7_plate1-fixed_007.nd2 (series 08)].tif\n",
      "Image Name: 14-6-24_FUCCI_PDLO_Day7_plate1-fixed_007.nd2 [14-6-24_FUCCI_PDLO_Day7_plate1-fixed_007.nd2 (series 09)].tif\n",
      "Image Name: 14-6-24_FUCCI_PDLO_Day7_plate1-fixed_007.nd2 [14-6-24_FUCCI_PDLO_Day7_plate1-fixed_007.nd2 (series 10)].tif\n",
      "Image Name: 14-6-24_FUCCI_PDLO_Day7_plate1-fixed_007.nd2 [14-6-24_FUCCI_PDLO_Day7_plate1-fixed_007.nd2 (series 11)].tif\n",
      "Image Name: 14-6-24_FUCCI_PDLO_Day7_plate1-fixed_007.nd2 [14-6-24_FUCCI_PDLO_Day7_plate1-fixed_007.nd2 (series 12)].tif\n",
      "Image Name: 14-6-24_FUCCI_PDLO_Day7_plate1-fixed_007.nd2 [14-6-24_FUCCI_PDLO_Day7_plate1-fixed_007.nd2 (series 13)].tif\n",
      "Image Name: 14-6-24_FUCCI_PDLO_Day7_plate1-fixed_007.nd2 [14-6-24_FUCCI_PDLO_Day7_plate1-fixed_007.nd2 (series 14)].tif\n",
      "Image Name: 14-6-24_FUCCI_PDLO_Day7_plate1-fixed_007.nd2 [14-6-24_FUCCI_PDLO_Day7_plate1-fixed_007.nd2 (series 15)].tif\n",
      "Image Name: 14-6-24_FUCCI_PDLO_Day7_plate1-fixed_007.nd2 [14-6-24_FUCCI_PDLO_Day7_plate1-fixed_007.nd2 (series 16)].tif\n",
      "Image Name: 14-6-24_FUCCI_PDLO_Day7_plate1-fixed_007.nd2 [14-6-24_FUCCI_PDLO_Day7_plate1-fixed_007.nd2 (series 17)].tif\n",
      "Image Name: 14-6-24_FUCCI_PDLO_Day7_plate1-fixed_007.nd2 [14-6-24_FUCCI_PDLO_Day7_plate1-fixed_007.nd2 (series 18)].tif\n",
      "Image Name: 14-6-24_FUCCI_PDLO_Day7_plate1-fixed_007.nd2 [14-6-24_FUCCI_PDLO_Day7_plate1-fixed_007.nd2 (series 19)].tif\n",
      "Image Name: 14-6-24_FUCCI_PDLO_Day7_plate1-fixed_007.nd2 [14-6-24_FUCCI_PDLO_Day7_plate1-fixed_007.nd2 (series 20)].tif\n",
      "Image Name: 14-6-24_FUCCI_PDLO_Day7_plate1-fixed_007.nd2 [14-6-24_FUCCI_PDLO_Day7_plate1-fixed_007.nd2 (series 21)].tif\n",
      "Image Name: 14-6-24_FUCCI_PDLO_Day7_plate1-fixed_007.nd2 [14-6-24_FUCCI_PDLO_Day7_plate1-fixed_007.nd2 (series 22)].tif\n",
      "Image Name: 14-6-24_FUCCI_PDLO_Day7_plate1-fixed_007.nd2 [14-6-24_FUCCI_PDLO_Day7_plate1-fixed_007.nd2 (series 23)].tif\n",
      "Image Name: 14-6-24_FUCCI_PDLO_Day7_plate1-fixed_007.nd2 [14-6-24_FUCCI_PDLO_Day7_plate1-fixed_007.nd2 (series 24)].tif\n",
      "Image Name: 14-6-24_FUCCI_PDLO_Day7_plate1-fixed_007.nd2 [14-6-24_FUCCI_PDLO_Day7_plate1-fixed_007.nd2 (series 25)].tif\n",
      "Image Name: 14-6-24_FUCCI_PDLO_Day7_plate1-fixed_007.nd2 [14-6-24_FUCCI_PDLO_Day7_plate1-fixed_007.nd2 (series 26)].tif\n",
      "Image Name: 14-6-24_FUCCI_PDLO_Day7_plate1-fixed_007.nd2 [14-6-24_FUCCI_PDLO_Day7_plate1-fixed_007.nd2 (series 27)].tif\n",
      "Image Name: 14-6-24_FUCCI_PDLO_Day7_plate1-fixed_007.nd2 [14-6-24_FUCCI_PDLO_Day7_plate1-fixed_007.nd2 (series 28)].tif\n",
      "Image Name: 14-6-24_FUCCI_PDLO_Day7_plate1-fixed_007.nd2 [14-6-24_FUCCI_PDLO_Day7_plate1-fixed_007.nd2 (series 29)].tif\n",
      "Image Name: 14-6-24_FUCCI_PDLO_Day7_plate1-fixed_007.nd2 [14-6-24_FUCCI_PDLO_Day7_plate1-fixed_007.nd2 (series 30)].tif\n",
      "Image Name: 14-6-24_FUCCI_PDLO_Day7_plate1-fixed_007.nd2 [14-6-24_FUCCI_PDLO_Day7_plate1-fixed_007.nd2 (series 31)].tif\n",
      "Image Name: 14-6-24_FUCCI_PDLO_Day7_plate1-fixed_007.nd2 [14-6-24_FUCCI_PDLO_Day7_plate1-fixed_007.nd2 (series 32)].tif\n",
      "Image Name: 14-6-24_FUCCI_PDLO_Day7_plate1-fixed_007.nd2 [14-6-24_FUCCI_PDLO_Day7_plate1-fixed_007.nd2 (series 33)].tif\n",
      "Image Name: 14-6-24_FUCCI_PDLO_Day7_plate1-fixed_007.nd2 [14-6-24_FUCCI_PDLO_Day7_plate1-fixed_007.nd2 (series 34)].tif\n",
      "Image Name: 14-6-24_FUCCI_PDLO_Day7_plate1-fixed_007.nd2 [14-6-24_FUCCI_PDLO_Day7_plate1-fixed_007.nd2 (series 35)].tif\n",
      "Image Name: 14-6-24_FUCCI_PDLO_Day7_plate1-fixed_007.nd2 [14-6-24_FUCCI_PDLO_Day7_plate1-fixed_007.nd2 (series 36)].tif\n",
      "Image Name: 14-6-24_FUCCI_PDLO_Day7_plate1-fixed_007.nd2 [14-6-24_FUCCI_PDLO_Day7_plate1-fixed_007.nd2 (series 37)].tif\n",
      "Image Name: 14-6-24_FUCCI_PDLO_Day7_plate1-fixed_007.nd2 [14-6-24_FUCCI_PDLO_Day7_plate1-fixed_007.nd2 (series 38)].tif\n",
      "Image Name: 14-6-24_FUCCI_PDLO_Day7_plate1-fixed_007.nd2 [14-6-24_FUCCI_PDLO_Day7_plate1-fixed_007.nd2 (series 39)].tif\n",
      "Image Name: 14-6-24_FUCCI_PDLO_Day7_plate1-fixed_007.nd2 [14-6-24_FUCCI_PDLO_Day7_plate1-fixed_007.nd2 (series 40)].tif\n",
      "Image Name: 14-6-24_FUCCI_PDLO_Day7_plate1-fixed_007.nd2 [14-6-24_FUCCI_PDLO_Day7_plate1-fixed_007.nd2 (series 41)].tif\n",
      "Image Name: 14-6-24_FUCCI_PDLO_Day7_plate1-fixed_007.nd2 [14-6-24_FUCCI_PDLO_Day7_plate1-fixed_007.nd2 (series 42)].tif\n",
      "Image Name: 14-6-24_FUCCI_PDLO_Day7_plate1-fixed_007.nd2 [14-6-24_FUCCI_PDLO_Day7_plate1-fixed_007.nd2 (series 43)].tif\n",
      "Image Name: 14-6-24_FUCCI_PDLO_Day7_plate1-fixed_007.nd2 [14-6-24_FUCCI_PDLO_Day7_plate1-fixed_007.nd2 (series 44)].tif\n",
      "Image Name: 14-6-24_FUCCI_PDLO_Day7_plate1-fixed_007.nd2 [14-6-24_FUCCI_PDLO_Day7_plate1-fixed_007.nd2 (series 45)].tif\n",
      "Image Name: 14-6-24_FUCCI_PDLO_Day7_plate1-fixed_007.nd2 [14-6-24_FUCCI_PDLO_Day7_plate1-fixed_007.nd2 (series 46)].tif\n",
      "Image Name: 14-6-24_FUCCI_PDLO_Day7_plate1-fixed_007.nd2 [14-6-24_FUCCI_PDLO_Day7_plate1-fixed_007.nd2 (series 47)].tif\n",
      "Image Name: 14-6-24_FUCCI_PDLO_Day7_plate1-fixed_007.nd2 [14-6-24_FUCCI_PDLO_Day7_plate1-fixed_007.nd2 (series 48)].tif\n",
      "Image Name: 14-6-24_FUCCI_PDLO_Day7_plate1-fixed_007.nd2 [14-6-24_FUCCI_PDLO_Day7_plate1-fixed_007.nd2 (series 49)].tif\n",
      "Image Name: 14-6-24_FUCCI_PDLO_Day7_plate1-fixed_007.nd2 [14-6-24_FUCCI_PDLO_Day7_plate1-fixed_007.nd2 (series 50)].tif\n",
      "Image Name: 14-6-24_FUCCI_PDLO_Day7_plate1-fixed_007.nd2 [14-6-24_FUCCI_PDLO_Day7_plate1-fixed_007.nd2 (series 51)].tif\n",
      "Image Name: 14-6-24_FUCCI_PDLO_Day7_plate1-fixed_007.nd2 [14-6-24_FUCCI_PDLO_Day7_plate1-fixed_007.nd2 (series 52)].tif\n",
      "Image Name: 14-6-24_FUCCI_PDLO_Day7_plate1-fixed_007.nd2 [14-6-24_FUCCI_PDLO_Day7_plate1-fixed_007.nd2 (series 53)].tif\n",
      "Image Name: 14-6-24_FUCCI_PDLO_Day7_plate1-fixed_007.nd2 [14-6-24_FUCCI_PDLO_Day7_plate1-fixed_007.nd2 (series 54)].tif\n",
      "Image Name: 14-6-24_FUCCI_PDLO_Day7_plate1-fixed_007.nd2 [14-6-24_FUCCI_PDLO_Day7_plate1-fixed_007.nd2 (series 55)].tif\n",
      "Image Name: 14-6-24_FUCCI_PDLO_Day7_plate1-fixed_007.nd2 [14-6-24_FUCCI_PDLO_Day7_plate1-fixed_007.nd2 (series 56)].tif\n",
      "Image Name: 14-6-24_FUCCI_PDLO_Day7_plate1-fixed_007.nd2 [14-6-24_FUCCI_PDLO_Day7_plate1-fixed_007.nd2 (series 57)].tif\n",
      "Image Name: 14-6-24_FUCCI_PDLO_Day7_plate1-fixed_007.nd2 [14-6-24_FUCCI_PDLO_Day7_plate1-fixed_007.nd2 (series 58)].tif\n",
      "Image Name: 14-6-24_FUCCI_PDLO_Day7_plate1-fixed_007.nd2 [14-6-24_FUCCI_PDLO_Day7_plate1-fixed_007.nd2 (series 59)].tif\n",
      "Image Name: 14-6-24_FUCCI_PDLO_Day7_plate1-fixed_007.nd2 [14-6-24_FUCCI_PDLO_Day7_plate1-fixed_007.nd2 (series 60)].tif\n",
      "Image Name: 14-6-24_FUCCI_PDLO_Day7_plate1-fixed_007.nd2 [14-6-24_FUCCI_PDLO_Day7_plate1-fixed_007.nd2 (series 61)].tif\n",
      "Image Name: 14-6-24_FUCCI_PDLO_Day7_plate1-fixed_007.nd2 [14-6-24_FUCCI_PDLO_Day7_plate1-fixed_007.nd2 (series 62)].tif\n",
      "Image Name: 14-6-24_FUCCI_PDLO_Day7_plate1-fixed_007.nd2 [14-6-24_FUCCI_PDLO_Day7_plate1-fixed_007.nd2 (series 63)].tif\n",
      "Image Name: 14-6-24_FUCCI_PDLO_Day7_plate1-fixed_007.nd2 [14-6-24_FUCCI_PDLO_Day7_plate1-fixed_007.nd2 (series 64)].tif\n",
      "Image Name: 14-6-24_FUCCI_PDLO_Day7_plate1-fixed_007.nd2 [14-6-24_FUCCI_PDLO_Day7_plate1-fixed_007.nd2 (series 65)].tif\n",
      "Image Name: 14-6-24_FUCCI_PDLO_Day7_plate1-fixed_007.nd2 [14-6-24_FUCCI_PDLO_Day7_plate1-fixed_007.nd2 (series 66)].tif\n",
      "Image Name: 14-6-24_FUCCI_PDLO_Day7_plate1-fixed_007.nd2 [14-6-24_FUCCI_PDLO_Day7_plate1-fixed_007.nd2 (series 67)].tif\n",
      "Image Name: 14-6-24_FUCCI_PDLO_Day7_plate1-fixed_007.nd2 [14-6-24_FUCCI_PDLO_Day7_plate1-fixed_007.nd2 (series 68)].tif\n",
      "Image Name: 14-6-24_FUCCI_PDLO_Day7_plate1-fixed_007.nd2 [14-6-24_FUCCI_PDLO_Day7_plate1-fixed_007.nd2 (series 69)].tif\n",
      "Image Name: 14-6-24_FUCCI_PDLO_Day7_plate1-fixed_007.nd2 [14-6-24_FUCCI_PDLO_Day7_plate1-fixed_007.nd2 (series 70)].tif\n",
      "Image Name: 14-6-24_FUCCI_PDLO_Day7_plate1-fixed_007.nd2 [14-6-24_FUCCI_PDLO_Day7_plate1-fixed_007.nd2 (series 71)].tif\n",
      "Image Name: 14-6-24_FUCCI_PDLO_Day7_plate1-fixed_007.nd2 [14-6-24_FUCCI_PDLO_Day7_plate1-fixed_007.nd2 (series 72)].tif\n"
     ]
    }
   ],
   "source": [
    "datatype = \"dataset\" # \"plate\", \"dataset\", \"image\"\n",
    "data_id = \t502\n",
    "\n",
    "def ensure_list(obj):\n",
    "    if not obj:\n",
    "        return []\n",
    "    if isinstance(obj, list):\n",
    "        return obj\n",
    "    return [obj]\n",
    "\n",
    "if datatype == \"dataset\":\n",
    "    images = list(dataset.listChildren())\n",
    "    image_count = len(images)\n",
    "    plate_statistics = []\n",
    "    to_delete = []\n",
    "    for count in range(image_count):\n",
    "        image = images[count]\n",
    "        i = conn.getObject(\"Image\", image.getId())\n",
    "        print('Image Name:', i.getName())\n",
    "        \n",
    "        for ann in i.listAnnotations():\n",
    "            link_id = ann.link.id  # sometimes single, sometimes list\n",
    "            link_ids = ensure_list(link_id)\n",
    "\n",
    "            for lid in link_ids:\n",
    "                to_delete.append(lid)\n",
    "    conn.deleteObjects(\"ImageAnnotationLink\", to_delete, wait=True)"
   ]
  },
  {
   "cell_type": "markdown",
   "metadata": {},
   "source": [
    "### Delete ROIs from project"
   ]
  },
  {
   "cell_type": "code",
   "execution_count": 50,
   "metadata": {},
   "outputs": [],
   "source": [
    "datatype = \"dataset\" # \"plate\", \"dataset\", \"image\"\n",
    "data_id = \t502\n",
    "\n",
    "if datatype == \"dataset\":\n",
    "    images = list(dataset.listChildren())\n",
    "    image_count = len(images)\n",
    "    plate_statistics = []\n",
    "    for count in range(image_count):\n",
    "        image = images[count]\n",
    "        roi_service = conn.getRoiService()\n",
    "        result = roi_service.findByImage(image.getId(), None)\n",
    "        roi_ids = [roi.id.val for roi in result.rois]\n",
    "        conn.deleteObjects(\"Roi\", roi_ids)\n"
   ]
  }
 ],
 "metadata": {
  "kernelspec": {
   "display_name": "omero-guide-cellprofiler",
   "language": "python",
   "name": "python3"
  },
  "language_info": {
   "codemirror_mode": {
    "name": "ipython",
    "version": 3
   },
   "file_extension": ".py",
   "mimetype": "text/x-python",
   "name": "python",
   "nbconvert_exporter": "python",
   "pygments_lexer": "ipython3",
   "version": "3.8.18"
  }
 },
 "nbformat": 4,
 "nbformat_minor": 2
}
