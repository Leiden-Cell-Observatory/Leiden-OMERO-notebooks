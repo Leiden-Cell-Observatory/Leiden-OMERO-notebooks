{
 "cells": [
  {
   "cell_type": "markdown",
   "metadata": {},
   "source": [
    "## Training"
   ]
  },
  {
   "cell_type": "code",
   "execution_count": null,
   "metadata": {},
   "outputs": [],
   "source": [
    "from omero.gateway import BlitzGateway\n",
    "import ezomero\n",
    "#load dotenv for OMERO login\n",
    "from dotenv import load_dotenv\n",
    "\n",
    "from tifffile import imsave\n",
    "import torch\n",
    "\n",
    "from tifffile import imwrite\n",
    "\n",
    "import os\n",
    "import tempfile\n",
    "import pandas as pd\n",
    "import zipfile\n",
    "import numpy as np\n",
    "import datetime\n",
    "import shutil\n",
    "\n",
    "\n",
    "from cellpose import io, models, train\n"
   ]
  },
  {
   "cell_type": "markdown",
   "metadata": {},
   "source": [
    "### Setup connection with OMERO"
   ]
  },
  {
   "cell_type": "code",
   "execution_count": null,
   "metadata": {},
   "outputs": [],
   "source": [
    "load_dotenv(override=True)\n",
    "\n",
    "conn = BlitzGateway(host=os.environ.get(\"HOST\"), username=os.environ.get(\"USER_NAME\"), passwd=os.environ.get(\"PASSWORD\"), secure=True)\n",
    "connection_status = conn.connect()\n",
    "if connection_status:\n",
    "    print(\"Connected to OMERO Server\")\n",
    "else:\n",
    "    print(\"Connection to OMERO Server Failed\")\n",
    "conn.c.enableKeepAlive(60)"
   ]
  },
  {
   "cell_type": "markdown",
   "metadata": {},
   "source": [
    "### Get info from the dataset"
   ]
  },
  {
   "cell_type": "code",
   "execution_count": null,
   "metadata": {},
   "outputs": [],
   "source": [
    "datatype = \"dataset\" # \"plate\", \"dataset\", \"image\"\n",
    "data_id = 502\n",
    "nucl_channel = 0\n",
    "\n",
    "#validate that data_id matches datatype\n",
    "if datatype == \"plate\":\n",
    "    plate = conn.getObject(\"Plate\", data_id)\n",
    "    print('Plate Name: ', plate.getName())\n",
    "elif datatype == \"dataset\":\n",
    "    dataset = conn.getObject(\"Dataset\", data_id)\n",
    "    print('Dataset Name: ', dataset.getName())\n",
    "elif datatype == \"image\":\n",
    "    image = conn.getObject(\"Image\", data_id)\n",
    "    print('Image Name: ', image.getName())"
   ]
  },
  {
   "cell_type": "markdown",
   "metadata": {},
   "source": [
    "### Define output folder for training"
   ]
  },
  {
   "cell_type": "code",
   "execution_count": null,
   "metadata": {},
   "outputs": [],
   "source": [
    "timestamp = datetime.datetime.now().strftime('%Y%m%d_%H%M%S')\n",
    "home_dir = os.path.expanduser(\"~\")\n",
    "models_dir = os.path.join(home_dir, \"cellpose_models\")\n",
    "os.makedirs(models_dir, exist_ok=True)\n",
    "folder_name = f\"cellpose-{timestamp}\"\n",
    "output_directory = os.path.join(models_dir, folder_name)\n",
    "os.makedirs(output_directory, exist_ok=True)\n",
    "output_directory = os.path.abspath(output_directory)\n",
    "print(f\"Output directory: {output_directory}\")"
   ]
  },
  {
   "cell_type": "markdown",
   "metadata": {},
   "source": [
    "### Collecting data from OMERO using the attached table"
   ]
  },
  {
   "cell_type": "code",
   "execution_count": null,
   "metadata": {},
   "outputs": [],
   "source": [
    "def get_specific_table(conn, dataset_id, table_name=\"cellpose_training_data\"):\n",
    "    \"\"\"\n",
    "    Find and return a specific table attached to a dataset by its name.\n",
    "    \n",
    "    Args:\n",
    "        conn: OMERO connection\n",
    "        dataset_id: ID of the dataset to search\n",
    "        table_name: Name of the table file to find\n",
    "        \n",
    "    Returns:\n",
    "        table: Table data as pandas DataFrame or list of lists\n",
    "        file_ann_id: ID of the file annotation containing the table\n",
    "    \"\"\"\n",
    "    # Get all file annotations on the dataset\n",
    "    file_ann_ids = ezomero.get_file_annotation_ids(conn, \"Dataset\", dataset_id)\n",
    "    \n",
    "    # Get original file details to check names\n",
    "    for ann_id in file_ann_ids:\n",
    "        ann = conn.getObject(\"FileAnnotation\", ann_id)\n",
    "        if ann is None:\n",
    "            continue\n",
    "            \n",
    "        orig_file = ann.getFile()\n",
    "        if orig_file.getName() == table_name:\n",
    "            try:\n",
    "                table = ezomero.get_table(conn, ann_id)\n",
    "                return table, ann_id\n",
    "            except Exception as e:\n",
    "                print(f\"Found file {table_name} but failed to load as table: {e}\")\n",
    "                continue\n",
    "                \n",
    "    return None, None"
   ]
  },
  {
   "cell_type": "code",
   "execution_count": null,
   "metadata": {},
   "outputs": [],
   "source": [
    "table_name = \"cellpose_training_data\"\n",
    "table, file_ann_id = get_specific_table(conn, data_id, table_name)\n",
    "if table is not None:\n",
    "    print(f\"Found table {table_name} in file annotation {file_ann_id}\")\n",
    "    # If pandas DataFrame:\n",
    "    print(table.head())\n",
    "else:\n",
    "    print(f\"No table named {table_name} found\")"
   ]
  },
  {
   "cell_type": "code",
   "execution_count": null,
   "metadata": {},
   "outputs": [],
   "source": [
    "#download table from omero, use it to collect training data\n",
    "train_images = []\n",
    "validate_images = []\n",
    "\n",
    "folders = [\"training_input\", \"training_label\", \"val_input\", \"val_label\", \"tmp\"]\t\n",
    "for folder in folders:\n",
    "    folder = os.path.join(output_directory,folder)\n",
    "    if os.path.exists(folder) and os.path.isdir(folder):\n",
    "        shutil.rmtree(folder)\n",
    "    #os.makedirs(folder)\n",
    "\n",
    "#prepare training data\n",
    "train_images = table[table['train'] == True]\n",
    "val_images = table[table['validate'] == True]\n",
    "os.makedirs(os.path.join(output_directory, \"tmp\"), exist_ok=True)\n",
    "training_dir = os.path.join(output_directory, \"training\")\n",
    "os.makedirs(training_dir, exist_ok=True)\n",
    "\n",
    "for n in range(len(train_images)):\n",
    "    z_slice = train_images.iloc[n]['z_slice']\n",
    "    channel = train_images.iloc[n]['channel']\n",
    "    timepoint = train_images.iloc[n]['timepoint']\n",
    "    image = conn.getObject('Image', int(train_images.iloc[n]['image_id']))\n",
    "    pixels = image.getPrimaryPixels()\n",
    "    img = pixels.getPlane(z_slice, channel, timepoint) #(z, c, t) \n",
    "    #save image to output folder\n",
    "    # Normalize 16-bit to 8-bit using 0 as minimum\n",
    "    img_8bit = ((img) * (255.0 / img.max())).astype(np.uint8)\n",
    "\n",
    "    # Save as 8-bit tiff as required for cellpose training\n",
    "    imwrite(os.path.join(training_dir, f\"training_0000{n}_img.tif\"), img_8bit)\n",
    "    \n",
    "    file_path = ezomero.get_file_annotation(conn, int(train_images.iloc[n]['label_id']), os.path.join(output_directory, \"tmp\"))\n",
    "    os.rename(file_path, os.path.join(training_dir, f\"training_0000{n}_masks.tif\"))\n",
    "\n",
    "val_dir = os.path.join(output_directory, \"validation\")\n",
    "os.makedirs(val_dir, exist_ok=True)\n",
    "\n",
    "for n in range(len(val_images)):\n",
    "    image = conn.getObject('Image', int(val_images.iloc[n]['image_id']))\n",
    "    pixels = image.getPrimaryPixels()\n",
    "    img = pixels.getPlane(z_slice, channel, timepoint) #(z, c, t) \n",
    "    # Normalize 16-bit to 8-bit using 0 as minimum\n",
    "    img_8bit = ((img) * (255.0 / img.max())).astype(np.uint8)\n",
    "    #save image to output folder\n",
    "    imsave(os.path.join(val_dir, f\"val_0000{n}_img.tif\"), img_8bit)\n",
    "    file_path = ezomero.get_file_annotation(conn, int(val_images.iloc[n]['label_id']), os.path.join(output_directory, \"tmp\"))\n",
    "    os.rename(file_path, os.path.join(val_dir, f\"val_0000{n}_masks.tif\"))\n",
    "\n",
    "print(\"Training data succesfully saved to: \", output_directory)"
   ]
  },
  {
   "cell_type": "markdown",
   "metadata": {},
   "source": [
    "### Prepare data for the training"
   ]
  },
  {
   "cell_type": "code",
   "execution_count": null,
   "metadata": {},
   "outputs": [],
   "source": [
    "output = io.load_train_test_data(training_dir, val_dir, image_filter=\"_img\",\n",
    "                                mask_filter=\"_masks\", look_one_level_down=False)"
   ]
  },
  {
   "cell_type": "markdown",
   "metadata": {},
   "source": [
    "### Running the training"
   ]
  },
  {
   "cell_type": "code",
   "execution_count": null,
   "metadata": {},
   "outputs": [],
   "source": [
    "io.logger_setup()\n",
    "\n",
    "images, labels, image_names, test_images, test_labels, image_names_test = output\n",
    "channels = [1,2] #which channels to use for training\n",
    "n_epochs = 500\n",
    "#Retrain a Cellpose model\n",
    "model = models.CellposeModel(model_type=\"cyto3\")\n",
    "model_path, train_losses, test_losses = train.train_seg(model.net,\n",
    "                            train_data=images, train_labels=labels,\n",
    "                            channels=[1,2], normalize=True,\n",
    "                            test_data=test_images, test_labels=test_labels,\n",
    "                            weight_decay=1e-4, SGD=True, learning_rate=0.1,\n",
    "                            n_epochs=n_epochs, model_name=\"cellpose_model\")"
   ]
  },
  {
   "cell_type": "markdown",
   "metadata": {},
   "source": [
    "### save model\n"
   ]
  },
  {
   "cell_type": "code",
   "execution_count": null,
   "metadata": {},
   "outputs": [],
   "source": [
    "print(output_directory)"
   ]
  },
  {
   "cell_type": "markdown",
   "metadata": {},
   "source": []
  }
 ],
 "metadata": {
  "kernelspec": {
   "display_name": "micro-sam",
   "language": "python",
   "name": "python3"
  },
  "language_info": {
   "codemirror_mode": {
    "name": "ipython",
    "version": 3
   },
   "file_extension": ".py",
   "mimetype": "text/x-python",
   "name": "python",
   "nbconvert_exporter": "python",
   "pygments_lexer": "ipython3",
   "version": "3.10.15"
  }
 },
 "nbformat": 4,
 "nbformat_minor": 2
}
