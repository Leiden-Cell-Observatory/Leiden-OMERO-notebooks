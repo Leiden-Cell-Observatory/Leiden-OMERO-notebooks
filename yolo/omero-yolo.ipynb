{
 "cells": [
  {
   "cell_type": "code",
   "execution_count": null,
   "metadata": {},
   "outputs": [],
   "source": []
  },
  {
   "cell_type": "code",
   "execution_count": null,
   "metadata": {},
   "outputs": [],
   "source": [
    "import ezomero\n",
    "import tqdm\n",
    "import shutil\n",
    "import os\n",
    "from skimage import io\n",
    "from ultralytics import YOLO\n",
    "import matplotlib.pyplot as plt\n",
    "\n",
    "from sklearn.model_selection import train_test_split"
   ]
  },
  {
   "cell_type": "code",
   "execution_count": null,
   "metadata": {},
   "outputs": [],
   "source": [
    "import torch\n",
    "torch.cuda.is_available()"
   ]
  },
  {
   "cell_type": "code",
   "execution_count": null,
   "metadata": {},
   "outputs": [],
   "source": [
    "from dotenv import load_dotenv\n",
    "\n",
    "host = localhost\n",
    "user = os.environ.get(\"USER_NAME\")\n",
    "secure = True\n",
    "port = 4064\n",
    "group = None\n",
    "\n",
    "conn = ezomero.connect(host=host, user=user, secure=secure, port=port, group=group)"
   ]
  }
 ],
 "metadata": {
  "kernelspec": {
   "display_name": "omero-yolo",
   "language": "python",
   "name": "python3"
  },
  "language_info": {
   "codemirror_mode": {
    "name": "ipython",
    "version": 3
   },
   "file_extension": ".py",
   "mimetype": "text/x-python",
   "name": "python",
   "nbconvert_exporter": "python",
   "pygments_lexer": "ipython3",
   "version": "undefined.undefined.undefined"
  }
 },
 "nbformat": 4,
 "nbformat_minor": 2
}
