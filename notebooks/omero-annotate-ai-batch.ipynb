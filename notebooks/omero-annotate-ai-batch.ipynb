{
 "cells": [
  {
   "cell_type": "markdown",
   "metadata": {},
   "source": [
    "# OMERO Micro-SAM Annotation Workflow\n",
    "\n",
    "This notebook demonstrates the new streamlined workflow using the `omero-annotate-ai` package focused on micro-SAM.\n",
    "\n",
    "### Features:\n",
    "- Interactive configuration widget\n",
    "- Support for all micro-SAM models (vit_b, vit_l, vit_h, vit_b_lm)\n",
    "- YAML-based configuration\n",
    "- Clean API with backward compatibility\n",
    "- 2D and 3D processing modes\n",
    "\n",
    "### Instructions:\n",
    "- Login: To run with OMERO and to not expose login in the notebook, the username is stored in .env file (see example .env_example). The password needs to be typed every time.\n",
    "- This notebook supports processing images from various OMERO object types: images, datasets, projects, plates, and screens.\n",
    "- Specify the container type and ID using the interactive widget below."
   ]
  },
  {
   "cell_type": "markdown",
   "metadata": {},
   "source": [
    "## 1. Install and Import the Package\n",
    "\n",
    "**Note**: If you haven't installed the package yet, run:\n",
    "```bash\n",
    "pip install -e .\n",
    "```\n",
    "\n",
    "For OMERO functionality, also install:\n",
    "```bash\n",
    "pip install -e .[omero]\n",
    "```"
   ]
  },
  {
   "cell_type": "code",
   "execution_count": 1,
   "metadata": {},
   "outputs": [
    {
     "name": "stdout",
     "output_type": "stream",
     "text": [
      "📦 omero-annotate-ai version: 0.1.0\n",
      "🔗 OMERO functionality: ✅ Available\n"
     ]
    }
   ],
   "source": [
    "# Import the new package\n",
    "import omero_annotate_ai\n",
    "from omero_annotate_ai import create_config_widget, create_pipeline, create_default_config\n",
    "\n",
    "# OMERO-related imports\n",
    "import omero\n",
    "from omero.gateway import BlitzGateway\n",
    "try:\n",
    "    import ezomero\n",
    "    OMERO_AVAILABLE = True\n",
    "except ImportError:\n",
    "    print(\"⚠️  ezomero not available. Install with: pip install -e .[omero]\")\n",
    "    OMERO_AVAILABLE = False\n",
    "\n",
    "# System and utility imports\n",
    "import os\n",
    "import tempfile\n",
    "import shutil\n",
    "from dotenv import load_dotenv\n",
    "from getpass import getpass\n",
    "\n",
    "print(f\"📦 omero-annotate-ai version: {omero_annotate_ai.__version__}\")\n",
    "print(f\"🔗 OMERO functionality: {'✅ Available' if OMERO_AVAILABLE else '❌ Not available'}\")"
   ]
  },
  {
   "cell_type": "markdown",
   "metadata": {},
   "source": [
    "## 2. Setup Connection with OMERO"
   ]
  },
  {
   "cell_type": "code",
   "execution_count": 2,
   "metadata": {},
   "outputs": [
    {
     "name": "stdout",
     "output_type": "stream",
     "text": [
      "✅ Connected to OMERO Server\n",
      "👤 User: root\n",
      "🏢 Group: system\n",
      "📁 Created temporary work directory: c:\\users\\maarten\\appdata\\local\\temp\\tmp9ah_n5te\n"
     ]
    }
   ],
   "source": [
    "if not OMERO_AVAILABLE:\n",
    "    raise ImportError(\"OMERO functionality not available. Please install ezomero.\")\n",
    "\n",
    "# Load environment variables\n",
    "load_dotenv(override=True)\n",
    "\n",
    "# Ask for password if not set\n",
    "if not os.environ.get(\"PASSWORD\"):\n",
    "    os.environ[\"PASSWORD\"] = getpass(\"Enter OMERO server password: \")\n",
    "\n",
    "# Connect to OMERO\n",
    "conn = BlitzGateway(\n",
    "    host=os.environ.get(\"HOST\"), \n",
    "    username=os.environ.get(\"USER_NAME\"), \n",
    "    passwd=os.environ.get(\"PASSWORD\"), \n",
    "    group=os.environ.get(\"GROUP\"), \n",
    "    secure=True\n",
    ")\n",
    "\n",
    "connection_status = conn.connect()\n",
    "if connection_status:\n",
    "    print(\"✅ Connected to OMERO Server\")\n",
    "    print(f\"👤 User: {conn.getUser().getName()}\")\n",
    "    print(f\"🏢 Group: {conn.getGroupFromContext().getName()}\")\n",
    "else:\n",
    "    print(\"❌ Connection to OMERO Server Failed\")\n",
    "    raise ConnectionError(\"Could not connect to OMERO\")\n",
    "\n",
    "conn.c.enableKeepAlive(60)\n",
    "\n",
    "# Create temporary work directory\n",
    "output_directory = os.path.normcase(tempfile.mkdtemp())\n",
    "print(f\"📁 Created temporary work directory: {output_directory}\")"
   ]
  },
  {
   "cell_type": "markdown",
   "metadata": {},
   "source": [
    "## 3. Interactive Configuration\n",
    "\n",
    "Use the interactive widget to configure your micro-SAM annotation workflow. The widget provides:\n",
    "- **OMERO Connection**: Specify container type and ID\n",
    "- **Micro-SAM Model**: Choose model type (vit_b, vit_l, vit_h, vit_b_lm)\n",
    "- **Image Processing**: Configure timepoints, z-slices, channels, 3D mode\n",
    "- **Patches**: Optional patch extraction settings\n",
    "- **Training**: Data organization and validation\n",
    "- **Workflow**: Resume options and output settings"
   ]
  },
  {
   "cell_type": "code",
   "execution_count": 3,
   "metadata": {},
   "outputs": [
    {
     "data": {
      "application/vnd.jupyter.widget-view+json": {
       "model_id": "f574061ccd2e49e89991e8953b67c8c2",
       "version_major": 2,
       "version_minor": 0
      },
      "text/plain": [
       "VBox(children=(HTML(value='<h3>🔬 OMERO micro-SAM Configuration</h3>', layout=Layout(margin='0 0 20px 0')), Acc…"
      ]
     },
     "metadata": {},
     "output_type": "display_data"
    },
    {
     "name": "stdout",
     "output_type": "stream",
     "text": [
      "📝 Configure your micro-SAM annotation workflow using the widget above:\n",
      "   1. Set your OMERO container details (Dataset ID, etc.)\n",
      "   2. Choose your micro-SAM model (vit_b, vit_l, vit_h, vit_b_lm)\n",
      "   3. Adjust processing parameters as needed\n",
      "   4. Click 'Update Configuration' to apply changes\n",
      "   5. Click 'Validate' to check your configuration\n",
      "   6. Click 'Show YAML' to see the configuration\n"
     ]
    }
   ],
   "source": [
    "# Create the configuration widget\n",
    "config_widget = create_config_widget()\n",
    "config_widget.display()\n",
    "\n",
    "print(\"📝 Configure your micro-SAM annotation workflow using the widget above:\")\n",
    "print(\"   1. Set your OMERO container details (Dataset ID, etc.)\")\n",
    "print(\"   2. Choose your micro-SAM model (vit_b, vit_l, vit_h, vit_b_lm)\")\n",
    "print(\"   3. Adjust processing parameters as needed\")\n",
    "print(\"   4. Click 'Update Configuration' to apply changes\")\n",
    "print(\"   5. Click 'Validate' to check your configuration\")\n",
    "print(\"   6. Click 'Show YAML' to see the configuration\")"
   ]
  },
  {
   "cell_type": "markdown",
   "metadata": {},
   "source": [
    "## 4. Optional: Set Training Set Name\n",
    "\n",
    "Choose a specific name for your training set. This helps with organization and allows resuming interrupted workflows."
   ]
  },
  {
   "cell_type": "code",
   "execution_count": 6,
   "metadata": {},
   "outputs": [
    {
     "name": "stdout",
     "output_type": "stream",
     "text": [
      "🎯 Training Set Name: training_data_20240607\n",
      "📁 Output directory: c:\\users\\maarten\\appdata\\local\\temp\\tmp9ah_n5te\n"
     ]
    }
   ],
   "source": [
    "import pandas as pd\n",
    "\n",
    "# Set a name for the training set\n",
    "# Use a specific name if you want to resume from an existing table\n",
    "trainingset_name = \"training_data_20240607\"  # Fixed name for resuming\n",
    "# trainingset_name = \"training_data_\" + pd.Timestamp.now().strftime(\"%Y%m%d_%H%M\")  # Auto-generated name\n",
    "\n",
    "print(f\"🎯 Training Set Name: {trainingset_name}\")\n",
    "\n",
    "# Update the configuration with the training set name\n",
    "config = config_widget.get_config()\n",
    "config.training.trainingset_name = trainingset_name\n",
    "config.batch_processing.output_folder = output_directory\n",
    "\n",
    "print(f\"📁 Output directory: {output_directory}\")"
   ]
  },
  {
   "cell_type": "markdown",
   "metadata": {},
   "source": [
    "## 5. Validate Configuration and Show Preview\n",
    "\n",
    "Before running the pipeline, let's validate the configuration and preview what will be processed."
   ]
  },
  {
   "cell_type": "code",
   "execution_count": 7,
   "metadata": {},
   "outputs": [
    {
     "name": "stdout",
     "output_type": "stream",
     "text": [
      "✅ Configuration is valid!\n",
      "\n",
      "📋 Configuration Summary:\n",
      "   🔬 Model: vit_l\n",
      "   📦 Container: project (ID: 101)\n",
      "   📺 Channel: 0\n",
      "   🎯 Training Set: training_data_20240607\n",
      "   📊 Batch Size: 3\n",
      "   🧩 Use Patches: False\n",
      "   🔄 Resume from Table: False\n",
      "   📖 Read-only Mode: False\n",
      "   🧠 3D Processing: False\n"
     ]
    }
   ],
   "source": [
    "# Update configuration from widget\n",
    "config = config_widget.get_config()\n",
    "config.training.trainingset_name = trainingset_name\n",
    "config.batch_processing.output_folder = output_directory\n",
    "\n",
    "# Validate configuration\n",
    "try:\n",
    "    config.validate()\n",
    "    print(\"✅ Configuration is valid!\")\n",
    "except ValueError as e:\n",
    "    print(f\"❌ Configuration validation failed:\")\n",
    "    print(f\"   {e}\")\n",
    "    raise\n",
    "\n",
    "# Show configuration summary\n",
    "print(\"\\n📋 Configuration Summary:\")\n",
    "print(f\"   🔬 Model: {config.microsam.model_type}\")\n",
    "print(f\"   📦 Container: {config.omero.container_type} (ID: {config.omero.container_id})\")\n",
    "print(f\"   📺 Channel: {config.omero.channel}\")\n",
    "print(f\"   🎯 Training Set: {config.training.trainingset_name}\")\n",
    "print(f\"   📊 Batch Size: {config.batch_processing.batch_size}\")\n",
    "print(f\"   🧩 Use Patches: {config.patches.use_patches}\")\n",
    "if config.patches.use_patches:\n",
    "    print(f\"   📐 Patch Size: {config.patches.patch_size}\")\n",
    "    print(f\"   📈 Patches per Image: {config.patches.patches_per_image}\")\n",
    "print(f\"   🔄 Resume from Table: {config.workflow.resume_from_table}\")\n",
    "print(f\"   📖 Read-only Mode: {config.workflow.read_only_mode}\")\n",
    "print(f\"   🧠 3D Processing: {config.microsam.three_d}\")"
   ]
  },
  {
   "cell_type": "markdown",
   "metadata": {},
   "source": [
    "## 6. Preview Container Contents\n",
    "\n",
    "Let's check what images will be processed from your selected container."
   ]
  },
  {
   "cell_type": "code",
   "execution_count": 8,
   "metadata": {},
   "outputs": [
    {
     "name": "stdout",
     "output_type": "stream",
     "text": [
      "📂 Project: Senescence (ID: 101)\n",
      "📝 Description: No description\n",
      "📁 Loading images from project 101\n",
      "📊 Found 6 images\n",
      "\n",
      "📊 Found 6 images to process\n",
      "\n",
      "🖼️ Sample images:\n",
      "   1. r01c06.tif (ID: 252)\n",
      "   2. r01c05.tif (ID: 255)\n",
      "   3. r01c02.tif (ID: 251)\n",
      "   4. r01c01.tif (ID: 256)\n",
      "   5. r01c04.tif (ID: 253)\n",
      "   ... and 1 more images\n"
     ]
    }
   ],
   "source": [
    "# Create the pipeline (but don't run it yet)\n",
    "pipeline = create_pipeline(config, conn)\n",
    "\n",
    "# Get container details\n",
    "container_type = config.omero.container_type\n",
    "container_id = config.omero.container_id\n",
    "\n",
    "# Validate container exists and get details\n",
    "if container_type == \"dataset\":\n",
    "    container = conn.getObject(\"Dataset\", container_id)\n",
    "    if container is None:\n",
    "        raise ValueError(f\"Dataset with ID {container_id} not found\")\n",
    "    print(f\"📁 Dataset: {container.getName()} (ID: {container_id})\")\n",
    "    print(f\"📝 Description: {container.getDescription() or 'No description'}\")\n",
    "    \n",
    "elif container_type == \"project\":\n",
    "    container = conn.getObject(\"Project\", container_id)\n",
    "    if container is None:\n",
    "        raise ValueError(f\"Project with ID {container_id} not found\")\n",
    "    print(f\"📂 Project: {container.getName()} (ID: {container_id})\")\n",
    "    print(f\"📝 Description: {container.getDescription() or 'No description'}\")\n",
    "    \n",
    "elif container_type == \"plate\":\n",
    "    container = conn.getObject(\"Plate\", container_id)\n",
    "    if container is None:\n",
    "        raise ValueError(f\"Plate with ID {container_id} not found\")\n",
    "    print(f\"🧪 Plate: {container.getName()} (ID: {container_id})\")\n",
    "    print(f\"📝 Description: {container.getDescription() or 'No description'}\")\n",
    "    \n",
    "elif container_type == \"image\":\n",
    "    container = conn.getObject(\"Image\", container_id)\n",
    "    if container is None:\n",
    "        raise ValueError(f\"Image with ID {container_id} not found\")\n",
    "    print(f\"🖼️ Image: {container.getName()} (ID: {container_id})\")\n",
    "    \n",
    "else:\n",
    "    raise ValueError(f\"Unsupported container type: {container_type}\")\n",
    "\n",
    "# Get list of images that will be processed\n",
    "try:\n",
    "    images_list = pipeline.get_images_from_container()\n",
    "    print(f\"\\n📊 Found {len(images_list)} images to process\")\n",
    "    \n",
    "    # Show first few images\n",
    "    print(\"\\n🖼️ Sample images:\")\n",
    "    for i, img in enumerate(images_list[:5]):\n",
    "        if hasattr(img, 'getName'):  # OMERO image object\n",
    "            print(f\"   {i+1}. {img.getName()} (ID: {img.getId()})\")\n",
    "        else:  # Image ID\n",
    "            img_obj = conn.getObject(\"Image\", img)\n",
    "            if img_obj:\n",
    "                print(f\"   {i+1}. {img_obj.getName()} (ID: {img})\")\n",
    "    \n",
    "    if len(images_list) > 5:\n",
    "        print(f\"   ... and {len(images_list) - 5} more images\")\n",
    "        \n",
    "except Exception as e:\n",
    "    print(f\"❌ Error getting images from container: {e}\")\n",
    "    raise"
   ]
  },
  {
   "cell_type": "markdown",
   "metadata": {},
   "source": [
    "## 7. Run the Annotation Pipeline\n",
    "\n",
    "Now we'll run the annotation workflow. This will:\n",
    "1. Create or resume from a tracking table\n",
    "2. Process images in batches\n",
    "3. Launch napari for interactive annotation\n",
    "4. Upload results to OMERO (or save locally if in read-only mode)"
   ]
  },
  {
   "cell_type": "code",
   "execution_count": 9,
   "metadata": {},
   "outputs": [
    {
     "name": "stdout",
     "output_type": "stream",
     "text": [
      "🚀 Starting annotation pipeline...\n",
      "   This will process 6 images using micro-SAM\n",
      "   Model: vit_l\n",
      "   Napari will open for interactive annotation\n",
      "   Close napari windows when annotation is complete for each batch\n",
      "📁 Loading images from project 101\n",
      "📊 Found 6 images\n",
      "🚀 Starting micro-SAM annotation pipeline\n",
      "📊 Processing 6 images with model: vit_l\n",
      "📋 Creating new tracking table: microsam_training_training_data_20240607\n",
      "📋 Would create tracking table 'microsam_training_training_data_20240607' with 6 units\n",
      "   Container: project 101\n"
     ]
    },
    {
     "name": "stderr",
     "output_type": "stream",
     "text": [
      "WARNING:omero.gateway:ValueError on <class 'omero.gateway.OmeroGatewaySafeCallWrapper'> to <4e5cdf1a-fd53-4556-9d6f-00f022cbd75aomero.api.IUpdate> saveAndReturnObject((object #0 (::omero::model::MapAnnotation)\n",
      "{\n",
      "    _id = <nil>\n",
      "    _details = object #1 (::omero::model::Details)\n",
      "    {\n",
      "        _owner = <nil>\n",
      "        _group = <nil>\n",
      "        _creationEvent = <nil>\n",
      "        _updateEvent = <nil>\n",
      "        _permissions = <nil>\n",
      "        _externalInfo = <nil>\n",
      "        _call = {}\n",
      "        _event = <nil>\n",
      "    }\n",
      "    _loaded = True\n",
      "    _version = <nil>\n",
      "    _ns = object #2 (::omero::RString)\n",
      "    {\n",
      "        _val = omero.annotation.microsam.config\n",
      "    }\n",
      "    _name = <nil>\n",
      "    _description = object #3 (::omero::RString)\n",
      "    {\n",
      "        _val = micro-SAM Configuration\n",
      "    }\n",
      "    _annotationLinksSeq = \n",
      "    {\n",
      "    }\n",
      "    _annotationLinksLoaded = True\n",
      "    _annotationLinksCountPerOwner = {}\n",
      "    _mapValue = \n",
      "    {\n",
      "        [0] = <invalid value - expected ::omero::model::NamedValue>\n",
      "        [1] = <invalid value - expected ::omero::model::NamedValue>\n",
      "        [2] = <invalid value - expected ::omero::model::NamedValue>\n",
      "        [3] = <invalid value - expected ::omero::model::NamedValue>\n",
      "        [4] = <invalid value - expected ::omero::model::NamedValue>\n",
      "        [5] = <invalid value - expected ::omero::model::NamedValue>\n",
      "        [6] = <invalid value - expected ::omero::model::NamedValue>\n",
      "        [7] = <invalid value - expected ::omero::model::NamedValue>\n",
      "        [8] = <invalid value - expected ::omero::model::NamedValue>\n",
      "        [9] = <invalid value - expected ::omero::model::NamedValue>\n",
      "        [10] = <invalid value - expected ::omero::model::NamedValue>\n",
      "        [11] = <invalid value - expected ::omero::model::NamedValue>\n",
      "        [12] = <invalid value - expected ::omero::model::NamedValue>\n",
      "        [13] = <invalid value - expected ::omero::model::NamedValue>\n",
      "        [14] = <invalid value - expected ::omero::model::NamedValue>\n",
      "        [15] = <invalid value - expected ::omero::model::NamedValue>\n",
      "        [16] = <invalid value - expected ::omero::model::NamedValue>\n",
      "        [17] = <invalid value - expected ::omero::model::NamedValue>\n",
      "        [18] = <invalid value - expected ::omero::model::NamedValue>\n",
      "        [19] = <invalid value - expected ::omero::model::NamedValue>\n",
      "        [20] = <invalid value - expected ::omero::model::NamedValue>\n",
      "        [21] = <invalid value - expected ::omero::model::NamedValue>\n",
      "        [22] = <invalid value - expected ::omero::model::NamedValue>\n",
      "        [23] = <invalid value - expected ::omero::model::NamedValue>\n",
      "    }\n",
      "},), {})\n",
      "Traceback (most recent call last):\n",
      "  File \"c:\\Users\\Maarten\\miniforge3\\envs\\micro-sam\\Lib\\site-packages\\omero\\gateway\\__init__.py\", line 4852, in __call__\n",
      "    return self.f(*args, **kwargs)\n",
      "           ^^^^^^^^^^^^^^^^^^^^^^^\n",
      "  File \"c:\\Users\\Maarten\\miniforge3\\envs\\micro-sam\\Lib\\site-packages\\omero_api_IUpdate_ice.py\", line 163, in saveAndReturnObject\n",
      "    return _M_omero.api.IUpdate._op_saveAndReturnObject.invoke(self, ((obj, ), _ctx))\n",
      "           ^^^^^^^^^^^^^^^^^^^^^^^^^^^^^^^^^^^^^^^^^^^^^^^^^^^^^^^^^^^^^^^^^^^^^^^^^^\n",
      "ValueError: invalid value for element 0 of `::omero::api::NamedValueList'\n"
     ]
    },
    {
     "name": "stdout",
     "output_type": "stream",
     "text": [
      "❌ Error during annotation pipeline: invalid value for element 0 of `::omero::api::NamedValueList'\n"
     ]
    },
    {
     "ename": "ValueError",
     "evalue": "invalid value for element 0 of `::omero::api::NamedValueList'",
     "output_type": "error",
     "traceback": [
      "\u001b[1;31m---------------------------------------------------------------------------\u001b[0m",
      "\u001b[1;31mValueError\u001b[0m                                Traceback (most recent call last)",
      "Cell \u001b[1;32mIn[9], line 9\u001b[0m\n\u001b[0;32m      5\u001b[0m \u001b[38;5;28mprint\u001b[39m(\u001b[38;5;124mf\u001b[39m\u001b[38;5;124m\"\u001b[39m\u001b[38;5;124m   Close napari windows when annotation is complete for each batch\u001b[39m\u001b[38;5;124m\"\u001b[39m)\n\u001b[0;32m      7\u001b[0m \u001b[38;5;28;01mtry\u001b[39;00m:\n\u001b[0;32m      8\u001b[0m     \u001b[38;5;66;03m# Run the complete workflow\u001b[39;00m\n\u001b[1;32m----> 9\u001b[0m     table_id, processed_images \u001b[38;5;241m=\u001b[39m \u001b[43mpipeline\u001b[49m\u001b[38;5;241;43m.\u001b[39;49m\u001b[43mrun_full_workflow\u001b[49m\u001b[43m(\u001b[49m\u001b[43m)\u001b[49m\n\u001b[0;32m     11\u001b[0m     \u001b[38;5;28mprint\u001b[39m(\u001b[38;5;124mf\u001b[39m\u001b[38;5;124m\"\u001b[39m\u001b[38;5;130;01m\\n\u001b[39;00m\u001b[38;5;124m✅ Annotation pipeline completed successfully!\u001b[39m\u001b[38;5;124m\"\u001b[39m)\n\u001b[0;32m     12\u001b[0m     \u001b[38;5;28mprint\u001b[39m(\u001b[38;5;124mf\u001b[39m\u001b[38;5;124m\"\u001b[39m\u001b[38;5;124m📊 Processed \u001b[39m\u001b[38;5;132;01m{\u001b[39;00m\u001b[38;5;28mlen\u001b[39m(processed_images)\u001b[38;5;132;01m}\u001b[39;00m\u001b[38;5;124m images\u001b[39m\u001b[38;5;124m\"\u001b[39m)\n",
      "File \u001b[1;32mc:\\Users\\Maarten\\miniforge3\\envs\\micro-sam\\Lib\\site-packages\\omero_annotate_ai\\core\\pipeline.py:507\u001b[0m, in \u001b[0;36mAnnotationPipeline.run_full_workflow\u001b[1;34m(self)\u001b[0m\n\u001b[0;32m    504\u001b[0m \u001b[38;5;28;01mif\u001b[39;00m \u001b[38;5;129;01mnot\u001b[39;00m images_list:\n\u001b[0;32m    505\u001b[0m     \u001b[38;5;28;01mraise\u001b[39;00m \u001b[38;5;167;01mValueError\u001b[39;00m(\u001b[38;5;124mf\u001b[39m\u001b[38;5;124m\"\u001b[39m\u001b[38;5;124mNo images found in \u001b[39m\u001b[38;5;132;01m{\u001b[39;00m\u001b[38;5;28mself\u001b[39m\u001b[38;5;241m.\u001b[39mconfig\u001b[38;5;241m.\u001b[39momero\u001b[38;5;241m.\u001b[39mcontainer_type\u001b[38;5;132;01m}\u001b[39;00m\u001b[38;5;124m \u001b[39m\u001b[38;5;132;01m{\u001b[39;00m\u001b[38;5;28mself\u001b[39m\u001b[38;5;241m.\u001b[39mconfig\u001b[38;5;241m.\u001b[39momero\u001b[38;5;241m.\u001b[39mcontainer_id\u001b[38;5;132;01m}\u001b[39;00m\u001b[38;5;124m\"\u001b[39m)\n\u001b[1;32m--> 507\u001b[0m \u001b[38;5;28;01mreturn\u001b[39;00m \u001b[38;5;28;43mself\u001b[39;49m\u001b[38;5;241;43m.\u001b[39;49m\u001b[43mrun\u001b[49m\u001b[43m(\u001b[49m\u001b[43mimages_list\u001b[49m\u001b[43m)\u001b[49m\n",
      "File \u001b[1;32mc:\\Users\\Maarten\\miniforge3\\envs\\micro-sam\\Lib\\site-packages\\omero_annotate_ai\\core\\pipeline.py:408\u001b[0m, in \u001b[0;36mAnnotationPipeline.run\u001b[1;34m(self, images_list)\u001b[0m\n\u001b[0;32m    405\u001b[0m \u001b[38;5;28mself\u001b[39m\u001b[38;5;241m.\u001b[39m_cleanup_embeddings(output_path)\n\u001b[0;32m    407\u001b[0m \u001b[38;5;66;03m# Initialize tracking table\u001b[39;00m\n\u001b[1;32m--> 408\u001b[0m table_id \u001b[38;5;241m=\u001b[39m \u001b[38;5;28;43mself\u001b[39;49m\u001b[38;5;241;43m.\u001b[39;49m\u001b[43m_initialize_tracking_table\u001b[49m\u001b[43m(\u001b[49m\u001b[43mimages_list\u001b[49m\u001b[43m)\u001b[49m\n\u001b[0;32m    410\u001b[0m \u001b[38;5;66;03m# Get unprocessed units from table\u001b[39;00m\n\u001b[0;32m    411\u001b[0m \u001b[38;5;28;01mtry\u001b[39;00m:\n",
      "File \u001b[1;32mc:\\Users\\Maarten\\miniforge3\\envs\\micro-sam\\Lib\\site-packages\\omero_annotate_ai\\core\\pipeline.py:107\u001b[0m, in \u001b[0;36mAnnotationPipeline._initialize_tracking_table\u001b[1;34m(self, images_list)\u001b[0m\n\u001b[0;32m    104\u001b[0m config_dict \u001b[38;5;241m=\u001b[39m \u001b[38;5;28mself\u001b[39m\u001b[38;5;241m.\u001b[39mconfig\u001b[38;5;241m.\u001b[39mto_dict()\n\u001b[0;32m    106\u001b[0m \u001b[38;5;66;03m# Store configuration as annotation\u001b[39;00m\n\u001b[1;32m--> 107\u001b[0m \u001b[38;5;28;43mself\u001b[39;49m\u001b[38;5;241;43m.\u001b[39;49m\u001b[43mconn\u001b[49m\u001b[38;5;241;43m.\u001b[39;49m\u001b[43mgetUpdateService\u001b[49m\u001b[43m(\u001b[49m\u001b[43m)\u001b[49m\u001b[38;5;241;43m.\u001b[39;49m\u001b[43msaveAndReturnObject\u001b[49m\u001b[43m(\u001b[49m\n\u001b[0;32m    108\u001b[0m \u001b[43m    \u001b[49m\u001b[38;5;28;43mself\u001b[39;49m\u001b[38;5;241;43m.\u001b[39;49m\u001b[43m_create_config_annotation\u001b[49m\u001b[43m(\u001b[49m\u001b[43mconfig_dict\u001b[49m\u001b[43m,\u001b[49m\u001b[43m \u001b[49m\u001b[43mconfig_namespace\u001b[49m\u001b[43m)\u001b[49m\n\u001b[0;32m    109\u001b[0m \u001b[43m\u001b[49m\u001b[43m)\u001b[49m\n\u001b[0;32m    111\u001b[0m \u001b[38;5;28;01mreturn\u001b[39;00m table_id\n",
      "File \u001b[1;32mc:\\Users\\Maarten\\miniforge3\\envs\\micro-sam\\Lib\\site-packages\\omero\\gateway\\__init__.py:4855\u001b[0m, in \u001b[0;36mOmeroGatewaySafeCallWrapper.__call__\u001b[1;34m(self, *args, **kwargs)\u001b[0m\n\u001b[0;32m   4853\u001b[0m \u001b[38;5;28;01mexcept\u001b[39;00m \u001b[38;5;167;01mException\u001b[39;00m \u001b[38;5;28;01mas\u001b[39;00m e:\n\u001b[0;32m   4854\u001b[0m     \u001b[38;5;28mself\u001b[39m\u001b[38;5;241m.\u001b[39mdebug(e\u001b[38;5;241m.\u001b[39m\u001b[38;5;18m__class__\u001b[39m\u001b[38;5;241m.\u001b[39m\u001b[38;5;18m__name__\u001b[39m, args, kwargs)\n\u001b[1;32m-> 4855\u001b[0m     \u001b[38;5;28;01mreturn\u001b[39;00m \u001b[38;5;28;43mself\u001b[39;49m\u001b[38;5;241;43m.\u001b[39;49m\u001b[43mhandle_exception\u001b[49m\u001b[43m(\u001b[49m\u001b[43me\u001b[49m\u001b[43m,\u001b[49m\u001b[43m \u001b[49m\u001b[38;5;241;43m*\u001b[39;49m\u001b[43margs\u001b[49m\u001b[43m,\u001b[49m\u001b[43m \u001b[49m\u001b[38;5;241;43m*\u001b[39;49m\u001b[38;5;241;43m*\u001b[39;49m\u001b[43mkwargs\u001b[49m\u001b[43m)\u001b[49m\n",
      "File \u001b[1;32mc:\\Users\\Maarten\\miniforge3\\envs\\micro-sam\\Lib\\site-packages\\omero\\gateway\\__init__.py:4852\u001b[0m, in \u001b[0;36mOmeroGatewaySafeCallWrapper.__call__\u001b[1;34m(self, *args, **kwargs)\u001b[0m\n\u001b[0;32m   4850\u001b[0m \u001b[38;5;28;01mdef\u001b[39;00m \u001b[38;5;21m__call__\u001b[39m(\u001b[38;5;28mself\u001b[39m, \u001b[38;5;241m*\u001b[39margs, \u001b[38;5;241m*\u001b[39m\u001b[38;5;241m*\u001b[39mkwargs):\n\u001b[0;32m   4851\u001b[0m     \u001b[38;5;28;01mtry\u001b[39;00m:\n\u001b[1;32m-> 4852\u001b[0m         \u001b[38;5;28;01mreturn\u001b[39;00m \u001b[38;5;28;43mself\u001b[39;49m\u001b[38;5;241;43m.\u001b[39;49m\u001b[43mf\u001b[49m\u001b[43m(\u001b[49m\u001b[38;5;241;43m*\u001b[39;49m\u001b[43margs\u001b[49m\u001b[43m,\u001b[49m\u001b[43m \u001b[49m\u001b[38;5;241;43m*\u001b[39;49m\u001b[38;5;241;43m*\u001b[39;49m\u001b[43mkwargs\u001b[49m\u001b[43m)\u001b[49m\n\u001b[0;32m   4853\u001b[0m     \u001b[38;5;28;01mexcept\u001b[39;00m \u001b[38;5;167;01mException\u001b[39;00m \u001b[38;5;28;01mas\u001b[39;00m e:\n\u001b[0;32m   4854\u001b[0m         \u001b[38;5;28mself\u001b[39m\u001b[38;5;241m.\u001b[39mdebug(e\u001b[38;5;241m.\u001b[39m\u001b[38;5;18m__class__\u001b[39m\u001b[38;5;241m.\u001b[39m\u001b[38;5;18m__name__\u001b[39m, args, kwargs)\n",
      "File \u001b[1;32mc:\\Users\\Maarten\\miniforge3\\envs\\micro-sam\\Lib\\site-packages\\omero_api_IUpdate_ice.py:163\u001b[0m, in \u001b[0;36mIUpdatePrx.saveAndReturnObject\u001b[1;34m(self, obj, _ctx)\u001b[0m\n\u001b[0;32m    162\u001b[0m \u001b[38;5;28;01mdef\u001b[39;00m \u001b[38;5;21msaveAndReturnObject\u001b[39m(\u001b[38;5;28mself\u001b[39m, obj, _ctx\u001b[38;5;241m=\u001b[39m\u001b[38;5;28;01mNone\u001b[39;00m):\n\u001b[1;32m--> 163\u001b[0m     \u001b[38;5;28;01mreturn\u001b[39;00m \u001b[43m_M_omero\u001b[49m\u001b[38;5;241;43m.\u001b[39;49m\u001b[43mapi\u001b[49m\u001b[38;5;241;43m.\u001b[39;49m\u001b[43mIUpdate\u001b[49m\u001b[38;5;241;43m.\u001b[39;49m\u001b[43m_op_saveAndReturnObject\u001b[49m\u001b[38;5;241;43m.\u001b[39;49m\u001b[43minvoke\u001b[49m\u001b[43m(\u001b[49m\u001b[38;5;28;43mself\u001b[39;49m\u001b[43m,\u001b[49m\u001b[43m \u001b[49m\u001b[43m(\u001b[49m\u001b[43m(\u001b[49m\u001b[43mobj\u001b[49m\u001b[43m,\u001b[49m\u001b[43m \u001b[49m\u001b[43m)\u001b[49m\u001b[43m,\u001b[49m\u001b[43m \u001b[49m\u001b[43m_ctx\u001b[49m\u001b[43m)\u001b[49m\u001b[43m)\u001b[49m\n",
      "\u001b[1;31mValueError\u001b[0m: invalid value for element 0 of `::omero::api::NamedValueList'"
     ]
    }
   ],
   "source": [
    "print(\"🚀 Starting annotation pipeline...\")\n",
    "print(f\"   This will process {len(images_list)} images using micro-SAM\")\n",
    "print(f\"   Model: {config.microsam.model_type}\")\n",
    "print(f\"   Napari will open for interactive annotation\")\n",
    "print(f\"   Close napari windows when annotation is complete for each batch\")\n",
    "\n",
    "try:\n",
    "    # Run the complete workflow\n",
    "    table_id, processed_images = pipeline.run_full_workflow()\n",
    "    \n",
    "    print(f\"\\n✅ Annotation pipeline completed successfully!\")\n",
    "    print(f\"📊 Processed {len(processed_images)} images\")\n",
    "    print(f\"📋 Tracking table ID: {table_id}\")\n",
    "    \n",
    "    if config.workflow.read_only_mode:\n",
    "        print(f\"💾 Annotations saved locally to: {config.workflow.local_output_dir}\")\n",
    "    else:\n",
    "        print(f\"☁️ Annotations uploaded to OMERO\")\n",
    "        \n",
    "except Exception as e:\n",
    "    print(f\"❌ Error during annotation pipeline: {e}\")\n",
    "    raise"
   ]
  },
  {
   "cell_type": "markdown",
   "metadata": {},
   "source": [
    "## 8. Display Results\n",
    "\n",
    "Let's examine the tracking table and results."
   ]
  },
  {
   "cell_type": "code",
   "execution_count": null,
   "metadata": {},
   "outputs": [],
   "source": [
    "# Display the tracking table if available\n",
    "if table_id is not None:\n",
    "    try:\n",
    "        tracking_df = ezomero.get_table(conn, table_id)\n",
    "        print(f\"📋 Tracking table contains {len(tracking_df)} rows\")\n",
    "        print(f\"✅ Processed: {tracking_df['processed'].sum()} units\")\n",
    "        print(f\"⏳ Pending: {(~tracking_df['processed']).sum()} units\")\n",
    "        \n",
    "        # Show training/validation split\n",
    "        if not config.training.segment_all:\n",
    "            train_count = tracking_df['train'].sum()\n",
    "            validate_count = tracking_df['validate'].sum() \n",
    "            print(f\"🎓 Training samples: {train_count}\")\n",
    "            print(f\"✅ Validation samples: {validate_count}\")\n",
    "        \n",
    "        # Display the table\n",
    "        print(\"\\n📊 Tracking Table:\")\n",
    "        display(tracking_df)\n",
    "        \n",
    "    except Exception as e:\n",
    "        print(f\"❌ Error retrieving tracking table: {e}\")\n",
    "else:\n",
    "    print(\"ℹ️ No tracking table was created\")"
   ]
  },
  {
   "cell_type": "markdown",
   "metadata": {},
   "source": [
    "## 9. Configuration Export/Import\n",
    "\n",
    "Save your configuration for future use or sharing."
   ]
  },
  {
   "cell_type": "code",
   "execution_count": null,
   "metadata": {},
   "outputs": [],
   "source": [
    "# Save configuration to file\n",
    "config_filename = f\"annotation_config_{trainingset_name}.yaml\"\n",
    "config.save_yaml(config_filename)\n",
    "print(f\"💾 Configuration saved to: {config_filename}\")\n",
    "\n",
    "# Display the YAML configuration\n",
    "print(\"\\n📄 YAML Configuration:\")\n",
    "print(\"=\" * 50)\n",
    "print(config.to_yaml())\n",
    "\n",
    "# Show how to load it back\n",
    "print(\"\\n🔄 To reuse this configuration:\")\n",
    "print(f\"```python\")\n",
    "print(f\"from omero_annotate_ai import load_config\")\n",
    "print(f\"config = load_config('{config_filename}')\")\n",
    "print(f\"```\")"
   ]
  },
  {
   "cell_type": "markdown",
   "metadata": {},
   "source": [
    "## 10. Advanced: Tool-Specific Parameters\n",
    "\n",
    "The package supports different AI tools with tool-specific parameters."
   ]
  },
  {
   "cell_type": "code",
   "execution_count": null,
   "metadata": {},
   "outputs": [],
   "source": [
    "# Get micro-SAM specific parameters\n",
    "microsam_params = config.get_microsam_params()\n",
    "print(f\"🔧 Micro-SAM parameters:\")\n",
    "for key, value in microsam_params.items():\n",
    "    print(f\"   {key}: {value}\")\n",
    "\n",
    "# Show configuration for different models\n",
    "print(\"\\n🤖 Available micro-SAM models:\")\n",
    "models = [\"vit_b\", \"vit_l\", \"vit_h\", \"vit_b_lm\"]\n",
    "for model in models:\n",
    "    print(f\"   • {model}\")\n",
    "\n",
    "print(f\"\\n🔬 Current model: {config.microsam.model_type}\")\n",
    "print(f\"🧠 3D processing: {config.microsam.three_d}\")\n",
    "print(f\"⏰ Timepoint mode: {config.microsam.timepoint_mode}\")\n",
    "print(f\"🔢 Z-slice mode: {config.microsam.z_slice_mode}\")"
   ]
  },
  {
   "cell_type": "markdown",
   "metadata": {},
   "source": [
    "## 11. Clean Up"
   ]
  },
  {
   "cell_type": "code",
   "execution_count": null,
   "metadata": {},
   "outputs": [],
   "source": [
    "# Clean up temporary directory\n",
    "try:\n",
    "    shutil.rmtree(output_directory)\n",
    "    print(f\"🗑️ Removed temporary directory: {output_directory}\")\n",
    "except Exception as e:\n",
    "    print(f\"⚠️ Error removing temporary directory: {e}\")\n",
    "\n",
    "# Close OMERO connection\n",
    "if 'conn' in locals() and conn is not None:\n",
    "    conn.close()\n",
    "    print(\"🔌 OMERO connection closed\")\n",
    "\n",
    "print(\"\\n✨ Workflow completed successfully!\")"
   ]
  },
  {
   "cell_type": "markdown",
   "metadata": {},
   "source": [
    "## Summary\n",
    "\n",
    "This notebook demonstrated the new `omero-annotate-ai` package features:\n",
    "\n",
    "### ✅ Improvements over the original workflow:\n",
    "- **Simplified imports**: Single package import instead of multiple module reloads\n",
    "- **Interactive configuration**: User-friendly widget with validation\n",
    "- **YAML configuration**: Save, load, and share configurations easily\n",
    "- **Micro-SAM focus**: Specialized support for micro-SAM models\n",
    "- **Clean API**: Pipeline-based approach with clear separation of concerns\n",
    "- **Better error handling**: Comprehensive validation and error messages\n",
    "- **Modular dependencies**: Install only what you need\n",
    "\n",
    "### 🚀 Next Steps:\n",
    "1. **Training**: Use the generated annotations to train custom models\n",
    "2. **Inference**: Apply trained models to new datasets\n",
    "3. **Batch processing**: Process multiple datasets with saved configurations\n",
    "4. **Model comparison**: Compare results from different micro-SAM models\n",
    "\n",
    "### 📚 Package Features:\n",
    "- **Pip installable**: `pip install -e .`\n",
    "- **Optional dependencies**: Install only needed components (`pip install -e .[omero]`)\n",
    "- **Backward compatible**: Works with existing micro-SAM workflows\n",
    "- **Extensible**: Easy to extend for additional functionality\n",
    "\n",
    "### 🔬 Micro-SAM Models:\n",
    "- **vit_b**: Fast, lightweight model\n",
    "- **vit_l**: Balanced performance and speed  \n",
    "- **vit_h**: High accuracy, slower\n",
    "- **vit_b_lm**: Specialized model variant"
   ]
  }
 ],
 "metadata": {
  "kernelspec": {
   "display_name": "Python 3",
   "language": "python",
   "name": "python3"
  },
  "language_info": {
   "codemirror_mode": {
    "name": "ipython",
    "version": 3
   },
   "file_extension": ".py",
   "mimetype": "text/x-python",
   "name": "python",
   "nbconvert_exporter": "python",
   "pygments_lexer": "ipython3",
   "version": "3.8.0"
  }
 },
 "nbformat": 4,
 "nbformat_minor": 4
}
